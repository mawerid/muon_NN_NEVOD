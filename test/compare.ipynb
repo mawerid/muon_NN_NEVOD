{
 "cells": [
  {
   "cell_type": "code",
   "execution_count": 1,
   "id": "2f87466b",
   "metadata": {
    "ExecuteTime": {
     "end_time": "2023-05-30T19:18:32.451633Z",
     "start_time": "2023-05-30T19:18:32.444380Z"
    }
   },
   "source": [
    "import pandas as pd\n",
    "import numpy as np\n",
    "import matplotlib.pyplot as plt\n",
    "import seaborn as sb\n",
    "from sklearn.model_selection import train_test_split\n",
    "# import tensorflow as tf\n",
    "# import tensorflow.keras as keras\n",
    "# from tensorflow.keras import layers\n",
    "import torch\n",
    "import torch.nn as nn\n",
    "from scipy import stats"
   ],
   "outputs": []
  },
  {
   "cell_type": "code",
   "execution_count": 2,
   "id": "812420ea",
   "metadata": {},
   "source": [
    "sb.set_theme()"
   ],
   "outputs": []
  },
  {
   "attachments": {},
   "cell_type": "markdown",
   "id": "4a11d9da",
   "metadata": {},
   "source": [
    "# Prepare datasets"
   ]
  },
  {
   "cell_type": "code",
   "execution_count": 3,
   "id": "0d451e70",
   "metadata": {
    "ExecuteTime": {
     "end_time": "2023-05-30T19:18:37.389222Z",
     "start_time": "2023-05-30T19:18:34.153899Z"
    }
   },
   "source": [
    "df_x = pd.read_csv('../data/dataset_02/data.csv')\n",
    "df_y = pd.read_csv('../data/dataset_02/answer.csv')"
   ],
   "outputs": []
  },
  {
   "cell_type": "code",
   "execution_count": 4,
   "id": "1eb584e6",
   "metadata": {
    "ExecuteTime": {
     "end_time": "2023-05-30T13:09:26.081346Z",
     "start_time": "2023-05-30T13:09:25.136956Z"
    }
   },
   "source": [
    "df_x = df_x.drop(labels=['Unnamed: 0'], axis=1)\n",
    "df_x"
   ],
   "outputs": []
  },
  {
   "cell_type": "code",
   "execution_count": 5,
   "id": "a4110f01",
   "metadata": {
    "ExecuteTime": {
     "end_time": "2023-05-30T13:09:26.097028Z",
     "start_time": "2023-05-30T13:09:26.083292Z"
    }
   },
   "source": [
    "df_y = df_y.drop(labels=['Unnamed: 0'], axis=1)\n",
    "df_y"
   ],
   "outputs": []
  },
  {
   "cell_type": "code",
   "execution_count": 6,
   "id": "6350809d",
   "metadata": {
    "ExecuteTime": {
     "end_time": "2023-05-30T13:09:26.543293Z",
     "start_time": "2023-05-30T13:09:26.100180Z"
    }
   },
   "source": [
    "df = pd.concat([df_x, df_y], axis=1)\n",
    "df"
   ],
   "outputs": []
  },
  {
   "cell_type": "code",
   "execution_count": 7,
   "id": "937d0d41",
   "metadata": {
    "ExecuteTime": {
     "end_time": "2023-05-30T13:09:26.548333Z",
     "start_time": "2023-05-30T13:09:26.545139Z"
    }
   },
   "source": [
    "labels = [str(i) for i in range(672)]"
   ],
   "outputs": []
  },
  {
   "cell_type": "code",
   "execution_count": 8,
   "id": "929fc843",
   "metadata": {
    "ExecuteTime": {
     "end_time": "2023-05-30T13:09:32.657908Z",
     "start_time": "2023-05-30T13:09:26.550186Z"
    }
   },
   "source": [
    "df = df.drop_duplicates(subset=labels, ignore_index=True)\n",
    "df"
   ],
   "outputs": []
  },
  {
   "cell_type": "code",
   "execution_count": 9,
   "id": "5955c2c5",
   "metadata": {
    "ExecuteTime": {
     "end_time": "2023-05-30T13:09:33.009212Z",
     "start_time": "2023-05-30T13:09:32.661484Z"
    }
   },
   "source": [
    "df_x = df.drop(labels=['x1', 'y1', 'z1', 'x2', 'y2', 'z2'], axis=1)\n",
    "df_x"
   ],
   "outputs": []
  },
  {
   "cell_type": "code",
   "execution_count": 10,
   "id": "cace89d2",
   "metadata": {
    "ExecuteTime": {
     "end_time": "2023-05-30T13:09:33.035612Z",
     "start_time": "2023-05-30T13:09:33.011913Z"
    }
   },
   "source": [
    "df_y = df.drop(labels=labels, axis=1)\n",
    "df_y"
   ],
   "outputs": []
  },
  {
   "cell_type": "code",
   "execution_count": 11,
   "id": "1fdc896d",
   "metadata": {
    "ExecuteTime": {
     "end_time": "2023-05-30T13:34:20.423337Z",
     "start_time": "2023-05-30T13:34:20.415768Z"
    }
   },
   "source": [
    "df_x = np.reshape(df_x.to_numpy(), (-1, 24, 28, 1))\n",
    "df_x.shape"
   ],
   "outputs": []
  },
  {
   "cell_type": "code",
   "execution_count": 12,
   "id": "0471069b",
   "metadata": {
    "ExecuteTime": {
     "end_time": "2023-05-30T13:34:17.040382Z",
     "start_time": "2023-05-30T13:34:17.029614Z"
    }
   },
   "source": [
    "df_y = df_y.to_numpy()\n",
    "df_y"
   ],
   "outputs": []
  },
  {
   "cell_type": "code",
   "execution_count": 13,
   "id": "31131600",
   "metadata": {
    "ExecuteTime": {
     "end_time": "2023-05-30T13:34:25.689747Z",
     "start_time": "2023-05-30T13:34:25.419498Z"
    }
   },
   "source": [
    "train_x, test_x, train_y, test_y = train_test_split(df_x, df_y, train_size=0.9)\n",
    "\n",
    "train_x, valid_x, train_y, valid_y = train_test_split(train_x,\n",
    "                                                    train_y,\n",
    "                                                    test_size=0.33)"
   ],
   "outputs": []
  },
  {
   "cell_type": "code",
   "execution_count": 14,
   "id": "6e781652",
   "metadata": {
    "ExecuteTime": {
     "end_time": "2023-05-30T13:34:26.483956Z",
     "start_time": "2023-05-30T13:34:26.473597Z"
    },
    "scrolled": true
   },
   "source": [
    "print(train_x.shape), print(train_y.shape)\n",
    "print(valid_x.shape), print(valid_y.shape)\n",
    "print(test_x.shape), print(test_y.shape)"
   ],
   "outputs": []
  },
  {
   "attachments": {},
   "cell_type": "markdown",
   "id": "f752f600",
   "metadata": {},
   "source": [
    "# TensorFlow"
   ]
  },
  {
   "cell_type": "code",
   "execution_count": 28,
   "id": "b4a50d82",
   "metadata": {
    "ExecuteTime": {
     "end_time": "2023-05-30T13:09:40.050793Z",
     "start_time": "2023-05-30T13:09:39.479419Z"
    }
   },
   "source": [
    "model_tf = keras.Sequential([\n",
    "    keras.Input(shape=(24, 28, 1)),\n",
    "    layers.Conv2D(32, (7, 7), activation=\"relu\", data_format='channels_last'),\n",
    "    layers.MaxPooling2D((2, 2), strides=2),\n",
    "    layers.Conv2D(64, (3, 3), activation=\"relu\", data_format='channels_last'),\n",
    "    layers.MaxPooling2D((2, 2), strides=2),\n",
    "    layers.Flatten(),\n",
    "    layers.Dense(128, activation='relu'),\n",
    "    layers.Dense(64, activation='relu'),\n",
    "    layers.Dense(64, activation='relu'),\n",
    "    layers.Dense(64, activation='relu'),\n",
    "    layers.Dense(6, activation='linear')\n",
    "])"
   ],
   "outputs": []
  },
  {
   "cell_type": "code",
   "execution_count": 29,
   "id": "5f3754dc",
   "metadata": {
    "ExecuteTime": {
     "end_time": "2023-05-30T13:09:46.956402Z",
     "start_time": "2023-05-30T13:09:46.914837Z"
    }
   },
   "source": [
    "model_tf.compile(optimizer=keras.optimizers.Adam(),\n",
    "              loss=keras.losses.MeanSquaredError(),\n",
    "              metrics=[keras.metrics.MeanSquaredError()])"
   ],
   "outputs": []
  },
  {
   "cell_type": "code",
   "execution_count": 30,
   "id": "212c5517",
   "metadata": {
    "ExecuteTime": {
     "end_time": "2023-05-30T13:11:40.431445Z",
     "start_time": "2023-05-30T13:11:40.299318Z"
    }
   },
   "source": [
    "model_tf.load_weights(\"../logs/weights_model_02/Weights-026--22.49820.hdf5\")"
   ],
   "outputs": []
  },
  {
   "attachments": {},
   "cell_type": "markdown",
   "id": "da2d548f",
   "metadata": {},
   "source": [
    "# Prepare data for Torch"
   ]
  },
  {
   "cell_type": "code",
   "execution_count": 15,
   "id": "5527f62f",
   "metadata": {
    "ExecuteTime": {
     "end_time": "2023-05-30T13:34:31.915032Z",
     "start_time": "2023-05-30T13:34:31.898659Z"
    }
   },
   "source": [
    "df_x = np.reshape(df_x, (-1, 1, 24, 28))\n",
    "df_x.shape"
   ],
   "outputs": []
  },
  {
   "cell_type": "code",
   "execution_count": 16,
   "id": "7bc23ade",
   "metadata": {
    "ExecuteTime": {
     "end_time": "2023-05-30T13:52:40.873938Z",
     "start_time": "2023-05-30T13:52:39.918056Z"
    }
   },
   "source": [
    "train_x, test_x, train_y, test_y = train_test_split(df_x, df_y, train_size=0.9)\n",
    "\n",
    "train_x, valid_x, train_y, valid_y = train_test_split(train_x,\n",
    "                                                    train_y,\n",
    "                                                    test_size=0.33)"
   ],
   "outputs": []
  },
  {
   "cell_type": "code",
   "execution_count": 17,
   "id": "5254e1e8",
   "metadata": {
    "ExecuteTime": {
     "end_time": "2023-05-30T13:52:41.401645Z",
     "start_time": "2023-05-30T13:52:41.382405Z"
    }
   },
   "source": [
    "print(train_x.shape), print(train_y.shape)\n",
    "print(valid_x.shape), print(valid_y.shape)\n",
    "print(test_x.shape), print(test_y.shape)"
   ],
   "outputs": []
  },
  {
   "cell_type": "code",
   "execution_count": 18,
   "id": "71c37c66",
   "metadata": {
    "ExecuteTime": {
     "end_time": "2023-05-30T13:52:45.268240Z",
     "start_time": "2023-05-30T13:52:45.206561Z"
    }
   },
   "source": [
    "train_x_t = torch.tensor(train_x).float()\n",
    "train_y_t = torch.tensor(train_y).float()\n",
    "valid_x_t = torch.tensor(valid_x).float()\n",
    "valid_y_t = torch.tensor(valid_y).float()\n",
    "test_x_t = torch.tensor(test_x).float()\n",
    "test_y_t = torch.tensor(test_y).float()"
   ],
   "outputs": []
  },
  {
   "attachments": {},
   "cell_type": "markdown",
   "id": "1c08567d",
   "metadata": {},
   "source": [
    "# Torch"
   ]
  },
  {
   "cell_type": "code",
   "execution_count": 19,
   "id": "718d8ed8",
   "metadata": {
    "ExecuteTime": {
     "end_time": "2023-05-30T13:52:13.831557Z",
     "start_time": "2023-05-30T13:52:13.813406Z"
    }
   },
   "source": [
    "class Model(nn.Module):\n",
    "    def __init__(self):\n",
    "        super(Model, self).__init__()\n",
    "        self.conv_1 = nn.Conv2d(1, 32, 7)\n",
    "        self.max_pool_1 = nn.MaxPool2d(2, stride=2)\n",
    "        self.conv_2 = nn.Conv2d(32, 64, 3)\n",
    "        self.max_pool_2 = nn.MaxPool2d(2, stride=2)\n",
    "        self.hidden_1 = nn.Linear(768, 128)\n",
    "        self.hidden_2 = nn.Linear(128, 64)\n",
    "        self.hidden_3 = nn.Linear(64, 64)\n",
    "        self.hidden_4 = nn.Linear(64, 64)\n",
    "        self.output = nn.Linear(64, 6)\n",
    "\n",
    "    def forward(self, x):\n",
    "        x = torch.relu(self.conv_1(x))\n",
    "        x = self.max_pool_1(x)\n",
    "        x = torch.relu(self.conv_2(x))\n",
    "        x = self.max_pool_2(x)\n",
    "        x = torch.reshape(x, (x.shape[0], 768))\n",
    "        x = torch.relu(self.hidden_1(x))\n",
    "        x = torch.relu(self.hidden_2(x))\n",
    "        x = torch.relu(self.hidden_3(x))\n",
    "        x = torch.relu(self.hidden_4(x))\n",
    "        output = self.output(x)\n",
    "        return output"
   ],
   "outputs": []
  },
  {
   "cell_type": "code",
   "execution_count": 20,
   "id": "bb1dc1f1",
   "metadata": {
    "ExecuteTime": {
     "end_time": "2023-05-30T13:52:14.753184Z",
     "start_time": "2023-05-30T13:52:14.750107Z"
    }
   },
   "source": [
    "loss_function = nn.MSELoss()"
   ],
   "outputs": []
  },
  {
   "attachments": {},
   "cell_type": "markdown",
   "id": "086b5757",
   "metadata": {},
   "source": [
    "# Analysis"
   ]
  },
  {
   "cell_type": "code",
   "execution_count": 44,
   "id": "25d03fad",
   "metadata": {
    "ExecuteTime": {
     "end_time": "2023-05-30T13:17:05.653552Z",
     "start_time": "2023-05-30T13:17:04.638631Z"
    },
    "collapsed": true
   },
   "source": [
    "out = model_tf.evaluate(test_x, test_y, batch_size=64)\n",
    "out = np.array(out)\n",
    "out[0]"
   ],
   "outputs": []
  },
  {
   "cell_type": "code",
   "execution_count": 21,
   "id": "7cd0ba91",
   "metadata": {
    "ExecuteTime": {
     "end_time": "2023-05-30T13:52:20.193690Z",
     "start_time": "2023-05-30T13:52:20.175533Z"
    }
   },
   "source": [
    "model = Model()\n",
    "model.load_state_dict(torch.load(\"../logs/weights_model_03/model_state_adam_02.pt\"))"
   ],
   "outputs": []
  },
  {
   "cell_type": "code",
   "execution_count": 22,
   "id": "d3cddcc3",
   "metadata": {
    "ExecuteTime": {
     "end_time": "2023-05-30T13:52:51.478547Z",
     "start_time": "2023-05-30T13:52:51.470055Z"
    }
   },
   "source": [
    "model.eval()"
   ],
   "outputs": []
  },
  {
   "cell_type": "code",
   "execution_count": 23,
   "id": "da6de394",
   "metadata": {
    "ExecuteTime": {
     "end_time": "2023-05-30T14:43:53.920223Z",
     "start_time": "2023-05-30T14:43:53.385408Z"
    }
   },
   "source": [
    "valid_loss = 0.0\n",
    "batch_size = 64\n",
    "for i in range(0, valid_x_t.size()[0], batch_size):\n",
    "        data = valid_x_t[i:i + batch_size]\n",
    "        target = valid_y_t[i:i + batch_size]\n",
    "\n",
    "        prediction = model(data)\n",
    "        loss = loss_function(prediction, target)\n",
    "        valid_loss += loss.item()\n",
    "valid_loss / len(valid_y_t)"
   ],
   "outputs": []
  },
  {
   "cell_type": "code",
   "execution_count": 24,
   "id": "1dad8c6c",
   "metadata": {
    "ExecuteTime": {
     "end_time": "2023-05-30T14:43:54.965781Z",
     "start_time": "2023-05-30T14:43:54.677917Z"
    }
   },
   "source": [
    "test_loss = 0.0\n",
    "batch_size = 64\n",
    "for i in range(0, test_x_t.size()[0], batch_size):\n",
    "        data = test_x_t[i:i + batch_size]\n",
    "        target = test_y_t[i:i + batch_size]\n",
    "\n",
    "        prediction = model(data)\n",
    "        loss = loss_function(prediction, target)\n",
    "        test_loss += loss.item()\n",
    "test_loss / len(test_y_t)"
   ],
   "outputs": []
  },
  {
   "cell_type": "code",
   "execution_count": 25,
   "id": "e115f4ec",
   "metadata": {
    "ExecuteTime": {
     "end_time": "2023-05-30T14:44:57.623628Z",
     "start_time": "2023-05-30T14:44:57.404956Z"
    }
   },
   "source": [
    "prediction = model(test_x_t)"
   ],
   "outputs": []
  },
  {
   "cell_type": "code",
   "execution_count": 26,
   "id": "54680646",
   "metadata": {
    "ExecuteTime": {
     "end_time": "2023-05-30T14:46:09.446008Z",
     "start_time": "2023-05-30T14:46:09.437223Z"
    }
   },
   "source": [
    "prediction = prediction.detach().numpy()"
   ],
   "outputs": []
  },
  {
   "cell_type": "code",
   "execution_count": 27,
   "id": "245f91e3",
   "metadata": {
    "ExecuteTime": {
     "end_time": "2023-05-30T14:46:48.741988Z",
     "start_time": "2023-05-30T14:46:48.738342Z"
    }
   },
   "source": [
    "truth = test_y_t.detach().numpy()"
   ],
   "outputs": []
  },
  {
   "cell_type": "code",
   "execution_count": 54,
   "id": "235aeb52",
   "metadata": {
    "ExecuteTime": {
     "end_time": "2023-05-30T18:46:32.972883Z",
     "start_time": "2023-05-30T18:46:32.887417Z"
    }
   },
   "source": [
    "delta = []\n",
    "for pred, tr in zip(prediction, truth):\n",
    "    abs_pred = np.array([pred[3] - pred[0], pred[4] - pred[1], pred[5] - pred[1]])\n",
    "    abs_tr = np.array([tr[3] - tr[0], tr[4] - tr[1], tr[5] - tr[1]])\n",
    "    pred_norm = np.sqrt(np.sum(np.square(abs_pred)))\n",
    "    tr_norm = np.sqrt(np.sum(np.square(abs_tr)))\n",
    "    cos = np.sum(abs_pred * abs_tr) / (pred_norm * tr_norm)\n",
    "    delta.append(cos)"
   ],
   "outputs": []
  },
  {
   "cell_type": "code",
   "execution_count": 55,
   "id": "0f28da95",
   "metadata": {
    "ExecuteTime": {
     "end_time": "2023-05-30T18:48:48.034593Z",
     "start_time": "2023-05-30T18:48:48.028906Z"
    }
   },
   "source": [
    "delta = np.arccos(np.array(delta))\n",
    "delta"
   ],
   "outputs": []
  },
  {
   "cell_type": "code",
   "execution_count": 30,
   "id": "1c01620c",
   "metadata": {
    "ExecuteTime": {
     "end_time": "2023-05-30T18:48:49.321808Z",
     "start_time": "2023-05-30T18:48:49.317729Z"
    }
   },
   "source": [
    "# for i in range(len(delta)):\n",
    "#     if delta[i] >= 0:\n",
    "#         delta[i] = np.arccos(delta[i])\n",
    "#     else:\n",
    "#         delta[i] = -np.arccos(delta[i])"
   ],
   "outputs": []
  },
  {
   "cell_type": "code",
   "execution_count": 31,
   "id": "2cc5b804",
   "metadata": {
    "ExecuteTime": {
     "end_time": "2023-05-30T18:48:50.029578Z",
     "start_time": "2023-05-30T18:48:50.005305Z"
    }
   },
   "source": [
    "pd.DataFrame(delta).describe()"
   ],
   "outputs": []
  },
  {
   "cell_type": "code",
   "execution_count": 56,
   "id": "ac7958cd",
   "metadata": {
    "ExecuteTime": {
     "end_time": "2023-05-30T18:48:50.822793Z",
     "start_time": "2023-05-30T18:48:50.778324Z"
    }
   },
   "source": [
    "for i in range(len(delta)):\n",
    "    if delta[i] > np.pi:\n",
    "        delta[i] %= np.pi\n",
    "    elif delta[i] < -np.pi:\n",
    "        delta[i] %= np.pi\n",
    "    elif delta[i] > np.pi/2:\n",
    "        delta[i] -= np.pi/2\n",
    "    elif delta[i] < -np.pi/2:\n",
    "        delta[i] += np.pi/2"
   ],
   "outputs": []
  },
  {
   "cell_type": "code",
   "execution_count": 57,
   "id": "c68f1a20",
   "metadata": {
    "ExecuteTime": {
     "end_time": "2023-05-30T18:48:51.427562Z",
     "start_time": "2023-05-30T18:48:51.410295Z"
    }
   },
   "source": [
    "delta.shape"
   ],
   "outputs": []
  },
  {
   "cell_type": "code",
   "execution_count": 58,
   "id": "9028d86e",
   "metadata": {
    "ExecuteTime": {
     "end_time": "2023-05-30T18:48:51.962960Z",
     "start_time": "2023-05-30T18:48:51.949010Z"
    }
   },
   "source": [
    "delta = delta.reshape((1997, 1))\n",
    "delta"
   ],
   "outputs": []
  },
  {
   "cell_type": "code",
   "execution_count": 35,
   "id": "65ff509e",
   "metadata": {
    "ExecuteTime": {
     "end_time": "2023-05-30T18:48:52.594771Z",
     "start_time": "2023-05-30T18:48:52.567425Z"
    }
   },
   "source": [
    "pd.DataFrame(delta).describe()"
   ],
   "outputs": []
  },
  {
   "cell_type": "code",
   "execution_count": 36,
   "id": "6837f925",
   "metadata": {
    "ExecuteTime": {
     "end_time": "2023-05-30T18:48:53.497836Z",
     "start_time": "2023-05-30T18:48:53.434774Z"
    },
    "scrolled": true
   },
   "source": [
    "tmp = []\n",
    "for tr in truth:\n",
    "    t = np.array([tr[3] - tr[0], tr[4] - tr[1], tr[5] - tr[1]])\n",
    "    t = t / np.sqrt(np.sum(np.square(t)))\n",
    "    tmp.append(np.array([np.arccos(t[2]), np.arctan(t[1]/t[0]) + np.pi/2]))\n",
    "tmp = np.array(tmp)\n",
    "tmp"
   ],
   "outputs": []
  },
  {
   "cell_type": "code",
   "execution_count": 37,
   "id": "99cf63f0",
   "metadata": {
    "ExecuteTime": {
     "end_time": "2023-05-30T18:48:54.190447Z",
     "start_time": "2023-05-30T18:48:54.176014Z"
    }
   },
   "source": [
    "al = np.concatenate((tmp, delta), axis=1)\n",
    "al"
   ],
   "outputs": []
  },
  {
   "cell_type": "code",
   "execution_count": 38,
   "id": "04a09b2e",
   "metadata": {
    "ExecuteTime": {
     "end_time": "2023-05-30T18:48:55.210072Z",
     "start_time": "2023-05-30T18:48:55.199694Z"
    }
   },
   "source": [
    "al = pd.DataFrame(al, columns=[\"theta\", \"phi\", \"Относительное смещение, радианы\"])"
   ],
   "outputs": []
  },
  {
   "cell_type": "code",
   "execution_count": 39,
   "id": "2b43e0d0",
   "metadata": {
    "ExecuteTime": {
     "end_time": "2023-05-30T18:48:55.998971Z",
     "start_time": "2023-05-30T18:48:55.962657Z"
    }
   },
   "source": [
    "al.describe()"
   ],
   "outputs": []
  },
  {
   "cell_type": "code",
   "execution_count": 40,
   "id": "8676b3ad",
   "metadata": {
    "ExecuteTime": {
     "end_time": "2023-05-30T18:48:56.637963Z",
     "start_time": "2023-05-30T18:48:56.613738Z"
    }
   },
   "source": [
    "t_1 = al[(al[\"theta\"] >= 0.0) & (al[\"theta\"] < np.pi/3)][\"Относительное смещение, радианы\"]\n",
    "t_2 = al[(al[\"theta\"] >= np.pi/3) & (al[\"theta\"] < 2*np.pi/3)][\"Относительное смещение, радианы\"]\n",
    "t_3 = al[(al[\"theta\"] >= 2*np.pi/3) & (al[\"theta\"] < np.pi)][\"Относительное смещение, радианы\"]\n",
    "p_1 = al[(al[\"phi\"] >= 0.0) & (al[\"phi\"] < np.pi/3)][\"Относительное смещение, радианы\"]\n",
    "p_2 = al[(al[\"phi\"] >= np.pi/3) & (al[\"phi\"] < 2*np.pi/3)][\"Относительное смещение, радианы\"]\n",
    "p_3 = al[(al[\"phi\"] >= 2*np.pi/3) & (al[\"phi\"] < np.pi)][\"Относительное смещение, радианы\"]"
   ],
   "outputs": []
  },
  {
   "cell_type": "code",
   "execution_count": null,
   "id": "e738f639",
   "metadata": {},
   "source": [],
   "outputs": []
  },
  {
   "cell_type": "code",
   "execution_count": 41,
   "id": "128f7490",
   "metadata": {
    "ExecuteTime": {
     "end_time": "2023-05-30T18:50:29.246813Z",
     "start_time": "2023-05-30T18:50:28.922288Z"
    }
   },
   "source": [
    "sb.displot(x=pd.DataFrame(set(t_2) & set(p_1), columns=[\"Сектор 11\"])[\"Сектор 11\"], kind=\"hist\")\n",
    "plt.ylabel(\"Плотность распределения\")"
   ],
   "outputs": []
  },
  {
   "cell_type": "code",
   "execution_count": 42,
   "id": "70bd9c56",
   "metadata": {
    "ExecuteTime": {
     "end_time": "2023-05-30T19:52:55.294125Z",
     "start_time": "2023-05-30T19:52:55.281558Z"
    }
   },
   "source": [
    "pd.DataFrame(set(t_1) & set(p_1))"
   ],
   "outputs": []
  },
  {
   "cell_type": "code",
   "execution_count": 64,
   "id": "4fe87710",
   "metadata": {
    "ExecuteTime": {
     "end_time": "2023-05-30T19:55:58.923423Z",
     "start_time": "2023-05-30T19:55:58.893579Z"
    }
   },
   "source": [
    "t.hist(figsize=(15, 10) )"
   ],
   "outputs": []
  },
  {
   "cell_type": "code",
   "execution_count": 66,
   "id": "a0ac703e",
   "metadata": {},
   "source": [
    "t.boxplot(figsize=(15, 10))\n",
    "plt.ylabel(\"Уголовое смещение, радианы\")"
   ],
   "outputs": []
  },
  {
   "cell_type": "code",
   "execution_count": 63,
   "id": "0ac94d80",
   "metadata": {
    "ExecuteTime": {
     "end_time": "2023-05-30T19:55:54.891846Z",
     "start_time": "2023-05-30T19:55:54.855477Z"
    }
   },
   "source": [
    "t = pd.concat([pd.DataFrame(set(t_1) & set(p_1), columns=[\"Сектор 11\"]),\n",
    "                 pd.DataFrame(set(t_1) & set(p_2), columns=[\"Сектор 12\"]),\n",
    "                 pd.DataFrame(set(t_1) & set(p_3), columns=[\"Сектор 13\"]),\n",
    "                 pd.DataFrame(set(t_2) & set(p_1), columns=[\"Сектор 21\"]),\n",
    "                 pd.DataFrame(set(t_2) & set(p_2), columns=[\"Сектор 22\"]),\n",
    "                 pd.DataFrame(set(t_2) & set(p_3), columns=[\"Сектор 23\"]),\n",
    "                 pd.DataFrame(set(t_3) & set(p_1), columns=[\"Сектор 31\"]),\n",
    "                 pd.DataFrame(set(t_3) & set(p_2), columns=[\"Сектор 32\"]),\n",
    "                 pd.DataFrame(set(t_3) & set(p_3), columns=[\"Сектор 33\"])], axis=1)"
   ],
   "outputs": []
  },
  {
   "cell_type": "code",
   "execution_count": 42,
   "id": "088fa229",
   "metadata": {
    "ExecuteTime": {
     "end_time": "2023-05-30T17:55:42.492502Z",
     "start_time": "2023-05-30T17:55:42.477095Z"
    }
   },
   "source": [
    "pd.DataFrame(set(t_1) & set(p_1)).describe()"
   ],
   "outputs": []
  },
  {
   "cell_type": "code",
   "execution_count": 59,
   "id": "b8c61a86",
   "metadata": {
    "ExecuteTime": {
     "end_time": "2023-05-30T19:46:28.573044Z",
     "start_time": "2023-05-30T19:46:28.553921Z"
    }
   },
   "source": [
    "delta = pd.DataFrame(delta, columns=[\"Относительное смещение\"])"
   ],
   "outputs": []
  },
  {
   "cell_type": "code",
   "execution_count": 60,
   "id": "7850008b",
   "metadata": {
    "ExecuteTime": {
     "end_time": "2023-05-30T19:46:29.757054Z",
     "start_time": "2023-05-30T19:46:29.740656Z"
    }
   },
   "source": [
    "delta"
   ],
   "outputs": []
  },
  {
   "cell_type": "code",
   "execution_count": 61,
   "id": "a5adc61b",
   "metadata": {
    "ExecuteTime": {
     "end_time": "2023-05-30T19:46:31.685865Z",
     "start_time": "2023-05-30T19:46:31.344308Z"
    }
   },
   "source": [
    "sb.displot(x=delta[\"Относительное смещение, радианы\"], kind=\"hist\")\n",
    "plt.ylabel(\"Плотность распределения\")"
   ],
   "outputs": []
  },
  {
   "cell_type": "code",
   "execution_count": 419,
   "id": "c84ec4d8",
   "metadata": {
    "ExecuteTime": {
     "end_time": "2023-05-30T19:46:32.187096Z",
     "start_time": "2023-05-30T19:46:32.165521Z"
    }
   },
   "source": [
    "delta.std()"
   ],
   "outputs": []
  },
  {
   "cell_type": "code",
   "execution_count": 420,
   "id": "6fe8aca4",
   "metadata": {
    "ExecuteTime": {
     "end_time": "2023-05-30T19:46:33.432747Z",
     "start_time": "2023-05-30T19:46:33.422283Z"
    }
   },
   "source": [
    "delta.mean()"
   ],
   "outputs": []
  },
  {
   "cell_type": "code",
   "execution_count": 62,
   "id": "20c46828",
   "metadata": {
    "ExecuteTime": {
     "end_time": "2023-05-30T19:46:34.311481Z",
     "start_time": "2023-05-30T19:46:34.115089Z"
    }
   },
   "source": [
    "sb.boxplot(delta)\n",
    "plt.ylabel(\"Угловое смещение, радианы\")"
   ],
   "outputs": []
  },
  {
   "cell_type": "code",
   "execution_count": 422,
   "id": "737163d5",
   "metadata": {
    "ExecuteTime": {
     "end_time": "2023-05-30T19:46:34.866578Z",
     "start_time": "2023-05-30T19:46:34.855459Z"
    }
   },
   "source": [
    "from scipy.stats import shapiro\n",
    "from scipy.stats import normaltest"
   ],
   "outputs": []
  },
  {
   "cell_type": "code",
   "execution_count": 423,
   "id": "323f63d4",
   "metadata": {
    "ExecuteTime": {
     "end_time": "2023-05-30T19:46:36.290389Z",
     "start_time": "2023-05-30T19:46:36.273624Z"
    }
   },
   "source": [
    "shapiro(delta)"
   ],
   "outputs": []
  },
  {
   "cell_type": "code",
   "execution_count": 424,
   "id": "eea95cab",
   "metadata": {
    "ExecuteTime": {
     "end_time": "2023-05-30T19:46:37.074340Z",
     "start_time": "2023-05-30T19:46:37.043979Z"
    }
   },
   "source": [
    "normaltest(delta)"
   ],
   "outputs": []
  },
  {
   "cell_type": "code",
   "execution_count": 425,
   "id": "a19d2716",
   "metadata": {
    "ExecuteTime": {
     "end_time": "2023-05-30T19:46:37.575978Z",
     "start_time": "2023-05-30T19:46:37.567978Z"
    }
   },
   "source": [
    "0.4/np.pi * 360"
   ],
   "outputs": []
  },
  {
   "cell_type": "code",
   "execution_count": 442,
   "id": "1cf0453c",
   "metadata": {
    "ExecuteTime": {
     "end_time": "2023-05-30T19:57:11.464056Z",
     "start_time": "2023-05-30T19:57:10.882004Z"
    }
   },
   "source": [
    "from joypy import joyplot\n",
    "\n",
    "joyplot(t, colormap=sb.color_palette(\"crest\", as_cmap=True));\n",
    "plt.xlabel('Угловое смещение, радианы');\n",
    "plt.title(\"Распределение по секторам\");"
   ],
   "outputs": []
  },
  {
   "cell_type": "code",
   "execution_count": 455,
   "id": "0d0a7f71",
   "metadata": {
    "ExecuteTime": {
     "end_time": "2023-05-30T20:03:16.236647Z",
     "start_time": "2023-05-30T20:03:15.873446Z"
    }
   },
   "source": [
    "sb.color_palette(palette='colorblind')\n",
    "t.boxplot(figsize=(15, 10))\n",
    "plt.ylabel(\"Угловое смещение, радианы\")"
   ],
   "outputs": []
  },
  {
   "cell_type": "code",
   "execution_count": null,
   "id": "196d7516",
   "metadata": {},
   "source": [],
   "outputs": []
  }
 ],
 "metadata": {
  "kernelspec": {
   "display_name": "Python 3 (ipykernel)",
   "language": "python",
   "name": "python3"
  },
  "language_info": {
   "codemirror_mode": {
    "name": "ipython",
    "version": 3
   },
   "file_extension": ".py",
   "mimetype": "text/x-python",
   "name": "python",
   "nbconvert_exporter": "python",
   "pygments_lexer": "ipython3",
   "version": "3.9.18"
  }
 },
 "nbformat": 4,
 "nbformat_minor": 5
}
