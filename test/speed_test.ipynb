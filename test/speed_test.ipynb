{
 "cells": [
  {
   "cell_type": "code",
   "execution_count": 68,
   "id": "initial_id",
   "metadata": {
    "collapsed": true,
    "ExecuteTime": {
     "end_time": "2024-01-21T06:03:37.453176914Z",
     "start_time": "2024-01-21T06:03:37.440235092Z"
    }
   },
   "outputs": [],
   "source": [
    "import numpy as np\n",
    "import pandas as pd\n",
    "import matplotlib.pyplot as plt"
   ]
  },
  {
   "cell_type": "code",
   "outputs": [
    {
     "data": {
      "text/plain": "            Time\n0       2.646813\n1       0.018754\n2       0.048918\n3       0.045920\n4       0.017986\n...          ...\n127995  0.020775\n127996  0.026064\n127997  0.029622\n127998  0.021769\n127999  0.021155\n\n[128000 rows x 1 columns]",
      "text/html": "<div>\n<style scoped>\n    .dataframe tbody tr th:only-of-type {\n        vertical-align: middle;\n    }\n\n    .dataframe tbody tr th {\n        vertical-align: top;\n    }\n\n    .dataframe thead th {\n        text-align: right;\n    }\n</style>\n<table border=\"1\" class=\"dataframe\">\n  <thead>\n    <tr style=\"text-align: right;\">\n      <th></th>\n      <th>Time</th>\n    </tr>\n  </thead>\n  <tbody>\n    <tr>\n      <th>0</th>\n      <td>2.646813</td>\n    </tr>\n    <tr>\n      <th>1</th>\n      <td>0.018754</td>\n    </tr>\n    <tr>\n      <th>2</th>\n      <td>0.048918</td>\n    </tr>\n    <tr>\n      <th>3</th>\n      <td>0.045920</td>\n    </tr>\n    <tr>\n      <th>4</th>\n      <td>0.017986</td>\n    </tr>\n    <tr>\n      <th>...</th>\n      <td>...</td>\n    </tr>\n    <tr>\n      <th>127995</th>\n      <td>0.020775</td>\n    </tr>\n    <tr>\n      <th>127996</th>\n      <td>0.026064</td>\n    </tr>\n    <tr>\n      <th>127997</th>\n      <td>0.029622</td>\n    </tr>\n    <tr>\n      <th>127998</th>\n      <td>0.021769</td>\n    </tr>\n    <tr>\n      <th>127999</th>\n      <td>0.021155</td>\n    </tr>\n  </tbody>\n</table>\n<p>128000 rows × 1 columns</p>\n</div>"
     },
     "execution_count": 69,
     "metadata": {},
     "output_type": "execute_result"
    }
   ],
   "source": [
    "names = [80, 96, 112, 128]\n",
    "\n",
    "time = pd.DataFrame()\n",
    "\n",
    "for name in names:\n",
    "    dataframe = pd.read_csv(f'../raw_data/dataset_03/log_200_{name}000.txt', sep='\\t', header=None)\n",
    "    extracted_info = dataframe[18].str.extract(r'User=(\\d+\\.\\d+)s Real=(\\d+\\.\\d+)s Sys=(\\d+\\.\\d+)s \\[Cpu=(\\d+\\.\\d+)%\\]')\n",
    "    extracted_info.columns = ['User', 'Real', 'Sys', 'Cpu']\n",
    "    time = pd.concat([time, extracted_info.Real.astype(float)], ignore_index=True)\n",
    "\n",
    "time = pd.concat([time, time], ignore_index=True)\n",
    "time.columns = [\"Time\"]\n",
    "\n",
    "time"
   ],
   "metadata": {
    "collapsed": false,
    "ExecuteTime": {
     "end_time": "2024-01-21T06:03:38.540366113Z",
     "start_time": "2024-01-21T06:03:37.880526857Z"
    }
   },
   "id": "340025a613596b25",
   "execution_count": 69
  },
  {
   "cell_type": "code",
   "outputs": [
    {
     "data": {
      "text/plain": "                Time\ncount  126472.000000\nmean        0.036950\nstd         0.021096\nmin         0.012507\n25%         0.024873\n50%         0.030607\n75%         0.041018\nmax         0.199909",
      "text/html": "<div>\n<style scoped>\n    .dataframe tbody tr th:only-of-type {\n        vertical-align: middle;\n    }\n\n    .dataframe tbody tr th {\n        vertical-align: top;\n    }\n\n    .dataframe thead th {\n        text-align: right;\n    }\n</style>\n<table border=\"1\" class=\"dataframe\">\n  <thead>\n    <tr style=\"text-align: right;\">\n      <th></th>\n      <th>Time</th>\n    </tr>\n  </thead>\n  <tbody>\n    <tr>\n      <th>count</th>\n      <td>126472.000000</td>\n    </tr>\n    <tr>\n      <th>mean</th>\n      <td>0.036950</td>\n    </tr>\n    <tr>\n      <th>std</th>\n      <td>0.021096</td>\n    </tr>\n    <tr>\n      <th>min</th>\n      <td>0.012507</td>\n    </tr>\n    <tr>\n      <th>25%</th>\n      <td>0.024873</td>\n    </tr>\n    <tr>\n      <th>50%</th>\n      <td>0.030607</td>\n    </tr>\n    <tr>\n      <th>75%</th>\n      <td>0.041018</td>\n    </tr>\n    <tr>\n      <th>max</th>\n      <td>0.199909</td>\n    </tr>\n  </tbody>\n</table>\n</div>"
     },
     "execution_count": 74,
     "metadata": {},
     "output_type": "execute_result"
    }
   ],
   "source": [
    "time.describe()"
   ],
   "metadata": {
    "collapsed": false,
    "ExecuteTime": {
     "end_time": "2024-01-21T06:08:40.714802015Z",
     "start_time": "2024-01-21T06:08:40.687904467Z"
    }
   },
   "id": "b8b32bd7cd18c567",
   "execution_count": 74
  },
  {
   "cell_type": "code",
   "outputs": [
    {
     "data": {
      "text/plain": "<Figure size 640x480 with 1 Axes>",
      "image/png": "[encoded data removed]"
     },
     "metadata": {},
     "output_type": "display_data"
    }
   ],
   "source": [
    "time.Time = time.Time[time.Time < 0.2]\n",
    "hist = time.hist(bins=100)\n",
    "plt.title(' ')\n",
    "plt.xlabel('Время, сек')\n",
    "plt.ylabel('Частота')\n",
    "plt.show()"
   ],
   "metadata": {
    "collapsed": false,
    "ExecuteTime": {
     "end_time": "2024-01-21T06:13:54.634124230Z",
     "start_time": "2024-01-21T06:13:54.166492216Z"
    }
   },
   "id": "dc163092eb748743",
   "execution_count": 79
  },
  {
   "cell_type": "code",
   "outputs": [],
   "source": [],
   "metadata": {
    "collapsed": false
   },
   "id": "2b29dee5b80e4299"
  }
 ],
 "metadata": {
  "kernelspec": {
   "display_name": "Python 3",
   "language": "python",
   "name": "python3"
  },
  "language_info": {
   "codemirror_mode": {
    "name": "ipython",
    "version": 2
   },
   "file_extension": ".py",
   "mimetype": "text/x-python",
   "name": "python",
   "nbconvert_exporter": "python",
   "pygments_lexer": "ipython2",
   "version": "2.7.6"
  }
 },
 "nbformat": 4,
 "nbformat_minor": 5
}
