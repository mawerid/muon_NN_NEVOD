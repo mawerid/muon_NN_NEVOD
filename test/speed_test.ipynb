{
 "cells": [
  {
   "cell_type": "code",
   "execution_count": 68,
   "id": "initial_id",
   "metadata": {
    "collapsed": true,
    "ExecuteTime": {
     "end_time": "2024-01-21T06:03:37.453176914Z",
     "start_time": "2024-01-21T06:03:37.440235092Z"
    }
   },
   "source": [
    "import numpy as np\n",
    "import pandas as pd\n",
    "import matplotlib.pyplot as plt"
   ],
   "outputs": []
  },
  {
   "cell_type": "code",
   "source": [
    "names = [80, 96, 112, 128]\n",
    "\n",
    "time = pd.DataFrame()\n",
    "\n",
    "for name in names:\n",
    "    dataframe = pd.read_csv(f'../raw_data/dataset_03/log_200_{name}000.txt', sep='\\t', header=None)\n",
    "    extracted_info = dataframe[18].str.extract(r'User=(\\d+\\.\\d+)s Real=(\\d+\\.\\d+)s Sys=(\\d+\\.\\d+)s \\[Cpu=(\\d+\\.\\d+)%\\]')\n",
    "    extracted_info.columns = ['User', 'Real', 'Sys', 'Cpu']\n",
    "    time = pd.concat([time, extracted_info.Real.astype(float)], ignore_index=True)\n",
    "\n",
    "time = pd.concat([time, time], ignore_index=True)\n",
    "time.columns = [\"Time\"]\n",
    "\n",
    "time"
   ],
   "metadata": {
    "collapsed": false,
    "ExecuteTime": {
     "end_time": "2024-01-21T06:03:38.540366113Z",
     "start_time": "2024-01-21T06:03:37.880526857Z"
    }
   },
   "id": "340025a613596b25",
   "execution_count": 69,
   "outputs": []
  },
  {
   "cell_type": "code",
   "source": [
    "time.describe()"
   ],
   "metadata": {
    "collapsed": false,
    "ExecuteTime": {
     "end_time": "2024-01-21T06:08:40.714802015Z",
     "start_time": "2024-01-21T06:08:40.687904467Z"
    }
   },
   "id": "b8b32bd7cd18c567",
   "execution_count": 74,
   "outputs": []
  },
  {
   "cell_type": "code",
   "source": [
    "time.Time = time.Time[time.Time < 0.2]\n",
    "hist = time.hist(bins=100)\n",
    "plt.title(' ')\n",
    "plt.xlabel('Время, сек')\n",
    "plt.ylabel('Частота')\n",
    "plt.show()"
   ],
   "metadata": {
    "collapsed": false,
    "ExecuteTime": {
     "end_time": "2024-01-21T06:13:54.634124230Z",
     "start_time": "2024-01-21T06:13:54.166492216Z"
    }
   },
   "id": "dc163092eb748743",
   "execution_count": 79,
   "outputs": []
  },
  {
   "cell_type": "code",
   "source": [],
   "metadata": {
    "collapsed": false
   },
   "id": "2b29dee5b80e4299",
   "execution_count": null,
   "outputs": []
  }
 ],
 "metadata": {
  "kernelspec": {
   "display_name": "Python 3",
   "language": "python",
   "name": "python3"
  },
  "language_info": {
   "codemirror_mode": {
    "name": "ipython",
    "version": 2
   },
   "file_extension": ".py",
   "mimetype": "text/x-python",
   "name": "python",
   "nbconvert_exporter": "python",
   "pygments_lexer": "ipython2",
   "version": "2.7.6"
  }
 },
 "nbformat": 4,
 "nbformat_minor": 5
}
