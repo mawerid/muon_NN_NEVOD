{
 "cells": [
  {
   "cell_type": "code",
   "id": "initial_id",
   "metadata": {
    "collapsed": true,
    "ExecuteTime": {
     "end_time": "2024-05-22T01:41:23.116731Z",
     "start_time": "2024-05-22T01:41:21.984735Z"
    }
   },
   "source": [
    "import torch\n",
    "import pandas as pd"
   ],
   "outputs": [],
   "execution_count": 1
  },
  {
   "metadata": {
    "ExecuteTime": {
     "end_time": "2024-05-22T01:41:24.310689Z",
     "start_time": "2024-05-22T01:41:23.117620Z"
    }
   },
   "cell_type": "code",
   "source": "torch.cuda.is_available()",
   "id": "6cde7c5f8ab9e926",
   "outputs": [
    {
     "data": {
      "text/plain": [
       "True"
      ]
     },
     "execution_count": 2,
     "metadata": {},
     "output_type": "execute_result"
    }
   ],
   "execution_count": 2
  },
  {
   "metadata": {
    "ExecuteTime": {
     "end_time": "2024-05-12T21:05:51.155339Z",
     "start_time": "2024-05-12T21:05:51.117062Z"
    }
   },
   "cell_type": "code",
   "source": "print(pd.read_csv(\"../data/exp_data.dat\", delimiter=\"\\t\"))",
   "id": "6cc39a1cf7dfb26a",
   "outputs": [
    {
     "name": "stdout",
     "output_type": "stream",
     "text": [
      "    090_0001.nad    1  1026  0  2019-09-22 21:21:19.877.131.060   6  2  10  \\\n",
      "0   090_0001.nad    5  1026  0  2019-09-22 21:21:19.972.811.440   4  1   5   \n",
      "1   090_0001.nad    6  1026  0  2019-09-22 21:21:20.006.160.043   7  2   9   \n",
      "2   090_0001.nad   21  1026  0  2019-09-22 21:21:20.670.231.281   6  2   4   \n",
      "3   090_0001.nad   24  1026  0  2019-09-22 21:21:20.749.790.619  11  3  12   \n",
      "4   090_0001.nad   28  1026  0  2019-09-22 21:21:20.914.431.217   4  3   7   \n",
      "5   090_0001.nad   38  1026  0  2019-09-22 21:21:21.593.783.527  11  3   9   \n",
      "6   090_0001.nad   52  1026  0  2019-09-22 21:21:22.784.053.762   6  3   4   \n",
      "7   090_0001.nad   60  1026  0  2019-09-22 21:21:23.183.067.602   5  4   5   \n",
      "8   090_0001.nad   63  1026  0  2019-09-22 21:21:23.369.300.663  11  4   9   \n",
      "9   090_0001.nad   65  1026  0  2019-09-22 21:21:23.461.093.088   9  2   5   \n",
      "10  090_0001.nad   67  1026  0  2019-09-22 21:21:23.527.603.969   9  2  11   \n",
      "11  090_0001.nad   70  1026  0  2019-09-22 21:21:23.576.601.941   8  3  11   \n",
      "12  090_0001.nad   76  1026  0  2019-09-22 21:21:23.954.285.311   7  1   7   \n",
      "13  090_0001.nad   77  1026  0  2019-09-22 21:21:23.989.442.329   8  1   9   \n",
      "14  090_0001.nad   83  1026  0  2019-09-22 21:21:24.534.097.411   7  4   5   \n",
      "15  090_0001.nad   90  1026  0  2019-09-22 21:21:24.883.825.151   4  2   7   \n",
      "16  090_0001.nad   99  1026  0  2019-09-22 21:21:25.319.634.345  11  1   5   \n",
      "17  090_0001.nad  110  1026  0  2019-09-22 21:21:25.891.221.112  11  5  11   \n",
      "18  090_0001.nad  111  1026  0  2019-09-22 21:21:25.990.989.696   7  2  10   \n",
      "\n",
      "    2.1  1.1  ...  16   39.73  23.18  208.06   39.02  10.16  254.07  574.23  \\\n",
      "0     3    1  ...  12    0.00  11.79   78.46   33.51   4.71   93.88  222.35   \n",
      "1     1    1  ...   8    6.30   3.87   74.04   35.24   2.24   69.88  191.57   \n",
      "2     2    1  ...   8   26.97   8.97   50.23   16.74   4.71  109.12  216.74   \n",
      "3     1    1  ...   9   62.69  34.30    0.00    5.41   0.00   84.36  186.76   \n",
      "4     5    1  ...   8    4.13  10.04   90.38   38.93   2.80   74.34  220.62   \n",
      "5     3    1  ...   8  109.12   4.94   58.69   21.60   3.71   92.59  290.66   \n",
      "6     2    1  ...   9   12.20  39.01   33.30   11.28   0.00   74.81  170.60   \n",
      "7     5    1  ...   7    2.27  98.31   50.81  130.29  14.15  128.58  424.41   \n",
      "8     3    1  ...  19   87.82  84.52   16.13   21.61   7.48  135.58  353.13   \n",
      "9     1    1  ...   6   52.65   0.00    2.62   29.81   0.00   79.57  164.65   \n",
      "10    3    1  ...  18   28.72   8.23   41.36   78.67   3.71  113.11  273.80   \n",
      "11    3    1  ...   9    5.60  26.69   42.06   22.01   1.96  143.56  241.89   \n",
      "12    1    1  ...   5    9.58   0.00    3.94   52.18   0.00   28.46   94.15   \n",
      "13    1    1  ...   8    8.40   0.00   35.65   26.42   2.99   61.45  134.92   \n",
      "14    5    1  ...   8   27.41  28.37   27.54    6.69   0.00   88.06  178.07   \n",
      "15    1    1  ...   7   19.55   0.00    6.12   40.86   1.77   49.96  118.25   \n",
      "16    2    1  ...  14   87.65  25.16    8.47   58.89   5.21   96.82  282.20   \n",
      "17    5    1  ...   7    8.23  58.21    0.00    0.00   0.00   28.76   95.20   \n",
      "18    2    1  ...  11   18.09   5.43   66.49   47.76   2.15  119.37  259.30   \n",
      "\n",
      "    607.61  579.44  \n",
      "0   235.28  226.60  \n",
      "1   202.71  198.95  \n",
      "2   229.34  216.74  \n",
      "3   197.61  189.14  \n",
      "4   233.44  220.62  \n",
      "5   307.56  290.66  \n",
      "6   180.52  175.68  \n",
      "7   449.08  426.66  \n",
      "8   373.66  353.13  \n",
      "9   174.22  201.68  \n",
      "10  289.71  277.86  \n",
      "11  255.95  241.89  \n",
      "12   99.62   97.80  \n",
      "13  142.76  139.32  \n",
      "14  188.43  190.07  \n",
      "15  125.13  129.40  \n",
      "16  298.60  306.92  \n",
      "17  100.74   95.20  \n",
      "18  274.37  273.21  \n",
      "\n",
      "[19 rows x 1115 columns]\n"
     ]
    }
   ],
   "execution_count": 7
  },
  {
   "metadata": {
    "ExecuteTime": {
     "end_time": "2024-05-12T13:39:35.621179Z",
     "start_time": "2024-05-12T13:39:35.568347Z"
    }
   },
   "cell_type": "code",
   "source": "import numpy as np",
   "id": "6025429c217f2df",
   "outputs": [],
   "execution_count": 1
  },
  {
   "metadata": {
    "ExecuteTime": {
     "end_time": "2024-05-12T12:44:08.557950Z",
     "start_time": "2024-05-12T12:44:02.735Z"
    }
   },
   "cell_type": "code",
   "source": [
    "data_num = 91\n",
    "data = np.loadtxt(f\"../dataset/exp_data/NAD_0{data_num}/result_NAD_0{data_num}.dat\", delimiter='\\t',\n",
    "                  usecols=range(0, 15), dtype=str)"
   ],
   "id": "ce44ed7ab034bc8a",
   "outputs": [],
   "execution_count": 33
  },
  {
   "metadata": {
    "ExecuteTime": {
     "end_time": "2024-05-12T12:44:09.900038Z",
     "start_time": "2024-05-12T12:44:08.558990Z"
    }
   },
   "cell_type": "code",
   "source": [
    "data = np.delete(data, 0, 1)\n",
    "data = np.delete(data, 3, 1)\n",
    "data = data.astype(np.float64)"
   ],
   "id": "a63dff0bd1373287",
   "outputs": [],
   "execution_count": 34
  },
  {
   "metadata": {
    "ExecuteTime": {
     "end_time": "2024-05-12T12:44:09.908248Z",
     "start_time": "2024-05-12T12:44:09.900845Z"
    }
   },
   "cell_type": "code",
   "source": "data",
   "id": "964a79ef1185059f",
   "outputs": [
    {
     "data": {
      "text/plain": [
       "array([[5.000000e+00, 1.026000e+03, 0.000000e+00, ..., 0.000000e+00,\n",
       "        1.000000e+00, 0.000000e+00],\n",
       "       [9.000000e+00, 1.026000e+03, 0.000000e+00, ..., 0.000000e+00,\n",
       "        1.000000e+00, 0.000000e+00],\n",
       "       [2.100000e+01, 1.026000e+03, 0.000000e+00, ..., 0.000000e+00,\n",
       "        1.000000e+00, 0.000000e+00],\n",
       "       ...,\n",
       "       [2.054118e+06, 1.026000e+03, 0.000000e+00, ..., 0.000000e+00,\n",
       "        1.000000e+00, 0.000000e+00],\n",
       "       [2.054121e+06, 1.026000e+03, 0.000000e+00, ..., 0.000000e+00,\n",
       "        1.000000e+00, 0.000000e+00],\n",
       "       [2.054123e+06, 1.026000e+03, 0.000000e+00, ..., 0.000000e+00,\n",
       "        1.000000e+00, 0.000000e+00]])"
      ]
     },
     "execution_count": 35,
     "metadata": {},
     "output_type": "execute_result"
    }
   ],
   "execution_count": 35
  },
  {
   "metadata": {
    "ExecuteTime": {
     "end_time": "2024-05-12T12:31:13.835924Z",
     "start_time": "2024-05-12T12:31:13.753399Z"
    }
   },
   "cell_type": "code",
   "source": "data.astype(np.float64).std()",
   "id": "d6644057e5415a6c",
   "outputs": [
    {
     "data": {
      "text/plain": [
       "0.0"
      ]
     },
     "execution_count": 20,
     "metadata": {},
     "output_type": "execute_result"
    }
   ],
   "execution_count": 20
  },
  {
   "metadata": {
    "ExecuteTime": {
     "end_time": "2024-05-12T12:31:13.926962Z",
     "start_time": "2024-05-12T12:31:13.836837Z"
    }
   },
   "cell_type": "code",
   "source": "data.astype(np.float64).mean()",
   "id": "53c2c419a36a8558",
   "outputs": [
    {
     "data": {
      "text/plain": [
       "1026.0"
      ]
     },
     "execution_count": 21,
     "metadata": {},
     "output_type": "execute_result"
    }
   ],
   "execution_count": 21
  },
  {
   "metadata": {
    "ExecuteTime": {
     "end_time": "2024-05-12T13:39:40.533678Z",
     "start_time": "2024-05-12T13:39:40.529344Z"
    }
   },
   "cell_type": "code",
   "source": "np.rad2deg(np.arctan(0.63 / 9.0))",
   "id": "1c9ceb8dc07f0289",
   "outputs": [
    {
     "data": {
      "text/plain": [
       "4.004172940709388"
      ]
     },
     "execution_count": 2,
     "metadata": {},
     "output_type": "execute_result"
    }
   ],
   "execution_count": 2
  },
  {
   "metadata": {
    "ExecuteTime": {
     "end_time": "2024-05-22T02:25:28.312894Z",
     "start_time": "2024-05-22T02:25:28.057160Z"
    }
   },
   "cell_type": "code",
   "source": [
    "import os\n",
    "import pandas as pd"
   ],
   "id": "64b5cf3f7239bf26",
   "outputs": [],
   "execution_count": 1
  },
  {
   "metadata": {
    "ExecuteTime": {
     "end_time": "2024-05-22T01:59:59.756812Z",
     "start_time": "2024-05-22T01:57:58.584350Z"
    }
   },
   "cell_type": "code",
   "source": "load_and_save_dat_files(\"../dataset/exp\", 2 ** 16)",
   "id": "cd1bfdfb3f6f6b3b",
   "outputs": [
    {
     "name": "stdout",
     "output_type": "stream",
     "text": [
      "['../dataset/exp/result_NAD_090.dat']\n",
      "Start here\n",
      "File written 0 361148\n",
      "File written 1 295612\n",
      "File written 2 230076\n",
      "File written 3 164540\n",
      "File written 4 99004\n",
      "File written ended 5 33468\n"
     ]
    }
   ],
   "execution_count": 3
  },
  {
   "metadata": {},
   "cell_type": "code",
   "outputs": [],
   "execution_count": null,
   "source": "",
   "id": "457bfa94a94eed1c"
  }
 ],
 "metadata": {
  "kernelspec": {
   "display_name": "Python 3",
   "language": "python",
   "name": "python3"
  },
  "language_info": {
   "codemirror_mode": {
    "name": "ipython",
    "version": 2
   },
   "file_extension": ".py",
   "mimetype": "text/x-python",
   "name": "python",
   "nbconvert_exporter": "python",
   "pygments_lexer": "ipython2",
   "version": "2.7.6"
  }
 },
 "nbformat": 4,
 "nbformat_minor": 5
}
