{
 "cells": [
  {
   "cell_type": "code",
   "execution_count": 1,
   "id": "2f87466b",
   "metadata": {
    "ExecuteTime": {
     "end_time": "2023-05-30T19:18:32.451633Z",
     "start_time": "2023-05-30T19:18:32.444380Z"
    }
   },
   "outputs": [],
   "source": [
    "import pandas as pd\n",
    "import numpy as np\n",
    "import matplotlib.pyplot as plt\n",
    "import seaborn as sb\n",
    "from sklearn.model_selection import train_test_split\n",
    "# import tensorflow as tf\n",
    "# import tensorflow.keras as keras\n",
    "# from tensorflow.keras import layers\n",
    "import torch\n",
    "import torch.nn as nn\n",
    "from scipy import stats"
   ]
  },
  {
   "cell_type": "code",
   "execution_count": 2,
   "id": "812420ea",
   "metadata": {},
   "outputs": [],
   "source": [
    "sb.set_theme()"
   ]
  },
  {
   "attachments": {},
   "cell_type": "markdown",
   "id": "4a11d9da",
   "metadata": {},
   "source": [
    "# Prepare datasets"
   ]
  },
  {
   "cell_type": "code",
   "execution_count": 3,
   "id": "0d451e70",
   "metadata": {
    "ExecuteTime": {
     "end_time": "2023-05-30T19:18:37.389222Z",
     "start_time": "2023-05-30T19:18:34.153899Z"
    }
   },
   "outputs": [],
   "source": [
    "df_x = pd.read_csv('../data/dataset_02/data.csv')\n",
    "df_y = pd.read_csv('../data/dataset_02/answer.csv')"
   ]
  },
  {
   "cell_type": "code",
   "execution_count": 4,
   "id": "1eb584e6",
   "metadata": {
    "ExecuteTime": {
     "end_time": "2023-05-30T13:09:26.081346Z",
     "start_time": "2023-05-30T13:09:25.136956Z"
    }
   },
   "outputs": [
    {
     "data": {
      "text/html": [
       "<div>\n",
       "<style scoped>\n",
       "    .dataframe tbody tr th:only-of-type {\n",
       "        vertical-align: middle;\n",
       "    }\n",
       "\n",
       "    .dataframe tbody tr th {\n",
       "        vertical-align: top;\n",
       "    }\n",
       "\n",
       "    .dataframe thead th {\n",
       "        text-align: right;\n",
       "    }\n",
       "</style>\n",
       "<table border=\"1\" class=\"dataframe\">\n",
       "  <thead>\n",
       "    <tr style=\"text-align: right;\">\n",
       "      <th></th>\n",
       "      <th>0</th>\n",
       "      <th>1</th>\n",
       "      <th>2</th>\n",
       "      <th>3</th>\n",
       "      <th>4</th>\n",
       "      <th>5</th>\n",
       "      <th>6</th>\n",
       "      <th>7</th>\n",
       "      <th>8</th>\n",
       "      <th>9</th>\n",
       "      <th>...</th>\n",
       "      <th>662</th>\n",
       "      <th>663</th>\n",
       "      <th>664</th>\n",
       "      <th>665</th>\n",
       "      <th>666</th>\n",
       "      <th>667</th>\n",
       "      <th>668</th>\n",
       "      <th>669</th>\n",
       "      <th>670</th>\n",
       "      <th>671</th>\n",
       "    </tr>\n",
       "  </thead>\n",
       "  <tbody>\n",
       "    <tr>\n",
       "      <th>0</th>\n",
       "      <td>0.0</td>\n",
       "      <td>0.0</td>\n",
       "      <td>0.0</td>\n",
       "      <td>0.0</td>\n",
       "      <td>0.0</td>\n",
       "      <td>0.0</td>\n",
       "      <td>0.0</td>\n",
       "      <td>0.0</td>\n",
       "      <td>0.0</td>\n",
       "      <td>0.0</td>\n",
       "      <td>...</td>\n",
       "      <td>0.0</td>\n",
       "      <td>0.0</td>\n",
       "      <td>0.0</td>\n",
       "      <td>0.0</td>\n",
       "      <td>2.0</td>\n",
       "      <td>0.0</td>\n",
       "      <td>0.0</td>\n",
       "      <td>0.0</td>\n",
       "      <td>0.0</td>\n",
       "      <td>0.0</td>\n",
       "    </tr>\n",
       "    <tr>\n",
       "      <th>1</th>\n",
       "      <td>0.0</td>\n",
       "      <td>0.0</td>\n",
       "      <td>0.0</td>\n",
       "      <td>0.0</td>\n",
       "      <td>0.0</td>\n",
       "      <td>0.0</td>\n",
       "      <td>0.0</td>\n",
       "      <td>0.0</td>\n",
       "      <td>0.0</td>\n",
       "      <td>0.0</td>\n",
       "      <td>...</td>\n",
       "      <td>0.0</td>\n",
       "      <td>0.0</td>\n",
       "      <td>0.0</td>\n",
       "      <td>0.0</td>\n",
       "      <td>1.0</td>\n",
       "      <td>0.0</td>\n",
       "      <td>0.0</td>\n",
       "      <td>0.0</td>\n",
       "      <td>0.0</td>\n",
       "      <td>0.0</td>\n",
       "    </tr>\n",
       "    <tr>\n",
       "      <th>2</th>\n",
       "      <td>0.0</td>\n",
       "      <td>0.0</td>\n",
       "      <td>0.0</td>\n",
       "      <td>0.0</td>\n",
       "      <td>0.0</td>\n",
       "      <td>0.0</td>\n",
       "      <td>0.0</td>\n",
       "      <td>0.0</td>\n",
       "      <td>0.0</td>\n",
       "      <td>0.0</td>\n",
       "      <td>...</td>\n",
       "      <td>0.0</td>\n",
       "      <td>0.0</td>\n",
       "      <td>0.0</td>\n",
       "      <td>0.0</td>\n",
       "      <td>0.0</td>\n",
       "      <td>0.0</td>\n",
       "      <td>0.0</td>\n",
       "      <td>0.0</td>\n",
       "      <td>0.0</td>\n",
       "      <td>0.0</td>\n",
       "    </tr>\n",
       "    <tr>\n",
       "      <th>3</th>\n",
       "      <td>0.0</td>\n",
       "      <td>0.0</td>\n",
       "      <td>0.0</td>\n",
       "      <td>0.0</td>\n",
       "      <td>0.0</td>\n",
       "      <td>0.0</td>\n",
       "      <td>0.0</td>\n",
       "      <td>0.0</td>\n",
       "      <td>0.0</td>\n",
       "      <td>0.0</td>\n",
       "      <td>...</td>\n",
       "      <td>0.0</td>\n",
       "      <td>0.0</td>\n",
       "      <td>0.0</td>\n",
       "      <td>0.0</td>\n",
       "      <td>0.0</td>\n",
       "      <td>0.0</td>\n",
       "      <td>0.0</td>\n",
       "      <td>0.0</td>\n",
       "      <td>0.0</td>\n",
       "      <td>0.0</td>\n",
       "    </tr>\n",
       "    <tr>\n",
       "      <th>4</th>\n",
       "      <td>0.0</td>\n",
       "      <td>0.0</td>\n",
       "      <td>0.0</td>\n",
       "      <td>0.0</td>\n",
       "      <td>0.0</td>\n",
       "      <td>0.0</td>\n",
       "      <td>0.0</td>\n",
       "      <td>0.0</td>\n",
       "      <td>0.0</td>\n",
       "      <td>0.0</td>\n",
       "      <td>...</td>\n",
       "      <td>0.0</td>\n",
       "      <td>0.0</td>\n",
       "      <td>0.0</td>\n",
       "      <td>0.0</td>\n",
       "      <td>0.0</td>\n",
       "      <td>0.0</td>\n",
       "      <td>0.0</td>\n",
       "      <td>0.0</td>\n",
       "      <td>0.0</td>\n",
       "      <td>0.0</td>\n",
       "    </tr>\n",
       "    <tr>\n",
       "      <th>...</th>\n",
       "      <td>...</td>\n",
       "      <td>...</td>\n",
       "      <td>...</td>\n",
       "      <td>...</td>\n",
       "      <td>...</td>\n",
       "      <td>...</td>\n",
       "      <td>...</td>\n",
       "      <td>...</td>\n",
       "      <td>...</td>\n",
       "      <td>...</td>\n",
       "      <td>...</td>\n",
       "      <td>...</td>\n",
       "      <td>...</td>\n",
       "      <td>...</td>\n",
       "      <td>...</td>\n",
       "      <td>...</td>\n",
       "      <td>...</td>\n",
       "      <td>...</td>\n",
       "      <td>...</td>\n",
       "      <td>...</td>\n",
       "      <td>...</td>\n",
       "    </tr>\n",
       "    <tr>\n",
       "      <th>48801</th>\n",
       "      <td>0.0</td>\n",
       "      <td>0.0</td>\n",
       "      <td>0.0</td>\n",
       "      <td>0.0</td>\n",
       "      <td>0.0</td>\n",
       "      <td>0.0</td>\n",
       "      <td>0.0</td>\n",
       "      <td>0.0</td>\n",
       "      <td>0.0</td>\n",
       "      <td>0.0</td>\n",
       "      <td>...</td>\n",
       "      <td>0.0</td>\n",
       "      <td>0.0</td>\n",
       "      <td>0.0</td>\n",
       "      <td>0.0</td>\n",
       "      <td>0.0</td>\n",
       "      <td>0.0</td>\n",
       "      <td>0.0</td>\n",
       "      <td>0.0</td>\n",
       "      <td>0.0</td>\n",
       "      <td>0.0</td>\n",
       "    </tr>\n",
       "    <tr>\n",
       "      <th>48802</th>\n",
       "      <td>0.0</td>\n",
       "      <td>0.0</td>\n",
       "      <td>0.0</td>\n",
       "      <td>0.0</td>\n",
       "      <td>0.0</td>\n",
       "      <td>0.0</td>\n",
       "      <td>0.0</td>\n",
       "      <td>0.0</td>\n",
       "      <td>0.0</td>\n",
       "      <td>0.0</td>\n",
       "      <td>...</td>\n",
       "      <td>0.0</td>\n",
       "      <td>0.0</td>\n",
       "      <td>0.0</td>\n",
       "      <td>0.0</td>\n",
       "      <td>0.0</td>\n",
       "      <td>0.0</td>\n",
       "      <td>0.0</td>\n",
       "      <td>0.0</td>\n",
       "      <td>0.0</td>\n",
       "      <td>0.0</td>\n",
       "    </tr>\n",
       "    <tr>\n",
       "      <th>48803</th>\n",
       "      <td>0.0</td>\n",
       "      <td>0.0</td>\n",
       "      <td>0.0</td>\n",
       "      <td>0.0</td>\n",
       "      <td>0.0</td>\n",
       "      <td>0.0</td>\n",
       "      <td>0.0</td>\n",
       "      <td>0.0</td>\n",
       "      <td>0.0</td>\n",
       "      <td>0.0</td>\n",
       "      <td>...</td>\n",
       "      <td>0.0</td>\n",
       "      <td>0.0</td>\n",
       "      <td>0.0</td>\n",
       "      <td>0.0</td>\n",
       "      <td>0.0</td>\n",
       "      <td>0.0</td>\n",
       "      <td>0.0</td>\n",
       "      <td>0.0</td>\n",
       "      <td>0.0</td>\n",
       "      <td>0.0</td>\n",
       "    </tr>\n",
       "    <tr>\n",
       "      <th>48804</th>\n",
       "      <td>0.0</td>\n",
       "      <td>0.0</td>\n",
       "      <td>0.0</td>\n",
       "      <td>0.0</td>\n",
       "      <td>0.0</td>\n",
       "      <td>0.0</td>\n",
       "      <td>0.0</td>\n",
       "      <td>0.0</td>\n",
       "      <td>0.0</td>\n",
       "      <td>0.0</td>\n",
       "      <td>...</td>\n",
       "      <td>0.0</td>\n",
       "      <td>0.0</td>\n",
       "      <td>0.0</td>\n",
       "      <td>0.0</td>\n",
       "      <td>0.0</td>\n",
       "      <td>0.0</td>\n",
       "      <td>0.0</td>\n",
       "      <td>0.0</td>\n",
       "      <td>0.0</td>\n",
       "      <td>0.0</td>\n",
       "    </tr>\n",
       "    <tr>\n",
       "      <th>48805</th>\n",
       "      <td>0.0</td>\n",
       "      <td>0.0</td>\n",
       "      <td>0.0</td>\n",
       "      <td>0.0</td>\n",
       "      <td>0.0</td>\n",
       "      <td>0.0</td>\n",
       "      <td>0.0</td>\n",
       "      <td>0.0</td>\n",
       "      <td>0.0</td>\n",
       "      <td>0.0</td>\n",
       "      <td>...</td>\n",
       "      <td>0.0</td>\n",
       "      <td>0.0</td>\n",
       "      <td>0.0</td>\n",
       "      <td>0.0</td>\n",
       "      <td>0.0</td>\n",
       "      <td>0.0</td>\n",
       "      <td>0.0</td>\n",
       "      <td>0.0</td>\n",
       "      <td>0.0</td>\n",
       "      <td>0.0</td>\n",
       "    </tr>\n",
       "  </tbody>\n",
       "</table>\n",
       "<p>48806 rows × 672 columns</p>\n",
       "</div>"
      ],
      "text/plain": [
       "         0    1    2    3    4    5    6    7    8    9  ...  662  663  664  \\\n",
       "0      0.0  0.0  0.0  0.0  0.0  0.0  0.0  0.0  0.0  0.0  ...  0.0  0.0  0.0   \n",
       "1      0.0  0.0  0.0  0.0  0.0  0.0  0.0  0.0  0.0  0.0  ...  0.0  0.0  0.0   \n",
       "2      0.0  0.0  0.0  0.0  0.0  0.0  0.0  0.0  0.0  0.0  ...  0.0  0.0  0.0   \n",
       "3      0.0  0.0  0.0  0.0  0.0  0.0  0.0  0.0  0.0  0.0  ...  0.0  0.0  0.0   \n",
       "4      0.0  0.0  0.0  0.0  0.0  0.0  0.0  0.0  0.0  0.0  ...  0.0  0.0  0.0   \n",
       "...    ...  ...  ...  ...  ...  ...  ...  ...  ...  ...  ...  ...  ...  ...   \n",
       "48801  0.0  0.0  0.0  0.0  0.0  0.0  0.0  0.0  0.0  0.0  ...  0.0  0.0  0.0   \n",
       "48802  0.0  0.0  0.0  0.0  0.0  0.0  0.0  0.0  0.0  0.0  ...  0.0  0.0  0.0   \n",
       "48803  0.0  0.0  0.0  0.0  0.0  0.0  0.0  0.0  0.0  0.0  ...  0.0  0.0  0.0   \n",
       "48804  0.0  0.0  0.0  0.0  0.0  0.0  0.0  0.0  0.0  0.0  ...  0.0  0.0  0.0   \n",
       "48805  0.0  0.0  0.0  0.0  0.0  0.0  0.0  0.0  0.0  0.0  ...  0.0  0.0  0.0   \n",
       "\n",
       "       665  666  667  668  669  670  671  \n",
       "0      0.0  2.0  0.0  0.0  0.0  0.0  0.0  \n",
       "1      0.0  1.0  0.0  0.0  0.0  0.0  0.0  \n",
       "2      0.0  0.0  0.0  0.0  0.0  0.0  0.0  \n",
       "3      0.0  0.0  0.0  0.0  0.0  0.0  0.0  \n",
       "4      0.0  0.0  0.0  0.0  0.0  0.0  0.0  \n",
       "...    ...  ...  ...  ...  ...  ...  ...  \n",
       "48801  0.0  0.0  0.0  0.0  0.0  0.0  0.0  \n",
       "48802  0.0  0.0  0.0  0.0  0.0  0.0  0.0  \n",
       "48803  0.0  0.0  0.0  0.0  0.0  0.0  0.0  \n",
       "48804  0.0  0.0  0.0  0.0  0.0  0.0  0.0  \n",
       "48805  0.0  0.0  0.0  0.0  0.0  0.0  0.0  \n",
       "\n",
       "[48806 rows x 672 columns]"
      ]
     },
     "execution_count": 4,
     "metadata": {},
     "output_type": "execute_result"
    }
   ],
   "source": [
    "df_x = df_x.drop(labels=['Unnamed: 0'], axis=1)\n",
    "df_x"
   ]
  },
  {
   "cell_type": "code",
   "execution_count": 5,
   "id": "a4110f01",
   "metadata": {
    "ExecuteTime": {
     "end_time": "2023-05-30T13:09:26.097028Z",
     "start_time": "2023-05-30T13:09:26.083292Z"
    }
   },
   "outputs": [
    {
     "data": {
      "text/html": [
       "<div>\n",
       "<style scoped>\n",
       "    .dataframe tbody tr th:only-of-type {\n",
       "        vertical-align: middle;\n",
       "    }\n",
       "\n",
       "    .dataframe tbody tr th {\n",
       "        vertical-align: top;\n",
       "    }\n",
       "\n",
       "    .dataframe thead th {\n",
       "        text-align: right;\n",
       "    }\n",
       "</style>\n",
       "<table border=\"1\" class=\"dataframe\">\n",
       "  <thead>\n",
       "    <tr style=\"text-align: right;\">\n",
       "      <th></th>\n",
       "      <th>x1</th>\n",
       "      <th>y1</th>\n",
       "      <th>z1</th>\n",
       "      <th>x2</th>\n",
       "      <th>y2</th>\n",
       "      <th>z2</th>\n",
       "    </tr>\n",
       "  </thead>\n",
       "  <tbody>\n",
       "    <tr>\n",
       "      <th>0</th>\n",
       "      <td>0.10871</td>\n",
       "      <td>-0.27960</td>\n",
       "      <td>14.997</td>\n",
       "      <td>10.61088</td>\n",
       "      <td>10.45806</td>\n",
       "      <td>-1.743</td>\n",
       "    </tr>\n",
       "    <tr>\n",
       "      <th>1</th>\n",
       "      <td>10.61088</td>\n",
       "      <td>10.45806</td>\n",
       "      <td>-1.743</td>\n",
       "      <td>0.10871</td>\n",
       "      <td>-0.27960</td>\n",
       "      <td>14.997</td>\n",
       "    </tr>\n",
       "    <tr>\n",
       "      <th>2</th>\n",
       "      <td>0.10871</td>\n",
       "      <td>-0.27960</td>\n",
       "      <td>14.997</td>\n",
       "      <td>11.83410</td>\n",
       "      <td>1.03286</td>\n",
       "      <td>-9.159</td>\n",
       "    </tr>\n",
       "    <tr>\n",
       "      <th>3</th>\n",
       "      <td>11.83410</td>\n",
       "      <td>1.03286</td>\n",
       "      <td>-9.159</td>\n",
       "      <td>0.10871</td>\n",
       "      <td>-0.27960</td>\n",
       "      <td>14.997</td>\n",
       "    </tr>\n",
       "    <tr>\n",
       "      <th>4</th>\n",
       "      <td>0.10871</td>\n",
       "      <td>-0.27960</td>\n",
       "      <td>14.997</td>\n",
       "      <td>0.48150</td>\n",
       "      <td>-11.78048</td>\n",
       "      <td>-9.273</td>\n",
       "    </tr>\n",
       "    <tr>\n",
       "      <th>...</th>\n",
       "      <td>...</td>\n",
       "      <td>...</td>\n",
       "      <td>...</td>\n",
       "      <td>...</td>\n",
       "      <td>...</td>\n",
       "      <td>...</td>\n",
       "    </tr>\n",
       "    <tr>\n",
       "      <th>48801</th>\n",
       "      <td>-9.63243</td>\n",
       "      <td>9.66777</td>\n",
       "      <td>6.225</td>\n",
       "      <td>-0.19256</td>\n",
       "      <td>0.23003</td>\n",
       "      <td>-14.997</td>\n",
       "    </tr>\n",
       "    <tr>\n",
       "      <th>48802</th>\n",
       "      <td>-0.19256</td>\n",
       "      <td>0.23003</td>\n",
       "      <td>-14.997</td>\n",
       "      <td>13.42070</td>\n",
       "      <td>6.56526</td>\n",
       "      <td>1.335</td>\n",
       "    </tr>\n",
       "    <tr>\n",
       "      <th>48803</th>\n",
       "      <td>13.42070</td>\n",
       "      <td>6.56526</td>\n",
       "      <td>1.335</td>\n",
       "      <td>-0.19256</td>\n",
       "      <td>0.23003</td>\n",
       "      <td>-14.997</td>\n",
       "    </tr>\n",
       "    <tr>\n",
       "      <th>48804</th>\n",
       "      <td>-0.19256</td>\n",
       "      <td>0.23003</td>\n",
       "      <td>-14.997</td>\n",
       "      <td>-13.56919</td>\n",
       "      <td>5.13653</td>\n",
       "      <td>3.807</td>\n",
       "    </tr>\n",
       "    <tr>\n",
       "      <th>48805</th>\n",
       "      <td>-13.56919</td>\n",
       "      <td>5.13653</td>\n",
       "      <td>3.807</td>\n",
       "      <td>-0.19256</td>\n",
       "      <td>0.23003</td>\n",
       "      <td>-14.997</td>\n",
       "    </tr>\n",
       "  </tbody>\n",
       "</table>\n",
       "<p>48806 rows × 6 columns</p>\n",
       "</div>"
      ],
      "text/plain": [
       "             x1        y1      z1        x2        y2      z2\n",
       "0       0.10871  -0.27960  14.997  10.61088  10.45806  -1.743\n",
       "1      10.61088  10.45806  -1.743   0.10871  -0.27960  14.997\n",
       "2       0.10871  -0.27960  14.997  11.83410   1.03286  -9.159\n",
       "3      11.83410   1.03286  -9.159   0.10871  -0.27960  14.997\n",
       "4       0.10871  -0.27960  14.997   0.48150 -11.78048  -9.273\n",
       "...         ...       ...     ...       ...       ...     ...\n",
       "48801  -9.63243   9.66777   6.225  -0.19256   0.23003 -14.997\n",
       "48802  -0.19256   0.23003 -14.997  13.42070   6.56526   1.335\n",
       "48803  13.42070   6.56526   1.335  -0.19256   0.23003 -14.997\n",
       "48804  -0.19256   0.23003 -14.997 -13.56919   5.13653   3.807\n",
       "48805 -13.56919   5.13653   3.807  -0.19256   0.23003 -14.997\n",
       "\n",
       "[48806 rows x 6 columns]"
      ]
     },
     "execution_count": 5,
     "metadata": {},
     "output_type": "execute_result"
    }
   ],
   "source": [
    "df_y = df_y.drop(labels=['Unnamed: 0'], axis=1)\n",
    "df_y"
   ]
  },
  {
   "cell_type": "code",
   "execution_count": 6,
   "id": "6350809d",
   "metadata": {
    "ExecuteTime": {
     "end_time": "2023-05-30T13:09:26.543293Z",
     "start_time": "2023-05-30T13:09:26.100180Z"
    }
   },
   "outputs": [
    {
     "data": {
      "text/html": [
       "<div>\n",
       "<style scoped>\n",
       "    .dataframe tbody tr th:only-of-type {\n",
       "        vertical-align: middle;\n",
       "    }\n",
       "\n",
       "    .dataframe tbody tr th {\n",
       "        vertical-align: top;\n",
       "    }\n",
       "\n",
       "    .dataframe thead th {\n",
       "        text-align: right;\n",
       "    }\n",
       "</style>\n",
       "<table border=\"1\" class=\"dataframe\">\n",
       "  <thead>\n",
       "    <tr style=\"text-align: right;\">\n",
       "      <th></th>\n",
       "      <th>0</th>\n",
       "      <th>1</th>\n",
       "      <th>2</th>\n",
       "      <th>3</th>\n",
       "      <th>4</th>\n",
       "      <th>5</th>\n",
       "      <th>6</th>\n",
       "      <th>7</th>\n",
       "      <th>8</th>\n",
       "      <th>9</th>\n",
       "      <th>...</th>\n",
       "      <th>668</th>\n",
       "      <th>669</th>\n",
       "      <th>670</th>\n",
       "      <th>671</th>\n",
       "      <th>x1</th>\n",
       "      <th>y1</th>\n",
       "      <th>z1</th>\n",
       "      <th>x2</th>\n",
       "      <th>y2</th>\n",
       "      <th>z2</th>\n",
       "    </tr>\n",
       "  </thead>\n",
       "  <tbody>\n",
       "    <tr>\n",
       "      <th>0</th>\n",
       "      <td>0.0</td>\n",
       "      <td>0.0</td>\n",
       "      <td>0.0</td>\n",
       "      <td>0.0</td>\n",
       "      <td>0.0</td>\n",
       "      <td>0.0</td>\n",
       "      <td>0.0</td>\n",
       "      <td>0.0</td>\n",
       "      <td>0.0</td>\n",
       "      <td>0.0</td>\n",
       "      <td>...</td>\n",
       "      <td>0.0</td>\n",
       "      <td>0.0</td>\n",
       "      <td>0.0</td>\n",
       "      <td>0.0</td>\n",
       "      <td>0.10871</td>\n",
       "      <td>-0.27960</td>\n",
       "      <td>14.997</td>\n",
       "      <td>10.61088</td>\n",
       "      <td>10.45806</td>\n",
       "      <td>-1.743</td>\n",
       "    </tr>\n",
       "    <tr>\n",
       "      <th>1</th>\n",
       "      <td>0.0</td>\n",
       "      <td>0.0</td>\n",
       "      <td>0.0</td>\n",
       "      <td>0.0</td>\n",
       "      <td>0.0</td>\n",
       "      <td>0.0</td>\n",
       "      <td>0.0</td>\n",
       "      <td>0.0</td>\n",
       "      <td>0.0</td>\n",
       "      <td>0.0</td>\n",
       "      <td>...</td>\n",
       "      <td>0.0</td>\n",
       "      <td>0.0</td>\n",
       "      <td>0.0</td>\n",
       "      <td>0.0</td>\n",
       "      <td>10.61088</td>\n",
       "      <td>10.45806</td>\n",
       "      <td>-1.743</td>\n",
       "      <td>0.10871</td>\n",
       "      <td>-0.27960</td>\n",
       "      <td>14.997</td>\n",
       "    </tr>\n",
       "    <tr>\n",
       "      <th>2</th>\n",
       "      <td>0.0</td>\n",
       "      <td>0.0</td>\n",
       "      <td>0.0</td>\n",
       "      <td>0.0</td>\n",
       "      <td>0.0</td>\n",
       "      <td>0.0</td>\n",
       "      <td>0.0</td>\n",
       "      <td>0.0</td>\n",
       "      <td>0.0</td>\n",
       "      <td>0.0</td>\n",
       "      <td>...</td>\n",
       "      <td>0.0</td>\n",
       "      <td>0.0</td>\n",
       "      <td>0.0</td>\n",
       "      <td>0.0</td>\n",
       "      <td>0.10871</td>\n",
       "      <td>-0.27960</td>\n",
       "      <td>14.997</td>\n",
       "      <td>11.83410</td>\n",
       "      <td>1.03286</td>\n",
       "      <td>-9.159</td>\n",
       "    </tr>\n",
       "    <tr>\n",
       "      <th>3</th>\n",
       "      <td>0.0</td>\n",
       "      <td>0.0</td>\n",
       "      <td>0.0</td>\n",
       "      <td>0.0</td>\n",
       "      <td>0.0</td>\n",
       "      <td>0.0</td>\n",
       "      <td>0.0</td>\n",
       "      <td>0.0</td>\n",
       "      <td>0.0</td>\n",
       "      <td>0.0</td>\n",
       "      <td>...</td>\n",
       "      <td>0.0</td>\n",
       "      <td>0.0</td>\n",
       "      <td>0.0</td>\n",
       "      <td>0.0</td>\n",
       "      <td>11.83410</td>\n",
       "      <td>1.03286</td>\n",
       "      <td>-9.159</td>\n",
       "      <td>0.10871</td>\n",
       "      <td>-0.27960</td>\n",
       "      <td>14.997</td>\n",
       "    </tr>\n",
       "    <tr>\n",
       "      <th>4</th>\n",
       "      <td>0.0</td>\n",
       "      <td>0.0</td>\n",
       "      <td>0.0</td>\n",
       "      <td>0.0</td>\n",
       "      <td>0.0</td>\n",
       "      <td>0.0</td>\n",
       "      <td>0.0</td>\n",
       "      <td>0.0</td>\n",
       "      <td>0.0</td>\n",
       "      <td>0.0</td>\n",
       "      <td>...</td>\n",
       "      <td>0.0</td>\n",
       "      <td>0.0</td>\n",
       "      <td>0.0</td>\n",
       "      <td>0.0</td>\n",
       "      <td>0.10871</td>\n",
       "      <td>-0.27960</td>\n",
       "      <td>14.997</td>\n",
       "      <td>0.48150</td>\n",
       "      <td>-11.78048</td>\n",
       "      <td>-9.273</td>\n",
       "    </tr>\n",
       "    <tr>\n",
       "      <th>...</th>\n",
       "      <td>...</td>\n",
       "      <td>...</td>\n",
       "      <td>...</td>\n",
       "      <td>...</td>\n",
       "      <td>...</td>\n",
       "      <td>...</td>\n",
       "      <td>...</td>\n",
       "      <td>...</td>\n",
       "      <td>...</td>\n",
       "      <td>...</td>\n",
       "      <td>...</td>\n",
       "      <td>...</td>\n",
       "      <td>...</td>\n",
       "      <td>...</td>\n",
       "      <td>...</td>\n",
       "      <td>...</td>\n",
       "      <td>...</td>\n",
       "      <td>...</td>\n",
       "      <td>...</td>\n",
       "      <td>...</td>\n",
       "      <td>...</td>\n",
       "    </tr>\n",
       "    <tr>\n",
       "      <th>48801</th>\n",
       "      <td>0.0</td>\n",
       "      <td>0.0</td>\n",
       "      <td>0.0</td>\n",
       "      <td>0.0</td>\n",
       "      <td>0.0</td>\n",
       "      <td>0.0</td>\n",
       "      <td>0.0</td>\n",
       "      <td>0.0</td>\n",
       "      <td>0.0</td>\n",
       "      <td>0.0</td>\n",
       "      <td>...</td>\n",
       "      <td>0.0</td>\n",
       "      <td>0.0</td>\n",
       "      <td>0.0</td>\n",
       "      <td>0.0</td>\n",
       "      <td>-9.63243</td>\n",
       "      <td>9.66777</td>\n",
       "      <td>6.225</td>\n",
       "      <td>-0.19256</td>\n",
       "      <td>0.23003</td>\n",
       "      <td>-14.997</td>\n",
       "    </tr>\n",
       "    <tr>\n",
       "      <th>48802</th>\n",
       "      <td>0.0</td>\n",
       "      <td>0.0</td>\n",
       "      <td>0.0</td>\n",
       "      <td>0.0</td>\n",
       "      <td>0.0</td>\n",
       "      <td>0.0</td>\n",
       "      <td>0.0</td>\n",
       "      <td>0.0</td>\n",
       "      <td>0.0</td>\n",
       "      <td>0.0</td>\n",
       "      <td>...</td>\n",
       "      <td>0.0</td>\n",
       "      <td>0.0</td>\n",
       "      <td>0.0</td>\n",
       "      <td>0.0</td>\n",
       "      <td>-0.19256</td>\n",
       "      <td>0.23003</td>\n",
       "      <td>-14.997</td>\n",
       "      <td>13.42070</td>\n",
       "      <td>6.56526</td>\n",
       "      <td>1.335</td>\n",
       "    </tr>\n",
       "    <tr>\n",
       "      <th>48803</th>\n",
       "      <td>0.0</td>\n",
       "      <td>0.0</td>\n",
       "      <td>0.0</td>\n",
       "      <td>0.0</td>\n",
       "      <td>0.0</td>\n",
       "      <td>0.0</td>\n",
       "      <td>0.0</td>\n",
       "      <td>0.0</td>\n",
       "      <td>0.0</td>\n",
       "      <td>0.0</td>\n",
       "      <td>...</td>\n",
       "      <td>0.0</td>\n",
       "      <td>0.0</td>\n",
       "      <td>0.0</td>\n",
       "      <td>0.0</td>\n",
       "      <td>13.42070</td>\n",
       "      <td>6.56526</td>\n",
       "      <td>1.335</td>\n",
       "      <td>-0.19256</td>\n",
       "      <td>0.23003</td>\n",
       "      <td>-14.997</td>\n",
       "    </tr>\n",
       "    <tr>\n",
       "      <th>48804</th>\n",
       "      <td>0.0</td>\n",
       "      <td>0.0</td>\n",
       "      <td>0.0</td>\n",
       "      <td>0.0</td>\n",
       "      <td>0.0</td>\n",
       "      <td>0.0</td>\n",
       "      <td>0.0</td>\n",
       "      <td>0.0</td>\n",
       "      <td>0.0</td>\n",
       "      <td>0.0</td>\n",
       "      <td>...</td>\n",
       "      <td>0.0</td>\n",
       "      <td>0.0</td>\n",
       "      <td>0.0</td>\n",
       "      <td>0.0</td>\n",
       "      <td>-0.19256</td>\n",
       "      <td>0.23003</td>\n",
       "      <td>-14.997</td>\n",
       "      <td>-13.56919</td>\n",
       "      <td>5.13653</td>\n",
       "      <td>3.807</td>\n",
       "    </tr>\n",
       "    <tr>\n",
       "      <th>48805</th>\n",
       "      <td>0.0</td>\n",
       "      <td>0.0</td>\n",
       "      <td>0.0</td>\n",
       "      <td>0.0</td>\n",
       "      <td>0.0</td>\n",
       "      <td>0.0</td>\n",
       "      <td>0.0</td>\n",
       "      <td>0.0</td>\n",
       "      <td>0.0</td>\n",
       "      <td>0.0</td>\n",
       "      <td>...</td>\n",
       "      <td>0.0</td>\n",
       "      <td>0.0</td>\n",
       "      <td>0.0</td>\n",
       "      <td>0.0</td>\n",
       "      <td>-13.56919</td>\n",
       "      <td>5.13653</td>\n",
       "      <td>3.807</td>\n",
       "      <td>-0.19256</td>\n",
       "      <td>0.23003</td>\n",
       "      <td>-14.997</td>\n",
       "    </tr>\n",
       "  </tbody>\n",
       "</table>\n",
       "<p>48806 rows × 678 columns</p>\n",
       "</div>"
      ],
      "text/plain": [
       "         0    1    2    3    4    5    6    7    8    9  ...  668  669  670  \\\n",
       "0      0.0  0.0  0.0  0.0  0.0  0.0  0.0  0.0  0.0  0.0  ...  0.0  0.0  0.0   \n",
       "1      0.0  0.0  0.0  0.0  0.0  0.0  0.0  0.0  0.0  0.0  ...  0.0  0.0  0.0   \n",
       "2      0.0  0.0  0.0  0.0  0.0  0.0  0.0  0.0  0.0  0.0  ...  0.0  0.0  0.0   \n",
       "3      0.0  0.0  0.0  0.0  0.0  0.0  0.0  0.0  0.0  0.0  ...  0.0  0.0  0.0   \n",
       "4      0.0  0.0  0.0  0.0  0.0  0.0  0.0  0.0  0.0  0.0  ...  0.0  0.0  0.0   \n",
       "...    ...  ...  ...  ...  ...  ...  ...  ...  ...  ...  ...  ...  ...  ...   \n",
       "48801  0.0  0.0  0.0  0.0  0.0  0.0  0.0  0.0  0.0  0.0  ...  0.0  0.0  0.0   \n",
       "48802  0.0  0.0  0.0  0.0  0.0  0.0  0.0  0.0  0.0  0.0  ...  0.0  0.0  0.0   \n",
       "48803  0.0  0.0  0.0  0.0  0.0  0.0  0.0  0.0  0.0  0.0  ...  0.0  0.0  0.0   \n",
       "48804  0.0  0.0  0.0  0.0  0.0  0.0  0.0  0.0  0.0  0.0  ...  0.0  0.0  0.0   \n",
       "48805  0.0  0.0  0.0  0.0  0.0  0.0  0.0  0.0  0.0  0.0  ...  0.0  0.0  0.0   \n",
       "\n",
       "       671        x1        y1      z1        x2        y2      z2  \n",
       "0      0.0   0.10871  -0.27960  14.997  10.61088  10.45806  -1.743  \n",
       "1      0.0  10.61088  10.45806  -1.743   0.10871  -0.27960  14.997  \n",
       "2      0.0   0.10871  -0.27960  14.997  11.83410   1.03286  -9.159  \n",
       "3      0.0  11.83410   1.03286  -9.159   0.10871  -0.27960  14.997  \n",
       "4      0.0   0.10871  -0.27960  14.997   0.48150 -11.78048  -9.273  \n",
       "...    ...       ...       ...     ...       ...       ...     ...  \n",
       "48801  0.0  -9.63243   9.66777   6.225  -0.19256   0.23003 -14.997  \n",
       "48802  0.0  -0.19256   0.23003 -14.997  13.42070   6.56526   1.335  \n",
       "48803  0.0  13.42070   6.56526   1.335  -0.19256   0.23003 -14.997  \n",
       "48804  0.0  -0.19256   0.23003 -14.997 -13.56919   5.13653   3.807  \n",
       "48805  0.0 -13.56919   5.13653   3.807  -0.19256   0.23003 -14.997  \n",
       "\n",
       "[48806 rows x 678 columns]"
      ]
     },
     "execution_count": 6,
     "metadata": {},
     "output_type": "execute_result"
    }
   ],
   "source": [
    "df = pd.concat([df_x, df_y], axis=1)\n",
    "df"
   ]
  },
  {
   "cell_type": "code",
   "execution_count": 7,
   "id": "937d0d41",
   "metadata": {
    "ExecuteTime": {
     "end_time": "2023-05-30T13:09:26.548333Z",
     "start_time": "2023-05-30T13:09:26.545139Z"
    }
   },
   "outputs": [],
   "source": [
    "labels = [str(i) for i in range(672)]"
   ]
  },
  {
   "cell_type": "code",
   "execution_count": 8,
   "id": "929fc843",
   "metadata": {
    "ExecuteTime": {
     "end_time": "2023-05-30T13:09:32.657908Z",
     "start_time": "2023-05-30T13:09:26.550186Z"
    }
   },
   "outputs": [
    {
     "data": {
      "text/html": [
       "<div>\n",
       "<style scoped>\n",
       "    .dataframe tbody tr th:only-of-type {\n",
       "        vertical-align: middle;\n",
       "    }\n",
       "\n",
       "    .dataframe tbody tr th {\n",
       "        vertical-align: top;\n",
       "    }\n",
       "\n",
       "    .dataframe thead th {\n",
       "        text-align: right;\n",
       "    }\n",
       "</style>\n",
       "<table border=\"1\" class=\"dataframe\">\n",
       "  <thead>\n",
       "    <tr style=\"text-align: right;\">\n",
       "      <th></th>\n",
       "      <th>0</th>\n",
       "      <th>1</th>\n",
       "      <th>2</th>\n",
       "      <th>3</th>\n",
       "      <th>4</th>\n",
       "      <th>5</th>\n",
       "      <th>6</th>\n",
       "      <th>7</th>\n",
       "      <th>8</th>\n",
       "      <th>9</th>\n",
       "      <th>...</th>\n",
       "      <th>668</th>\n",
       "      <th>669</th>\n",
       "      <th>670</th>\n",
       "      <th>671</th>\n",
       "      <th>x1</th>\n",
       "      <th>y1</th>\n",
       "      <th>z1</th>\n",
       "      <th>x2</th>\n",
       "      <th>y2</th>\n",
       "      <th>z2</th>\n",
       "    </tr>\n",
       "  </thead>\n",
       "  <tbody>\n",
       "    <tr>\n",
       "      <th>0</th>\n",
       "      <td>0.0</td>\n",
       "      <td>0.0</td>\n",
       "      <td>0.0</td>\n",
       "      <td>0.0</td>\n",
       "      <td>0.0</td>\n",
       "      <td>0.0</td>\n",
       "      <td>0.0</td>\n",
       "      <td>0.0</td>\n",
       "      <td>0.0</td>\n",
       "      <td>0.0</td>\n",
       "      <td>...</td>\n",
       "      <td>0.0</td>\n",
       "      <td>0.0</td>\n",
       "      <td>0.0</td>\n",
       "      <td>0.0</td>\n",
       "      <td>0.10871</td>\n",
       "      <td>-0.27960</td>\n",
       "      <td>14.997</td>\n",
       "      <td>10.61088</td>\n",
       "      <td>10.45806</td>\n",
       "      <td>-1.743</td>\n",
       "    </tr>\n",
       "    <tr>\n",
       "      <th>1</th>\n",
       "      <td>0.0</td>\n",
       "      <td>0.0</td>\n",
       "      <td>0.0</td>\n",
       "      <td>0.0</td>\n",
       "      <td>0.0</td>\n",
       "      <td>0.0</td>\n",
       "      <td>0.0</td>\n",
       "      <td>0.0</td>\n",
       "      <td>0.0</td>\n",
       "      <td>0.0</td>\n",
       "      <td>...</td>\n",
       "      <td>0.0</td>\n",
       "      <td>0.0</td>\n",
       "      <td>0.0</td>\n",
       "      <td>0.0</td>\n",
       "      <td>10.61088</td>\n",
       "      <td>10.45806</td>\n",
       "      <td>-1.743</td>\n",
       "      <td>0.10871</td>\n",
       "      <td>-0.27960</td>\n",
       "      <td>14.997</td>\n",
       "    </tr>\n",
       "    <tr>\n",
       "      <th>2</th>\n",
       "      <td>0.0</td>\n",
       "      <td>0.0</td>\n",
       "      <td>0.0</td>\n",
       "      <td>0.0</td>\n",
       "      <td>0.0</td>\n",
       "      <td>0.0</td>\n",
       "      <td>0.0</td>\n",
       "      <td>0.0</td>\n",
       "      <td>0.0</td>\n",
       "      <td>0.0</td>\n",
       "      <td>...</td>\n",
       "      <td>0.0</td>\n",
       "      <td>0.0</td>\n",
       "      <td>0.0</td>\n",
       "      <td>0.0</td>\n",
       "      <td>0.10871</td>\n",
       "      <td>-0.27960</td>\n",
       "      <td>14.997</td>\n",
       "      <td>11.83410</td>\n",
       "      <td>1.03286</td>\n",
       "      <td>-9.159</td>\n",
       "    </tr>\n",
       "    <tr>\n",
       "      <th>3</th>\n",
       "      <td>0.0</td>\n",
       "      <td>0.0</td>\n",
       "      <td>0.0</td>\n",
       "      <td>0.0</td>\n",
       "      <td>0.0</td>\n",
       "      <td>0.0</td>\n",
       "      <td>0.0</td>\n",
       "      <td>0.0</td>\n",
       "      <td>0.0</td>\n",
       "      <td>0.0</td>\n",
       "      <td>...</td>\n",
       "      <td>0.0</td>\n",
       "      <td>0.0</td>\n",
       "      <td>0.0</td>\n",
       "      <td>0.0</td>\n",
       "      <td>11.83410</td>\n",
       "      <td>1.03286</td>\n",
       "      <td>-9.159</td>\n",
       "      <td>0.10871</td>\n",
       "      <td>-0.27960</td>\n",
       "      <td>14.997</td>\n",
       "    </tr>\n",
       "    <tr>\n",
       "      <th>4</th>\n",
       "      <td>0.0</td>\n",
       "      <td>0.0</td>\n",
       "      <td>0.0</td>\n",
       "      <td>0.0</td>\n",
       "      <td>0.0</td>\n",
       "      <td>0.0</td>\n",
       "      <td>0.0</td>\n",
       "      <td>0.0</td>\n",
       "      <td>0.0</td>\n",
       "      <td>0.0</td>\n",
       "      <td>...</td>\n",
       "      <td>0.0</td>\n",
       "      <td>0.0</td>\n",
       "      <td>0.0</td>\n",
       "      <td>0.0</td>\n",
       "      <td>0.10871</td>\n",
       "      <td>-0.27960</td>\n",
       "      <td>14.997</td>\n",
       "      <td>0.48150</td>\n",
       "      <td>-11.78048</td>\n",
       "      <td>-9.273</td>\n",
       "    </tr>\n",
       "    <tr>\n",
       "      <th>...</th>\n",
       "      <td>...</td>\n",
       "      <td>...</td>\n",
       "      <td>...</td>\n",
       "      <td>...</td>\n",
       "      <td>...</td>\n",
       "      <td>...</td>\n",
       "      <td>...</td>\n",
       "      <td>...</td>\n",
       "      <td>...</td>\n",
       "      <td>...</td>\n",
       "      <td>...</td>\n",
       "      <td>...</td>\n",
       "      <td>...</td>\n",
       "      <td>...</td>\n",
       "      <td>...</td>\n",
       "      <td>...</td>\n",
       "      <td>...</td>\n",
       "      <td>...</td>\n",
       "      <td>...</td>\n",
       "      <td>...</td>\n",
       "      <td>...</td>\n",
       "    </tr>\n",
       "    <tr>\n",
       "      <th>19959</th>\n",
       "      <td>0.0</td>\n",
       "      <td>0.0</td>\n",
       "      <td>0.0</td>\n",
       "      <td>0.0</td>\n",
       "      <td>0.0</td>\n",
       "      <td>0.0</td>\n",
       "      <td>0.0</td>\n",
       "      <td>0.0</td>\n",
       "      <td>0.0</td>\n",
       "      <td>0.0</td>\n",
       "      <td>...</td>\n",
       "      <td>0.0</td>\n",
       "      <td>0.0</td>\n",
       "      <td>0.0</td>\n",
       "      <td>0.0</td>\n",
       "      <td>11.19873</td>\n",
       "      <td>1.87854</td>\n",
       "      <td>9.801</td>\n",
       "      <td>-0.19256</td>\n",
       "      <td>0.23003</td>\n",
       "      <td>-14.997</td>\n",
       "    </tr>\n",
       "    <tr>\n",
       "      <th>19960</th>\n",
       "      <td>0.0</td>\n",
       "      <td>0.0</td>\n",
       "      <td>0.0</td>\n",
       "      <td>0.0</td>\n",
       "      <td>0.0</td>\n",
       "      <td>0.0</td>\n",
       "      <td>0.0</td>\n",
       "      <td>0.0</td>\n",
       "      <td>0.0</td>\n",
       "      <td>0.0</td>\n",
       "      <td>...</td>\n",
       "      <td>0.0</td>\n",
       "      <td>0.0</td>\n",
       "      <td>2.0</td>\n",
       "      <td>0.0</td>\n",
       "      <td>-0.19256</td>\n",
       "      <td>0.23003</td>\n",
       "      <td>-14.997</td>\n",
       "      <td>8.72039</td>\n",
       "      <td>6.20611</td>\n",
       "      <td>10.509</td>\n",
       "    </tr>\n",
       "    <tr>\n",
       "      <th>19961</th>\n",
       "      <td>0.0</td>\n",
       "      <td>0.0</td>\n",
       "      <td>0.0</td>\n",
       "      <td>0.0</td>\n",
       "      <td>0.0</td>\n",
       "      <td>0.0</td>\n",
       "      <td>0.0</td>\n",
       "      <td>0.0</td>\n",
       "      <td>0.0</td>\n",
       "      <td>0.0</td>\n",
       "      <td>...</td>\n",
       "      <td>0.0</td>\n",
       "      <td>0.0</td>\n",
       "      <td>0.0</td>\n",
       "      <td>0.0</td>\n",
       "      <td>8.72039</td>\n",
       "      <td>6.20611</td>\n",
       "      <td>10.509</td>\n",
       "      <td>-0.19256</td>\n",
       "      <td>0.23003</td>\n",
       "      <td>-14.997</td>\n",
       "    </tr>\n",
       "    <tr>\n",
       "      <th>19962</th>\n",
       "      <td>0.0</td>\n",
       "      <td>0.0</td>\n",
       "      <td>0.0</td>\n",
       "      <td>0.0</td>\n",
       "      <td>0.0</td>\n",
       "      <td>0.0</td>\n",
       "      <td>0.0</td>\n",
       "      <td>0.0</td>\n",
       "      <td>0.0</td>\n",
       "      <td>0.0</td>\n",
       "      <td>...</td>\n",
       "      <td>0.0</td>\n",
       "      <td>0.0</td>\n",
       "      <td>0.0</td>\n",
       "      <td>0.0</td>\n",
       "      <td>-0.19256</td>\n",
       "      <td>0.23003</td>\n",
       "      <td>-14.997</td>\n",
       "      <td>2.34033</td>\n",
       "      <td>14.49242</td>\n",
       "      <td>3.081</td>\n",
       "    </tr>\n",
       "    <tr>\n",
       "      <th>19963</th>\n",
       "      <td>0.0</td>\n",
       "      <td>0.0</td>\n",
       "      <td>0.0</td>\n",
       "      <td>0.0</td>\n",
       "      <td>0.0</td>\n",
       "      <td>0.0</td>\n",
       "      <td>0.0</td>\n",
       "      <td>0.0</td>\n",
       "      <td>0.0</td>\n",
       "      <td>0.0</td>\n",
       "      <td>...</td>\n",
       "      <td>0.0</td>\n",
       "      <td>0.0</td>\n",
       "      <td>0.0</td>\n",
       "      <td>0.0</td>\n",
       "      <td>2.34033</td>\n",
       "      <td>14.49242</td>\n",
       "      <td>3.081</td>\n",
       "      <td>-0.19256</td>\n",
       "      <td>0.23003</td>\n",
       "      <td>-14.997</td>\n",
       "    </tr>\n",
       "  </tbody>\n",
       "</table>\n",
       "<p>19964 rows × 678 columns</p>\n",
       "</div>"
      ],
      "text/plain": [
       "         0    1    2    3    4    5    6    7    8    9  ...  668  669  670  \\\n",
       "0      0.0  0.0  0.0  0.0  0.0  0.0  0.0  0.0  0.0  0.0  ...  0.0  0.0  0.0   \n",
       "1      0.0  0.0  0.0  0.0  0.0  0.0  0.0  0.0  0.0  0.0  ...  0.0  0.0  0.0   \n",
       "2      0.0  0.0  0.0  0.0  0.0  0.0  0.0  0.0  0.0  0.0  ...  0.0  0.0  0.0   \n",
       "3      0.0  0.0  0.0  0.0  0.0  0.0  0.0  0.0  0.0  0.0  ...  0.0  0.0  0.0   \n",
       "4      0.0  0.0  0.0  0.0  0.0  0.0  0.0  0.0  0.0  0.0  ...  0.0  0.0  0.0   \n",
       "...    ...  ...  ...  ...  ...  ...  ...  ...  ...  ...  ...  ...  ...  ...   \n",
       "19959  0.0  0.0  0.0  0.0  0.0  0.0  0.0  0.0  0.0  0.0  ...  0.0  0.0  0.0   \n",
       "19960  0.0  0.0  0.0  0.0  0.0  0.0  0.0  0.0  0.0  0.0  ...  0.0  0.0  2.0   \n",
       "19961  0.0  0.0  0.0  0.0  0.0  0.0  0.0  0.0  0.0  0.0  ...  0.0  0.0  0.0   \n",
       "19962  0.0  0.0  0.0  0.0  0.0  0.0  0.0  0.0  0.0  0.0  ...  0.0  0.0  0.0   \n",
       "19963  0.0  0.0  0.0  0.0  0.0  0.0  0.0  0.0  0.0  0.0  ...  0.0  0.0  0.0   \n",
       "\n",
       "       671        x1        y1      z1        x2        y2      z2  \n",
       "0      0.0   0.10871  -0.27960  14.997  10.61088  10.45806  -1.743  \n",
       "1      0.0  10.61088  10.45806  -1.743   0.10871  -0.27960  14.997  \n",
       "2      0.0   0.10871  -0.27960  14.997  11.83410   1.03286  -9.159  \n",
       "3      0.0  11.83410   1.03286  -9.159   0.10871  -0.27960  14.997  \n",
       "4      0.0   0.10871  -0.27960  14.997   0.48150 -11.78048  -9.273  \n",
       "...    ...       ...       ...     ...       ...       ...     ...  \n",
       "19959  0.0  11.19873   1.87854   9.801  -0.19256   0.23003 -14.997  \n",
       "19960  0.0  -0.19256   0.23003 -14.997   8.72039   6.20611  10.509  \n",
       "19961  0.0   8.72039   6.20611  10.509  -0.19256   0.23003 -14.997  \n",
       "19962  0.0  -0.19256   0.23003 -14.997   2.34033  14.49242   3.081  \n",
       "19963  0.0   2.34033  14.49242   3.081  -0.19256   0.23003 -14.997  \n",
       "\n",
       "[19964 rows x 678 columns]"
      ]
     },
     "execution_count": 8,
     "metadata": {},
     "output_type": "execute_result"
    }
   ],
   "source": [
    "df = df.drop_duplicates(subset=labels, ignore_index=True)\n",
    "df"
   ]
  },
  {
   "cell_type": "code",
   "execution_count": 9,
   "id": "5955c2c5",
   "metadata": {
    "ExecuteTime": {
     "end_time": "2023-05-30T13:09:33.009212Z",
     "start_time": "2023-05-30T13:09:32.661484Z"
    }
   },
   "outputs": [
    {
     "data": {
      "text/html": [
       "<div>\n",
       "<style scoped>\n",
       "    .dataframe tbody tr th:only-of-type {\n",
       "        vertical-align: middle;\n",
       "    }\n",
       "\n",
       "    .dataframe tbody tr th {\n",
       "        vertical-align: top;\n",
       "    }\n",
       "\n",
       "    .dataframe thead th {\n",
       "        text-align: right;\n",
       "    }\n",
       "</style>\n",
       "<table border=\"1\" class=\"dataframe\">\n",
       "  <thead>\n",
       "    <tr style=\"text-align: right;\">\n",
       "      <th></th>\n",
       "      <th>0</th>\n",
       "      <th>1</th>\n",
       "      <th>2</th>\n",
       "      <th>3</th>\n",
       "      <th>4</th>\n",
       "      <th>5</th>\n",
       "      <th>6</th>\n",
       "      <th>7</th>\n",
       "      <th>8</th>\n",
       "      <th>9</th>\n",
       "      <th>...</th>\n",
       "      <th>662</th>\n",
       "      <th>663</th>\n",
       "      <th>664</th>\n",
       "      <th>665</th>\n",
       "      <th>666</th>\n",
       "      <th>667</th>\n",
       "      <th>668</th>\n",
       "      <th>669</th>\n",
       "      <th>670</th>\n",
       "      <th>671</th>\n",
       "    </tr>\n",
       "  </thead>\n",
       "  <tbody>\n",
       "    <tr>\n",
       "      <th>0</th>\n",
       "      <td>0.0</td>\n",
       "      <td>0.0</td>\n",
       "      <td>0.0</td>\n",
       "      <td>0.0</td>\n",
       "      <td>0.0</td>\n",
       "      <td>0.0</td>\n",
       "      <td>0.0</td>\n",
       "      <td>0.0</td>\n",
       "      <td>0.0</td>\n",
       "      <td>0.0</td>\n",
       "      <td>...</td>\n",
       "      <td>0.0</td>\n",
       "      <td>0.0</td>\n",
       "      <td>0.0</td>\n",
       "      <td>0.0</td>\n",
       "      <td>2.0</td>\n",
       "      <td>0.0</td>\n",
       "      <td>0.0</td>\n",
       "      <td>0.0</td>\n",
       "      <td>0.0</td>\n",
       "      <td>0.0</td>\n",
       "    </tr>\n",
       "    <tr>\n",
       "      <th>1</th>\n",
       "      <td>0.0</td>\n",
       "      <td>0.0</td>\n",
       "      <td>0.0</td>\n",
       "      <td>0.0</td>\n",
       "      <td>0.0</td>\n",
       "      <td>0.0</td>\n",
       "      <td>0.0</td>\n",
       "      <td>0.0</td>\n",
       "      <td>0.0</td>\n",
       "      <td>0.0</td>\n",
       "      <td>...</td>\n",
       "      <td>0.0</td>\n",
       "      <td>0.0</td>\n",
       "      <td>0.0</td>\n",
       "      <td>0.0</td>\n",
       "      <td>1.0</td>\n",
       "      <td>0.0</td>\n",
       "      <td>0.0</td>\n",
       "      <td>0.0</td>\n",
       "      <td>0.0</td>\n",
       "      <td>0.0</td>\n",
       "    </tr>\n",
       "    <tr>\n",
       "      <th>2</th>\n",
       "      <td>0.0</td>\n",
       "      <td>0.0</td>\n",
       "      <td>0.0</td>\n",
       "      <td>0.0</td>\n",
       "      <td>0.0</td>\n",
       "      <td>0.0</td>\n",
       "      <td>0.0</td>\n",
       "      <td>0.0</td>\n",
       "      <td>0.0</td>\n",
       "      <td>0.0</td>\n",
       "      <td>...</td>\n",
       "      <td>0.0</td>\n",
       "      <td>0.0</td>\n",
       "      <td>0.0</td>\n",
       "      <td>0.0</td>\n",
       "      <td>0.0</td>\n",
       "      <td>0.0</td>\n",
       "      <td>0.0</td>\n",
       "      <td>0.0</td>\n",
       "      <td>0.0</td>\n",
       "      <td>0.0</td>\n",
       "    </tr>\n",
       "    <tr>\n",
       "      <th>3</th>\n",
       "      <td>0.0</td>\n",
       "      <td>0.0</td>\n",
       "      <td>0.0</td>\n",
       "      <td>0.0</td>\n",
       "      <td>0.0</td>\n",
       "      <td>0.0</td>\n",
       "      <td>0.0</td>\n",
       "      <td>0.0</td>\n",
       "      <td>0.0</td>\n",
       "      <td>0.0</td>\n",
       "      <td>...</td>\n",
       "      <td>0.0</td>\n",
       "      <td>0.0</td>\n",
       "      <td>0.0</td>\n",
       "      <td>0.0</td>\n",
       "      <td>0.0</td>\n",
       "      <td>0.0</td>\n",
       "      <td>0.0</td>\n",
       "      <td>0.0</td>\n",
       "      <td>0.0</td>\n",
       "      <td>0.0</td>\n",
       "    </tr>\n",
       "    <tr>\n",
       "      <th>4</th>\n",
       "      <td>0.0</td>\n",
       "      <td>0.0</td>\n",
       "      <td>0.0</td>\n",
       "      <td>0.0</td>\n",
       "      <td>0.0</td>\n",
       "      <td>0.0</td>\n",
       "      <td>0.0</td>\n",
       "      <td>0.0</td>\n",
       "      <td>0.0</td>\n",
       "      <td>0.0</td>\n",
       "      <td>...</td>\n",
       "      <td>0.0</td>\n",
       "      <td>0.0</td>\n",
       "      <td>0.0</td>\n",
       "      <td>0.0</td>\n",
       "      <td>0.0</td>\n",
       "      <td>0.0</td>\n",
       "      <td>0.0</td>\n",
       "      <td>0.0</td>\n",
       "      <td>0.0</td>\n",
       "      <td>0.0</td>\n",
       "    </tr>\n",
       "    <tr>\n",
       "      <th>...</th>\n",
       "      <td>...</td>\n",
       "      <td>...</td>\n",
       "      <td>...</td>\n",
       "      <td>...</td>\n",
       "      <td>...</td>\n",
       "      <td>...</td>\n",
       "      <td>...</td>\n",
       "      <td>...</td>\n",
       "      <td>...</td>\n",
       "      <td>...</td>\n",
       "      <td>...</td>\n",
       "      <td>...</td>\n",
       "      <td>...</td>\n",
       "      <td>...</td>\n",
       "      <td>...</td>\n",
       "      <td>...</td>\n",
       "      <td>...</td>\n",
       "      <td>...</td>\n",
       "      <td>...</td>\n",
       "      <td>...</td>\n",
       "      <td>...</td>\n",
       "    </tr>\n",
       "    <tr>\n",
       "      <th>19959</th>\n",
       "      <td>0.0</td>\n",
       "      <td>0.0</td>\n",
       "      <td>0.0</td>\n",
       "      <td>0.0</td>\n",
       "      <td>0.0</td>\n",
       "      <td>0.0</td>\n",
       "      <td>0.0</td>\n",
       "      <td>0.0</td>\n",
       "      <td>0.0</td>\n",
       "      <td>0.0</td>\n",
       "      <td>...</td>\n",
       "      <td>0.0</td>\n",
       "      <td>0.0</td>\n",
       "      <td>0.0</td>\n",
       "      <td>0.0</td>\n",
       "      <td>0.0</td>\n",
       "      <td>0.0</td>\n",
       "      <td>0.0</td>\n",
       "      <td>0.0</td>\n",
       "      <td>0.0</td>\n",
       "      <td>0.0</td>\n",
       "    </tr>\n",
       "    <tr>\n",
       "      <th>19960</th>\n",
       "      <td>0.0</td>\n",
       "      <td>0.0</td>\n",
       "      <td>0.0</td>\n",
       "      <td>0.0</td>\n",
       "      <td>0.0</td>\n",
       "      <td>0.0</td>\n",
       "      <td>0.0</td>\n",
       "      <td>0.0</td>\n",
       "      <td>0.0</td>\n",
       "      <td>0.0</td>\n",
       "      <td>...</td>\n",
       "      <td>0.0</td>\n",
       "      <td>0.0</td>\n",
       "      <td>0.0</td>\n",
       "      <td>0.0</td>\n",
       "      <td>0.0</td>\n",
       "      <td>0.0</td>\n",
       "      <td>0.0</td>\n",
       "      <td>0.0</td>\n",
       "      <td>2.0</td>\n",
       "      <td>0.0</td>\n",
       "    </tr>\n",
       "    <tr>\n",
       "      <th>19961</th>\n",
       "      <td>0.0</td>\n",
       "      <td>0.0</td>\n",
       "      <td>0.0</td>\n",
       "      <td>0.0</td>\n",
       "      <td>0.0</td>\n",
       "      <td>0.0</td>\n",
       "      <td>0.0</td>\n",
       "      <td>0.0</td>\n",
       "      <td>0.0</td>\n",
       "      <td>0.0</td>\n",
       "      <td>...</td>\n",
       "      <td>0.0</td>\n",
       "      <td>0.0</td>\n",
       "      <td>0.0</td>\n",
       "      <td>0.0</td>\n",
       "      <td>0.0</td>\n",
       "      <td>0.0</td>\n",
       "      <td>0.0</td>\n",
       "      <td>0.0</td>\n",
       "      <td>0.0</td>\n",
       "      <td>0.0</td>\n",
       "    </tr>\n",
       "    <tr>\n",
       "      <th>19962</th>\n",
       "      <td>0.0</td>\n",
       "      <td>0.0</td>\n",
       "      <td>0.0</td>\n",
       "      <td>0.0</td>\n",
       "      <td>0.0</td>\n",
       "      <td>0.0</td>\n",
       "      <td>0.0</td>\n",
       "      <td>0.0</td>\n",
       "      <td>0.0</td>\n",
       "      <td>0.0</td>\n",
       "      <td>...</td>\n",
       "      <td>4.0</td>\n",
       "      <td>0.0</td>\n",
       "      <td>0.0</td>\n",
       "      <td>0.0</td>\n",
       "      <td>0.0</td>\n",
       "      <td>1.0</td>\n",
       "      <td>0.0</td>\n",
       "      <td>0.0</td>\n",
       "      <td>0.0</td>\n",
       "      <td>0.0</td>\n",
       "    </tr>\n",
       "    <tr>\n",
       "      <th>19963</th>\n",
       "      <td>0.0</td>\n",
       "      <td>0.0</td>\n",
       "      <td>0.0</td>\n",
       "      <td>0.0</td>\n",
       "      <td>0.0</td>\n",
       "      <td>0.0</td>\n",
       "      <td>0.0</td>\n",
       "      <td>0.0</td>\n",
       "      <td>0.0</td>\n",
       "      <td>0.0</td>\n",
       "      <td>...</td>\n",
       "      <td>1.0</td>\n",
       "      <td>0.0</td>\n",
       "      <td>0.0</td>\n",
       "      <td>0.0</td>\n",
       "      <td>0.0</td>\n",
       "      <td>0.0</td>\n",
       "      <td>0.0</td>\n",
       "      <td>0.0</td>\n",
       "      <td>0.0</td>\n",
       "      <td>0.0</td>\n",
       "    </tr>\n",
       "  </tbody>\n",
       "</table>\n",
       "<p>19964 rows × 672 columns</p>\n",
       "</div>"
      ],
      "text/plain": [
       "         0    1    2    3    4    5    6    7    8    9  ...  662  663  664  \\\n",
       "0      0.0  0.0  0.0  0.0  0.0  0.0  0.0  0.0  0.0  0.0  ...  0.0  0.0  0.0   \n",
       "1      0.0  0.0  0.0  0.0  0.0  0.0  0.0  0.0  0.0  0.0  ...  0.0  0.0  0.0   \n",
       "2      0.0  0.0  0.0  0.0  0.0  0.0  0.0  0.0  0.0  0.0  ...  0.0  0.0  0.0   \n",
       "3      0.0  0.0  0.0  0.0  0.0  0.0  0.0  0.0  0.0  0.0  ...  0.0  0.0  0.0   \n",
       "4      0.0  0.0  0.0  0.0  0.0  0.0  0.0  0.0  0.0  0.0  ...  0.0  0.0  0.0   \n",
       "...    ...  ...  ...  ...  ...  ...  ...  ...  ...  ...  ...  ...  ...  ...   \n",
       "19959  0.0  0.0  0.0  0.0  0.0  0.0  0.0  0.0  0.0  0.0  ...  0.0  0.0  0.0   \n",
       "19960  0.0  0.0  0.0  0.0  0.0  0.0  0.0  0.0  0.0  0.0  ...  0.0  0.0  0.0   \n",
       "19961  0.0  0.0  0.0  0.0  0.0  0.0  0.0  0.0  0.0  0.0  ...  0.0  0.0  0.0   \n",
       "19962  0.0  0.0  0.0  0.0  0.0  0.0  0.0  0.0  0.0  0.0  ...  4.0  0.0  0.0   \n",
       "19963  0.0  0.0  0.0  0.0  0.0  0.0  0.0  0.0  0.0  0.0  ...  1.0  0.0  0.0   \n",
       "\n",
       "       665  666  667  668  669  670  671  \n",
       "0      0.0  2.0  0.0  0.0  0.0  0.0  0.0  \n",
       "1      0.0  1.0  0.0  0.0  0.0  0.0  0.0  \n",
       "2      0.0  0.0  0.0  0.0  0.0  0.0  0.0  \n",
       "3      0.0  0.0  0.0  0.0  0.0  0.0  0.0  \n",
       "4      0.0  0.0  0.0  0.0  0.0  0.0  0.0  \n",
       "...    ...  ...  ...  ...  ...  ...  ...  \n",
       "19959  0.0  0.0  0.0  0.0  0.0  0.0  0.0  \n",
       "19960  0.0  0.0  0.0  0.0  0.0  2.0  0.0  \n",
       "19961  0.0  0.0  0.0  0.0  0.0  0.0  0.0  \n",
       "19962  0.0  0.0  1.0  0.0  0.0  0.0  0.0  \n",
       "19963  0.0  0.0  0.0  0.0  0.0  0.0  0.0  \n",
       "\n",
       "[19964 rows x 672 columns]"
      ]
     },
     "execution_count": 9,
     "metadata": {},
     "output_type": "execute_result"
    }
   ],
   "source": [
    "df_x = df.drop(labels=['x1', 'y1', 'z1', 'x2', 'y2', 'z2'], axis=1)\n",
    "df_x"
   ]
  },
  {
   "cell_type": "code",
   "execution_count": 10,
   "id": "cace89d2",
   "metadata": {
    "ExecuteTime": {
     "end_time": "2023-05-30T13:09:33.035612Z",
     "start_time": "2023-05-30T13:09:33.011913Z"
    }
   },
   "outputs": [
    {
     "data": {
      "text/html": [
       "<div>\n",
       "<style scoped>\n",
       "    .dataframe tbody tr th:only-of-type {\n",
       "        vertical-align: middle;\n",
       "    }\n",
       "\n",
       "    .dataframe tbody tr th {\n",
       "        vertical-align: top;\n",
       "    }\n",
       "\n",
       "    .dataframe thead th {\n",
       "        text-align: right;\n",
       "    }\n",
       "</style>\n",
       "<table border=\"1\" class=\"dataframe\">\n",
       "  <thead>\n",
       "    <tr style=\"text-align: right;\">\n",
       "      <th></th>\n",
       "      <th>x1</th>\n",
       "      <th>y1</th>\n",
       "      <th>z1</th>\n",
       "      <th>x2</th>\n",
       "      <th>y2</th>\n",
       "      <th>z2</th>\n",
       "    </tr>\n",
       "  </thead>\n",
       "  <tbody>\n",
       "    <tr>\n",
       "      <th>0</th>\n",
       "      <td>0.10871</td>\n",
       "      <td>-0.27960</td>\n",
       "      <td>14.997</td>\n",
       "      <td>10.61088</td>\n",
       "      <td>10.45806</td>\n",
       "      <td>-1.743</td>\n",
       "    </tr>\n",
       "    <tr>\n",
       "      <th>1</th>\n",
       "      <td>10.61088</td>\n",
       "      <td>10.45806</td>\n",
       "      <td>-1.743</td>\n",
       "      <td>0.10871</td>\n",
       "      <td>-0.27960</td>\n",
       "      <td>14.997</td>\n",
       "    </tr>\n",
       "    <tr>\n",
       "      <th>2</th>\n",
       "      <td>0.10871</td>\n",
       "      <td>-0.27960</td>\n",
       "      <td>14.997</td>\n",
       "      <td>11.83410</td>\n",
       "      <td>1.03286</td>\n",
       "      <td>-9.159</td>\n",
       "    </tr>\n",
       "    <tr>\n",
       "      <th>3</th>\n",
       "      <td>11.83410</td>\n",
       "      <td>1.03286</td>\n",
       "      <td>-9.159</td>\n",
       "      <td>0.10871</td>\n",
       "      <td>-0.27960</td>\n",
       "      <td>14.997</td>\n",
       "    </tr>\n",
       "    <tr>\n",
       "      <th>4</th>\n",
       "      <td>0.10871</td>\n",
       "      <td>-0.27960</td>\n",
       "      <td>14.997</td>\n",
       "      <td>0.48150</td>\n",
       "      <td>-11.78048</td>\n",
       "      <td>-9.273</td>\n",
       "    </tr>\n",
       "    <tr>\n",
       "      <th>...</th>\n",
       "      <td>...</td>\n",
       "      <td>...</td>\n",
       "      <td>...</td>\n",
       "      <td>...</td>\n",
       "      <td>...</td>\n",
       "      <td>...</td>\n",
       "    </tr>\n",
       "    <tr>\n",
       "      <th>19959</th>\n",
       "      <td>11.19873</td>\n",
       "      <td>1.87854</td>\n",
       "      <td>9.801</td>\n",
       "      <td>-0.19256</td>\n",
       "      <td>0.23003</td>\n",
       "      <td>-14.997</td>\n",
       "    </tr>\n",
       "    <tr>\n",
       "      <th>19960</th>\n",
       "      <td>-0.19256</td>\n",
       "      <td>0.23003</td>\n",
       "      <td>-14.997</td>\n",
       "      <td>8.72039</td>\n",
       "      <td>6.20611</td>\n",
       "      <td>10.509</td>\n",
       "    </tr>\n",
       "    <tr>\n",
       "      <th>19961</th>\n",
       "      <td>8.72039</td>\n",
       "      <td>6.20611</td>\n",
       "      <td>10.509</td>\n",
       "      <td>-0.19256</td>\n",
       "      <td>0.23003</td>\n",
       "      <td>-14.997</td>\n",
       "    </tr>\n",
       "    <tr>\n",
       "      <th>19962</th>\n",
       "      <td>-0.19256</td>\n",
       "      <td>0.23003</td>\n",
       "      <td>-14.997</td>\n",
       "      <td>2.34033</td>\n",
       "      <td>14.49242</td>\n",
       "      <td>3.081</td>\n",
       "    </tr>\n",
       "    <tr>\n",
       "      <th>19963</th>\n",
       "      <td>2.34033</td>\n",
       "      <td>14.49242</td>\n",
       "      <td>3.081</td>\n",
       "      <td>-0.19256</td>\n",
       "      <td>0.23003</td>\n",
       "      <td>-14.997</td>\n",
       "    </tr>\n",
       "  </tbody>\n",
       "</table>\n",
       "<p>19964 rows × 6 columns</p>\n",
       "</div>"
      ],
      "text/plain": [
       "             x1        y1      z1        x2        y2      z2\n",
       "0       0.10871  -0.27960  14.997  10.61088  10.45806  -1.743\n",
       "1      10.61088  10.45806  -1.743   0.10871  -0.27960  14.997\n",
       "2       0.10871  -0.27960  14.997  11.83410   1.03286  -9.159\n",
       "3      11.83410   1.03286  -9.159   0.10871  -0.27960  14.997\n",
       "4       0.10871  -0.27960  14.997   0.48150 -11.78048  -9.273\n",
       "...         ...       ...     ...       ...       ...     ...\n",
       "19959  11.19873   1.87854   9.801  -0.19256   0.23003 -14.997\n",
       "19960  -0.19256   0.23003 -14.997   8.72039   6.20611  10.509\n",
       "19961   8.72039   6.20611  10.509  -0.19256   0.23003 -14.997\n",
       "19962  -0.19256   0.23003 -14.997   2.34033  14.49242   3.081\n",
       "19963   2.34033  14.49242   3.081  -0.19256   0.23003 -14.997\n",
       "\n",
       "[19964 rows x 6 columns]"
      ]
     },
     "execution_count": 10,
     "metadata": {},
     "output_type": "execute_result"
    }
   ],
   "source": [
    "df_y = df.drop(labels=labels, axis=1)\n",
    "df_y"
   ]
  },
  {
   "cell_type": "code",
   "execution_count": 11,
   "id": "1fdc896d",
   "metadata": {
    "ExecuteTime": {
     "end_time": "2023-05-30T13:34:20.423337Z",
     "start_time": "2023-05-30T13:34:20.415768Z"
    }
   },
   "outputs": [
    {
     "data": {
      "text/plain": [
       "(19964, 24, 28, 1)"
      ]
     },
     "execution_count": 11,
     "metadata": {},
     "output_type": "execute_result"
    }
   ],
   "source": [
    "df_x = np.reshape(df_x.to_numpy(), (-1, 24, 28, 1))\n",
    "df_x.shape"
   ]
  },
  {
   "cell_type": "code",
   "execution_count": 12,
   "id": "0471069b",
   "metadata": {
    "ExecuteTime": {
     "end_time": "2023-05-30T13:34:17.040382Z",
     "start_time": "2023-05-30T13:34:17.029614Z"
    }
   },
   "outputs": [
    {
     "data": {
      "text/plain": [
       "array([[  0.10871,  -0.2796 ,  14.997  ,  10.61088,  10.45806,  -1.743  ],\n",
       "       [ 10.61088,  10.45806,  -1.743  ,   0.10871,  -0.2796 ,  14.997  ],\n",
       "       [  0.10871,  -0.2796 ,  14.997  ,  11.8341 ,   1.03286,  -9.159  ],\n",
       "       ...,\n",
       "       [  8.72039,   6.20611,  10.509  ,  -0.19256,   0.23003, -14.997  ],\n",
       "       [ -0.19256,   0.23003, -14.997  ,   2.34033,  14.49242,   3.081  ],\n",
       "       [  2.34033,  14.49242,   3.081  ,  -0.19256,   0.23003, -14.997  ]])"
      ]
     },
     "execution_count": 12,
     "metadata": {},
     "output_type": "execute_result"
    }
   ],
   "source": [
    "df_y = df_y.to_numpy()\n",
    "df_y"
   ]
  },
  {
   "cell_type": "code",
   "execution_count": 13,
   "id": "31131600",
   "metadata": {
    "ExecuteTime": {
     "end_time": "2023-05-30T13:34:25.689747Z",
     "start_time": "2023-05-30T13:34:25.419498Z"
    }
   },
   "outputs": [],
   "source": [
    "train_x, test_x, train_y, test_y = train_test_split(df_x, df_y, train_size=0.9)\n",
    "\n",
    "train_x, valid_x, train_y, valid_y = train_test_split(train_x,\n",
    "                                                    train_y,\n",
    "                                                    test_size=0.33)"
   ]
  },
  {
   "cell_type": "code",
   "execution_count": 14,
   "id": "6e781652",
   "metadata": {
    "ExecuteTime": {
     "end_time": "2023-05-30T13:34:26.483956Z",
     "start_time": "2023-05-30T13:34:26.473597Z"
    },
    "scrolled": true
   },
   "outputs": [
    {
     "name": "stdout",
     "output_type": "stream",
     "text": [
      "(12037, 24, 28, 1)\n",
      "(12037, 6)\n",
      "(5930, 24, 28, 1)\n",
      "(5930, 6)\n",
      "(1997, 24, 28, 1)\n",
      "(1997, 6)\n"
     ]
    },
    {
     "data": {
      "text/plain": [
       "(None, None)"
      ]
     },
     "execution_count": 14,
     "metadata": {},
     "output_type": "execute_result"
    }
   ],
   "source": [
    "print(train_x.shape), print(train_y.shape)\n",
    "print(valid_x.shape), print(valid_y.shape)\n",
    "print(test_x.shape), print(test_y.shape)"
   ]
  },
  {
   "attachments": {},
   "cell_type": "markdown",
   "id": "f752f600",
   "metadata": {},
   "source": [
    "# TensorFlow"
   ]
  },
  {
   "cell_type": "code",
   "execution_count": 28,
   "id": "b4a50d82",
   "metadata": {
    "ExecuteTime": {
     "end_time": "2023-05-30T13:09:40.050793Z",
     "start_time": "2023-05-30T13:09:39.479419Z"
    }
   },
   "outputs": [
    {
     "name": "stderr",
     "output_type": "stream",
     "text": [
      "2023-05-30 16:09:39.570744: I tensorflow/compiler/xla/stream_executor/cuda/cuda_gpu_executor.cc:996] successful NUMA node read from SysFS had negative value (-1), but there must be at least one NUMA node, so returning NUMA node zero. See more at https://github.com/torvalds/linux/blob/v6.0/Documentation/ABI/testing/sysfs-bus-pci#L344-L355\n",
      "2023-05-30 16:09:39.733899: W tensorflow/core/common_runtime/gpu/gpu_device.cc:1956] Cannot dlopen some GPU libraries. Please make sure the missing libraries mentioned above are installed properly if you would like to use GPU. Follow the guide at https://www.tensorflow.org/install/gpu for how to download and setup the required libraries for your platform.\n",
      "Skipping registering GPU devices...\n"
     ]
    }
   ],
   "source": [
    "model_tf = keras.Sequential([\n",
    "    keras.Input(shape=(24, 28, 1)),\n",
    "    layers.Conv2D(32, (7, 7), activation=\"relu\", data_format='channels_last'),\n",
    "    layers.MaxPooling2D((2, 2), strides=2),\n",
    "    layers.Conv2D(64, (3, 3), activation=\"relu\", data_format='channels_last'),\n",
    "    layers.MaxPooling2D((2, 2), strides=2),\n",
    "    layers.Flatten(),\n",
    "    layers.Dense(128, activation='relu'),\n",
    "    layers.Dense(64, activation='relu'),\n",
    "    layers.Dense(64, activation='relu'),\n",
    "    layers.Dense(64, activation='relu'),\n",
    "    layers.Dense(6, activation='linear')\n",
    "])"
   ]
  },
  {
   "cell_type": "code",
   "execution_count": 29,
   "id": "5f3754dc",
   "metadata": {
    "ExecuteTime": {
     "end_time": "2023-05-30T13:09:46.956402Z",
     "start_time": "2023-05-30T13:09:46.914837Z"
    }
   },
   "outputs": [],
   "source": [
    "model_tf.compile(optimizer=keras.optimizers.Adam(),\n",
    "              loss=keras.losses.MeanSquaredError(),\n",
    "              metrics=[keras.metrics.MeanSquaredError()])"
   ]
  },
  {
   "cell_type": "code",
   "execution_count": 30,
   "id": "212c5517",
   "metadata": {
    "ExecuteTime": {
     "end_time": "2023-05-30T13:11:40.431445Z",
     "start_time": "2023-05-30T13:11:40.299318Z"
    }
   },
   "outputs": [],
   "source": [
    "model_tf.load_weights(\"../logs/weights_model_02/Weights-026--22.49820.hdf5\")"
   ]
  },
  {
   "attachments": {},
   "cell_type": "markdown",
   "id": "da2d548f",
   "metadata": {},
   "source": [
    "# Prepare data for Torch"
   ]
  },
  {
   "cell_type": "code",
   "execution_count": 15,
   "id": "5527f62f",
   "metadata": {
    "ExecuteTime": {
     "end_time": "2023-05-30T13:34:31.915032Z",
     "start_time": "2023-05-30T13:34:31.898659Z"
    }
   },
   "outputs": [
    {
     "data": {
      "text/plain": [
       "(19964, 1, 24, 28)"
      ]
     },
     "execution_count": 15,
     "metadata": {},
     "output_type": "execute_result"
    }
   ],
   "source": [
    "df_x = np.reshape(df_x, (-1, 1, 24, 28))\n",
    "df_x.shape"
   ]
  },
  {
   "cell_type": "code",
   "execution_count": 16,
   "id": "7bc23ade",
   "metadata": {
    "ExecuteTime": {
     "end_time": "2023-05-30T13:52:40.873938Z",
     "start_time": "2023-05-30T13:52:39.918056Z"
    }
   },
   "outputs": [],
   "source": [
    "train_x, test_x, train_y, test_y = train_test_split(df_x, df_y, train_size=0.9)\n",
    "\n",
    "train_x, valid_x, train_y, valid_y = train_test_split(train_x,\n",
    "                                                    train_y,\n",
    "                                                    test_size=0.33)"
   ]
  },
  {
   "cell_type": "code",
   "execution_count": 17,
   "id": "5254e1e8",
   "metadata": {
    "ExecuteTime": {
     "end_time": "2023-05-30T13:52:41.401645Z",
     "start_time": "2023-05-30T13:52:41.382405Z"
    }
   },
   "outputs": [
    {
     "name": "stdout",
     "output_type": "stream",
     "text": [
      "(12037, 1, 24, 28)\n",
      "(12037, 6)\n",
      "(5930, 1, 24, 28)\n",
      "(5930, 6)\n",
      "(1997, 1, 24, 28)\n",
      "(1997, 6)\n"
     ]
    },
    {
     "data": {
      "text/plain": [
       "(None, None)"
      ]
     },
     "execution_count": 17,
     "metadata": {},
     "output_type": "execute_result"
    }
   ],
   "source": [
    "print(train_x.shape), print(train_y.shape)\n",
    "print(valid_x.shape), print(valid_y.shape)\n",
    "print(test_x.shape), print(test_y.shape)"
   ]
  },
  {
   "cell_type": "code",
   "execution_count": 18,
   "id": "71c37c66",
   "metadata": {
    "ExecuteTime": {
     "end_time": "2023-05-30T13:52:45.268240Z",
     "start_time": "2023-05-30T13:52:45.206561Z"
    }
   },
   "outputs": [],
   "source": [
    "train_x_t = torch.tensor(train_x).float()\n",
    "train_y_t = torch.tensor(train_y).float()\n",
    "valid_x_t = torch.tensor(valid_x).float()\n",
    "valid_y_t = torch.tensor(valid_y).float()\n",
    "test_x_t = torch.tensor(test_x).float()\n",
    "test_y_t = torch.tensor(test_y).float()"
   ]
  },
  {
   "attachments": {},
   "cell_type": "markdown",
   "id": "1c08567d",
   "metadata": {},
   "source": [
    "# Torch"
   ]
  },
  {
   "cell_type": "code",
   "execution_count": 19,
   "id": "718d8ed8",
   "metadata": {
    "ExecuteTime": {
     "end_time": "2023-05-30T13:52:13.831557Z",
     "start_time": "2023-05-30T13:52:13.813406Z"
    }
   },
   "outputs": [],
   "source": [
    "class Model(nn.Module):\n",
    "    def __init__(self):\n",
    "        super(Model, self).__init__()\n",
    "        self.conv_1 = nn.Conv2d(1, 32, 7)\n",
    "        self.max_pool_1 = nn.MaxPool2d(2, stride=2)\n",
    "        self.conv_2 = nn.Conv2d(32, 64, 3)\n",
    "        self.max_pool_2 = nn.MaxPool2d(2, stride=2)\n",
    "        self.hidden_1 = nn.Linear(768, 128)\n",
    "        self.hidden_2 = nn.Linear(128, 64)\n",
    "        self.hidden_3 = nn.Linear(64, 64)\n",
    "        self.hidden_4 = nn.Linear(64, 64)\n",
    "        self.output = nn.Linear(64, 6)\n",
    "\n",
    "    def forward(self, x):\n",
    "        x = torch.relu(self.conv_1(x))\n",
    "        x = self.max_pool_1(x)\n",
    "        x = torch.relu(self.conv_2(x))\n",
    "        x = self.max_pool_2(x)\n",
    "        x = torch.reshape(x, (x.shape[0], 768))\n",
    "        x = torch.relu(self.hidden_1(x))\n",
    "        x = torch.relu(self.hidden_2(x))\n",
    "        x = torch.relu(self.hidden_3(x))\n",
    "        x = torch.relu(self.hidden_4(x))\n",
    "        output = self.output(x)\n",
    "        return output"
   ]
  },
  {
   "cell_type": "code",
   "execution_count": 20,
   "id": "bb1dc1f1",
   "metadata": {
    "ExecuteTime": {
     "end_time": "2023-05-30T13:52:14.753184Z",
     "start_time": "2023-05-30T13:52:14.750107Z"
    }
   },
   "outputs": [],
   "source": [
    "loss_function = nn.MSELoss()"
   ]
  },
  {
   "attachments": {},
   "cell_type": "markdown",
   "id": "086b5757",
   "metadata": {},
   "source": [
    "# Analysis"
   ]
  },
  {
   "cell_type": "code",
   "execution_count": 44,
   "id": "25d03fad",
   "metadata": {
    "ExecuteTime": {
     "end_time": "2023-05-30T13:17:05.653552Z",
     "start_time": "2023-05-30T13:17:04.638631Z"
    },
    "collapsed": true
   },
   "outputs": [
    {
     "name": "stderr",
     "output_type": "stream",
     "text": [
      "2023-05-30 16:17:04.954997: W tensorflow/core/framework/op_kernel.cc:1830] OP_REQUIRES failed at conv_ops_fused_impl.h:760 : INVALID_ARGUMENT: Computed output size would be negative: -5 [input_size: 1, effective_filter_size: 7, stride: 1]\n",
      "2023-05-30 16:17:04.955047: I tensorflow/core/common_runtime/executor.cc:1197] [/job:localhost/replica:0/task:0/device:CPU:0] (DEBUG INFO) Executor start aborting (this does not indicate an error and you can ignore this message): INVALID_ARGUMENT: Computed output size would be negative: -5 [input_size: 1, effective_filter_size: 7, stride: 1]\n",
      "\t [[{{node sequential/conv2d/Relu}}]]\n"
     ]
    },
    {
     "ename": "InvalidArgumentError",
     "evalue": "Graph execution error:\n\nDetected at node 'sequential/conv2d/Relu' defined at (most recent call last):\n    File \"/home/mawerid/anaconda3/lib/python3.9/runpy.py\", line 197, in _run_module_as_main\n      return _run_code(code, main_globals, None,\n    File \"/home/mawerid/anaconda3/lib/python3.9/runpy.py\", line 87, in _run_code\n      exec(code, run_globals)\n    File \"/home/mawerid/anaconda3/lib/python3.9/site-packages/ipykernel_launcher.py\", line 17, in <module>\n      app.launch_new_instance()\n    File \"/home/mawerid/anaconda3/lib/python3.9/site-packages/traitlets/config/application.py\", line 992, in launch_instance\n      app.start()\n    File \"/home/mawerid/anaconda3/lib/python3.9/site-packages/ipykernel/kernelapp.py\", line 711, in start\n      self.io_loop.start()\n    File \"/home/mawerid/anaconda3/lib/python3.9/site-packages/tornado/platform/asyncio.py\", line 215, in start\n      self.asyncio_loop.run_forever()\n    File \"/home/mawerid/anaconda3/lib/python3.9/asyncio/base_events.py\", line 601, in run_forever\n      self._run_once()\n    File \"/home/mawerid/anaconda3/lib/python3.9/asyncio/base_events.py\", line 1905, in _run_once\n      handle._run()\n    File \"/home/mawerid/anaconda3/lib/python3.9/asyncio/events.py\", line 80, in _run\n      self._context.run(self._callback, *self._args)\n    File \"/home/mawerid/anaconda3/lib/python3.9/site-packages/ipykernel/kernelbase.py\", line 510, in dispatch_queue\n      await self.process_one()\n    File \"/home/mawerid/anaconda3/lib/python3.9/site-packages/ipykernel/kernelbase.py\", line 499, in process_one\n      await dispatch(*args)\n    File \"/home/mawerid/anaconda3/lib/python3.9/site-packages/ipykernel/kernelbase.py\", line 406, in dispatch_shell\n      await result\n    File \"/home/mawerid/anaconda3/lib/python3.9/site-packages/ipykernel/kernelbase.py\", line 729, in execute_request\n      reply_content = await reply_content\n    File \"/home/mawerid/anaconda3/lib/python3.9/site-packages/ipykernel/ipkernel.py\", line 411, in do_execute\n      res = shell.run_cell(\n    File \"/home/mawerid/anaconda3/lib/python3.9/site-packages/ipykernel/zmqshell.py\", line 531, in run_cell\n      return super().run_cell(*args, **kwargs)\n    File \"/home/mawerid/anaconda3/lib/python3.9/site-packages/IPython/core/interactiveshell.py\", line 2961, in run_cell\n      result = self._run_cell(\n    File \"/home/mawerid/anaconda3/lib/python3.9/site-packages/IPython/core/interactiveshell.py\", line 3016, in _run_cell\n      result = runner(coro)\n    File \"/home/mawerid/anaconda3/lib/python3.9/site-packages/IPython/core/async_helpers.py\", line 129, in _pseudo_sync_runner\n      coro.send(None)\n    File \"/home/mawerid/anaconda3/lib/python3.9/site-packages/IPython/core/interactiveshell.py\", line 3221, in run_cell_async\n      has_raised = await self.run_ast_nodes(code_ast.body, cell_name,\n    File \"/home/mawerid/anaconda3/lib/python3.9/site-packages/IPython/core/interactiveshell.py\", line 3400, in run_ast_nodes\n      if await self.run_code(code, result, async_=asy):\n    File \"/home/mawerid/anaconda3/lib/python3.9/site-packages/IPython/core/interactiveshell.py\", line 3460, in run_code\n      exec(code_obj, self.user_global_ns, self.user_ns)\n    File \"/tmp/ipykernel_31233/2559898510.py\", line 1, in <module>\n      out = model_tf.evaluate(test_x, test_y, batch_size=64)\n    File \"/home/mawerid/anaconda3/lib/python3.9/site-packages/keras/utils/traceback_utils.py\", line 65, in error_handler\n      return fn(*args, **kwargs)\n    File \"/home/mawerid/anaconda3/lib/python3.9/site-packages/keras/engine/training.py\", line 2072, in evaluate\n      tmp_logs = self.test_function(iterator)\n    File \"/home/mawerid/anaconda3/lib/python3.9/site-packages/keras/engine/training.py\", line 1852, in test_function\n      return step_function(self, iterator)\n    File \"/home/mawerid/anaconda3/lib/python3.9/site-packages/keras/engine/training.py\", line 1836, in step_function\n      outputs = model.distribute_strategy.run(run_step, args=(data,))\n    File \"/home/mawerid/anaconda3/lib/python3.9/site-packages/keras/engine/training.py\", line 1824, in run_step\n      outputs = model.test_step(data)\n    File \"/home/mawerid/anaconda3/lib/python3.9/site-packages/keras/engine/training.py\", line 1788, in test_step\n      y_pred = self(x, training=False)\n    File \"/home/mawerid/anaconda3/lib/python3.9/site-packages/keras/utils/traceback_utils.py\", line 65, in error_handler\n      return fn(*args, **kwargs)\n    File \"/home/mawerid/anaconda3/lib/python3.9/site-packages/keras/engine/training.py\", line 558, in __call__\n      return super().__call__(*args, **kwargs)\n    File \"/home/mawerid/anaconda3/lib/python3.9/site-packages/keras/utils/traceback_utils.py\", line 65, in error_handler\n      return fn(*args, **kwargs)\n    File \"/home/mawerid/anaconda3/lib/python3.9/site-packages/keras/engine/base_layer.py\", line 1145, in __call__\n      outputs = call_fn(inputs, *args, **kwargs)\n    File \"/home/mawerid/anaconda3/lib/python3.9/site-packages/keras/utils/traceback_utils.py\", line 96, in error_handler\n      return fn(*args, **kwargs)\n    File \"/home/mawerid/anaconda3/lib/python3.9/site-packages/keras/engine/sequential.py\", line 412, in call\n      return super().call(inputs, training=training, mask=mask)\n    File \"/home/mawerid/anaconda3/lib/python3.9/site-packages/keras/engine/functional.py\", line 512, in call\n      return self._run_internal_graph(inputs, training=training, mask=mask)\n    File \"/home/mawerid/anaconda3/lib/python3.9/site-packages/keras/engine/functional.py\", line 669, in _run_internal_graph\n      outputs = node.layer(*args, **kwargs)\n    File \"/home/mawerid/anaconda3/lib/python3.9/site-packages/keras/utils/traceback_utils.py\", line 65, in error_handler\n      return fn(*args, **kwargs)\n    File \"/home/mawerid/anaconda3/lib/python3.9/site-packages/keras/engine/base_layer.py\", line 1145, in __call__\n      outputs = call_fn(inputs, *args, **kwargs)\n    File \"/home/mawerid/anaconda3/lib/python3.9/site-packages/keras/utils/traceback_utils.py\", line 96, in error_handler\n      return fn(*args, **kwargs)\n    File \"/home/mawerid/anaconda3/lib/python3.9/site-packages/keras/layers/convolutional/base_conv.py\", line 321, in call\n      return self.activation(outputs)\n    File \"/home/mawerid/anaconda3/lib/python3.9/site-packages/keras/activations.py\", line 317, in relu\n      return backend.relu(\n    File \"/home/mawerid/anaconda3/lib/python3.9/site-packages/keras/backend.py\", line 5396, in relu\n      x = tf.nn.relu(x)\nNode: 'sequential/conv2d/Relu'\nComputed output size would be negative: -5 [input_size: 1, effective_filter_size: 7, stride: 1]\n\t [[{{node sequential/conv2d/Relu}}]] [Op:__inference_test_function_1738]",
     "output_type": "error",
     "traceback": [
      "\u001b[0;31m---------------------------------------------------------------------------\u001b[0m",
      "\u001b[0;31mInvalidArgumentError\u001b[0m                      Traceback (most recent call last)",
      "Cell \u001b[0;32mIn[44], line 1\u001b[0m\n\u001b[0;32m----> 1\u001b[0m out \u001b[38;5;241m=\u001b[39m \u001b[43mmodel_tf\u001b[49m\u001b[38;5;241;43m.\u001b[39;49m\u001b[43mevaluate\u001b[49m\u001b[43m(\u001b[49m\u001b[43mtest_x\u001b[49m\u001b[43m,\u001b[49m\u001b[43m \u001b[49m\u001b[43mtest_y\u001b[49m\u001b[43m,\u001b[49m\u001b[43m \u001b[49m\u001b[43mbatch_size\u001b[49m\u001b[38;5;241;43m=\u001b[39;49m\u001b[38;5;241;43m64\u001b[39;49m\u001b[43m)\u001b[49m\n\u001b[1;32m      2\u001b[0m out \u001b[38;5;241m=\u001b[39m np\u001b[38;5;241m.\u001b[39marray(out)\u001b[38;5;241m/\u001b[39m \u001b[38;5;241m64\u001b[39m\n\u001b[1;32m      3\u001b[0m out[\u001b[38;5;241m0\u001b[39m]\n",
      "File \u001b[0;32m~/anaconda3/lib/python3.9/site-packages/keras/utils/traceback_utils.py:70\u001b[0m, in \u001b[0;36mfilter_traceback.<locals>.error_handler\u001b[0;34m(*args, **kwargs)\u001b[0m\n\u001b[1;32m     67\u001b[0m     filtered_tb \u001b[38;5;241m=\u001b[39m _process_traceback_frames(e\u001b[38;5;241m.\u001b[39m__traceback__)\n\u001b[1;32m     68\u001b[0m     \u001b[38;5;66;03m# To get the full stack trace, call:\u001b[39;00m\n\u001b[1;32m     69\u001b[0m     \u001b[38;5;66;03m# `tf.debugging.disable_traceback_filtering()`\u001b[39;00m\n\u001b[0;32m---> 70\u001b[0m     \u001b[38;5;28;01mraise\u001b[39;00m e\u001b[38;5;241m.\u001b[39mwith_traceback(filtered_tb) \u001b[38;5;28;01mfrom\u001b[39;00m \u001b[38;5;28mNone\u001b[39m\n\u001b[1;32m     71\u001b[0m \u001b[38;5;28;01mfinally\u001b[39;00m:\n\u001b[1;32m     72\u001b[0m     \u001b[38;5;28;01mdel\u001b[39;00m filtered_tb\n",
      "File \u001b[0;32m~/anaconda3/lib/python3.9/site-packages/tensorflow/python/eager/execute.py:52\u001b[0m, in \u001b[0;36mquick_execute\u001b[0;34m(op_name, num_outputs, inputs, attrs, ctx, name)\u001b[0m\n\u001b[1;32m     50\u001b[0m \u001b[38;5;28;01mtry\u001b[39;00m:\n\u001b[1;32m     51\u001b[0m   ctx\u001b[38;5;241m.\u001b[39mensure_initialized()\n\u001b[0;32m---> 52\u001b[0m   tensors \u001b[38;5;241m=\u001b[39m pywrap_tfe\u001b[38;5;241m.\u001b[39mTFE_Py_Execute(ctx\u001b[38;5;241m.\u001b[39m_handle, device_name, op_name,\n\u001b[1;32m     53\u001b[0m                                       inputs, attrs, num_outputs)\n\u001b[1;32m     54\u001b[0m \u001b[38;5;28;01mexcept\u001b[39;00m core\u001b[38;5;241m.\u001b[39m_NotOkStatusException \u001b[38;5;28;01mas\u001b[39;00m e:\n\u001b[1;32m     55\u001b[0m   \u001b[38;5;28;01mif\u001b[39;00m name \u001b[38;5;129;01mis\u001b[39;00m \u001b[38;5;129;01mnot\u001b[39;00m \u001b[38;5;28;01mNone\u001b[39;00m:\n",
      "\u001b[0;31mInvalidArgumentError\u001b[0m: Graph execution error:\n\nDetected at node 'sequential/conv2d/Relu' defined at (most recent call last):\n    File \"/home/mawerid/anaconda3/lib/python3.9/runpy.py\", line 197, in _run_module_as_main\n      return _run_code(code, main_globals, None,\n    File \"/home/mawerid/anaconda3/lib/python3.9/runpy.py\", line 87, in _run_code\n      exec(code, run_globals)\n    File \"/home/mawerid/anaconda3/lib/python3.9/site-packages/ipykernel_launcher.py\", line 17, in <module>\n      app.launch_new_instance()\n    File \"/home/mawerid/anaconda3/lib/python3.9/site-packages/traitlets/config/application.py\", line 992, in launch_instance\n      app.start()\n    File \"/home/mawerid/anaconda3/lib/python3.9/site-packages/ipykernel/kernelapp.py\", line 711, in start\n      self.io_loop.start()\n    File \"/home/mawerid/anaconda3/lib/python3.9/site-packages/tornado/platform/asyncio.py\", line 215, in start\n      self.asyncio_loop.run_forever()\n    File \"/home/mawerid/anaconda3/lib/python3.9/asyncio/base_events.py\", line 601, in run_forever\n      self._run_once()\n    File \"/home/mawerid/anaconda3/lib/python3.9/asyncio/base_events.py\", line 1905, in _run_once\n      handle._run()\n    File \"/home/mawerid/anaconda3/lib/python3.9/asyncio/events.py\", line 80, in _run\n      self._context.run(self._callback, *self._args)\n    File \"/home/mawerid/anaconda3/lib/python3.9/site-packages/ipykernel/kernelbase.py\", line 510, in dispatch_queue\n      await self.process_one()\n    File \"/home/mawerid/anaconda3/lib/python3.9/site-packages/ipykernel/kernelbase.py\", line 499, in process_one\n      await dispatch(*args)\n    File \"/home/mawerid/anaconda3/lib/python3.9/site-packages/ipykernel/kernelbase.py\", line 406, in dispatch_shell\n      await result\n    File \"/home/mawerid/anaconda3/lib/python3.9/site-packages/ipykernel/kernelbase.py\", line 729, in execute_request\n      reply_content = await reply_content\n    File \"/home/mawerid/anaconda3/lib/python3.9/site-packages/ipykernel/ipkernel.py\", line 411, in do_execute\n      res = shell.run_cell(\n    File \"/home/mawerid/anaconda3/lib/python3.9/site-packages/ipykernel/zmqshell.py\", line 531, in run_cell\n      return super().run_cell(*args, **kwargs)\n    File \"/home/mawerid/anaconda3/lib/python3.9/site-packages/IPython/core/interactiveshell.py\", line 2961, in run_cell\n      result = self._run_cell(\n    File \"/home/mawerid/anaconda3/lib/python3.9/site-packages/IPython/core/interactiveshell.py\", line 3016, in _run_cell\n      result = runner(coro)\n    File \"/home/mawerid/anaconda3/lib/python3.9/site-packages/IPython/core/async_helpers.py\", line 129, in _pseudo_sync_runner\n      coro.send(None)\n    File \"/home/mawerid/anaconda3/lib/python3.9/site-packages/IPython/core/interactiveshell.py\", line 3221, in run_cell_async\n      has_raised = await self.run_ast_nodes(code_ast.body, cell_name,\n    File \"/home/mawerid/anaconda3/lib/python3.9/site-packages/IPython/core/interactiveshell.py\", line 3400, in run_ast_nodes\n      if await self.run_code(code, result, async_=asy):\n    File \"/home/mawerid/anaconda3/lib/python3.9/site-packages/IPython/core/interactiveshell.py\", line 3460, in run_code\n      exec(code_obj, self.user_global_ns, self.user_ns)\n    File \"/tmp/ipykernel_31233/2559898510.py\", line 1, in <module>\n      out = model_tf.evaluate(test_x, test_y, batch_size=64)\n    File \"/home/mawerid/anaconda3/lib/python3.9/site-packages/keras/utils/traceback_utils.py\", line 65, in error_handler\n      return fn(*args, **kwargs)\n    File \"/home/mawerid/anaconda3/lib/python3.9/site-packages/keras/engine/training.py\", line 2072, in evaluate\n      tmp_logs = self.test_function(iterator)\n    File \"/home/mawerid/anaconda3/lib/python3.9/site-packages/keras/engine/training.py\", line 1852, in test_function\n      return step_function(self, iterator)\n    File \"/home/mawerid/anaconda3/lib/python3.9/site-packages/keras/engine/training.py\", line 1836, in step_function\n      outputs = model.distribute_strategy.run(run_step, args=(data,))\n    File \"/home/mawerid/anaconda3/lib/python3.9/site-packages/keras/engine/training.py\", line 1824, in run_step\n      outputs = model.test_step(data)\n    File \"/home/mawerid/anaconda3/lib/python3.9/site-packages/keras/engine/training.py\", line 1788, in test_step\n      y_pred = self(x, training=False)\n    File \"/home/mawerid/anaconda3/lib/python3.9/site-packages/keras/utils/traceback_utils.py\", line 65, in error_handler\n      return fn(*args, **kwargs)\n    File \"/home/mawerid/anaconda3/lib/python3.9/site-packages/keras/engine/training.py\", line 558, in __call__\n      return super().__call__(*args, **kwargs)\n    File \"/home/mawerid/anaconda3/lib/python3.9/site-packages/keras/utils/traceback_utils.py\", line 65, in error_handler\n      return fn(*args, **kwargs)\n    File \"/home/mawerid/anaconda3/lib/python3.9/site-packages/keras/engine/base_layer.py\", line 1145, in __call__\n      outputs = call_fn(inputs, *args, **kwargs)\n    File \"/home/mawerid/anaconda3/lib/python3.9/site-packages/keras/utils/traceback_utils.py\", line 96, in error_handler\n      return fn(*args, **kwargs)\n    File \"/home/mawerid/anaconda3/lib/python3.9/site-packages/keras/engine/sequential.py\", line 412, in call\n      return super().call(inputs, training=training, mask=mask)\n    File \"/home/mawerid/anaconda3/lib/python3.9/site-packages/keras/engine/functional.py\", line 512, in call\n      return self._run_internal_graph(inputs, training=training, mask=mask)\n    File \"/home/mawerid/anaconda3/lib/python3.9/site-packages/keras/engine/functional.py\", line 669, in _run_internal_graph\n      outputs = node.layer(*args, **kwargs)\n    File \"/home/mawerid/anaconda3/lib/python3.9/site-packages/keras/utils/traceback_utils.py\", line 65, in error_handler\n      return fn(*args, **kwargs)\n    File \"/home/mawerid/anaconda3/lib/python3.9/site-packages/keras/engine/base_layer.py\", line 1145, in __call__\n      outputs = call_fn(inputs, *args, **kwargs)\n    File \"/home/mawerid/anaconda3/lib/python3.9/site-packages/keras/utils/traceback_utils.py\", line 96, in error_handler\n      return fn(*args, **kwargs)\n    File \"/home/mawerid/anaconda3/lib/python3.9/site-packages/keras/layers/convolutional/base_conv.py\", line 321, in call\n      return self.activation(outputs)\n    File \"/home/mawerid/anaconda3/lib/python3.9/site-packages/keras/activations.py\", line 317, in relu\n      return backend.relu(\n    File \"/home/mawerid/anaconda3/lib/python3.9/site-packages/keras/backend.py\", line 5396, in relu\n      x = tf.nn.relu(x)\nNode: 'sequential/conv2d/Relu'\nComputed output size would be negative: -5 [input_size: 1, effective_filter_size: 7, stride: 1]\n\t [[{{node sequential/conv2d/Relu}}]] [Op:__inference_test_function_1738]"
     ]
    }
   ],
   "source": [
    "out = model_tf.evaluate(test_x, test_y, batch_size=64)\n",
    "out = np.array(out)\n",
    "out[0]"
   ]
  },
  {
   "cell_type": "code",
   "execution_count": 21,
   "id": "7cd0ba91",
   "metadata": {
    "ExecuteTime": {
     "end_time": "2023-05-30T13:52:20.193690Z",
     "start_time": "2023-05-30T13:52:20.175533Z"
    }
   },
   "outputs": [
    {
     "data": {
      "text/plain": [
       "<All keys matched successfully>"
      ]
     },
     "execution_count": 21,
     "metadata": {},
     "output_type": "execute_result"
    }
   ],
   "source": [
    "model = Model()\n",
    "model.load_state_dict(torch.load(\"../logs/weights_model_03/model_state_adam_02.pt\"))"
   ]
  },
  {
   "cell_type": "code",
   "execution_count": 22,
   "id": "d3cddcc3",
   "metadata": {
    "ExecuteTime": {
     "end_time": "2023-05-30T13:52:51.478547Z",
     "start_time": "2023-05-30T13:52:51.470055Z"
    }
   },
   "outputs": [
    {
     "data": {
      "text/plain": [
       "Model(\n",
       "  (conv_1): Conv2d(1, 32, kernel_size=(7, 7), stride=(1, 1))\n",
       "  (max_pool_1): MaxPool2d(kernel_size=2, stride=2, padding=0, dilation=1, ceil_mode=False)\n",
       "  (conv_2): Conv2d(32, 64, kernel_size=(3, 3), stride=(1, 1))\n",
       "  (max_pool_2): MaxPool2d(kernel_size=2, stride=2, padding=0, dilation=1, ceil_mode=False)\n",
       "  (hidden_1): Linear(in_features=768, out_features=128, bias=True)\n",
       "  (hidden_2): Linear(in_features=128, out_features=64, bias=True)\n",
       "  (hidden_3): Linear(in_features=64, out_features=64, bias=True)\n",
       "  (hidden_4): Linear(in_features=64, out_features=64, bias=True)\n",
       "  (output): Linear(in_features=64, out_features=6, bias=True)\n",
       ")"
      ]
     },
     "execution_count": 22,
     "metadata": {},
     "output_type": "execute_result"
    }
   ],
   "source": [
    "model.eval()"
   ]
  },
  {
   "cell_type": "code",
   "execution_count": 23,
   "id": "da6de394",
   "metadata": {
    "ExecuteTime": {
     "end_time": "2023-05-30T14:43:53.920223Z",
     "start_time": "2023-05-30T14:43:53.385408Z"
    }
   },
   "outputs": [
    {
     "data": {
      "text/plain": [
       "0.3206219338647029"
      ]
     },
     "execution_count": 23,
     "metadata": {},
     "output_type": "execute_result"
    }
   ],
   "source": [
    "valid_loss = 0.0\n",
    "batch_size = 64\n",
    "for i in range(0, valid_x_t.size()[0], batch_size):\n",
    "        data = valid_x_t[i:i + batch_size]\n",
    "        target = valid_y_t[i:i + batch_size]\n",
    "\n",
    "        prediction = model(data)\n",
    "        loss = loss_function(prediction, target)\n",
    "        valid_loss += loss.item()\n",
    "valid_loss / len(valid_y_t)"
   ]
  },
  {
   "cell_type": "code",
   "execution_count": 24,
   "id": "1dad8c6c",
   "metadata": {
    "ExecuteTime": {
     "end_time": "2023-05-30T14:43:54.965781Z",
     "start_time": "2023-05-30T14:43:54.677917Z"
    }
   },
   "outputs": [
    {
     "data": {
      "text/plain": [
       "0.30847084492400223"
      ]
     },
     "execution_count": 24,
     "metadata": {},
     "output_type": "execute_result"
    }
   ],
   "source": [
    "test_loss = 0.0\n",
    "batch_size = 64\n",
    "for i in range(0, test_x_t.size()[0], batch_size):\n",
    "        data = test_x_t[i:i + batch_size]\n",
    "        target = test_y_t[i:i + batch_size]\n",
    "\n",
    "        prediction = model(data)\n",
    "        loss = loss_function(prediction, target)\n",
    "        test_loss += loss.item()\n",
    "test_loss / len(test_y_t)"
   ]
  },
  {
   "cell_type": "code",
   "execution_count": 25,
   "id": "e115f4ec",
   "metadata": {
    "ExecuteTime": {
     "end_time": "2023-05-30T14:44:57.623628Z",
     "start_time": "2023-05-30T14:44:57.404956Z"
    }
   },
   "outputs": [],
   "source": [
    "prediction = model(test_x_t)"
   ]
  },
  {
   "cell_type": "code",
   "execution_count": 26,
   "id": "54680646",
   "metadata": {
    "ExecuteTime": {
     "end_time": "2023-05-30T14:46:09.446008Z",
     "start_time": "2023-05-30T14:46:09.437223Z"
    }
   },
   "outputs": [],
   "source": [
    "prediction = prediction.detach().numpy()"
   ]
  },
  {
   "cell_type": "code",
   "execution_count": 27,
   "id": "245f91e3",
   "metadata": {
    "ExecuteTime": {
     "end_time": "2023-05-30T14:46:48.741988Z",
     "start_time": "2023-05-30T14:46:48.738342Z"
    }
   },
   "outputs": [],
   "source": [
    "truth = test_y_t.detach().numpy()"
   ]
  },
  {
   "cell_type": "code",
   "execution_count": 54,
   "id": "235aeb52",
   "metadata": {
    "ExecuteTime": {
     "end_time": "2023-05-30T18:46:32.972883Z",
     "start_time": "2023-05-30T18:46:32.887417Z"
    }
   },
   "outputs": [],
   "source": [
    "delta = []\n",
    "for pred, tr in zip(prediction, truth):\n",
    "    abs_pred = np.array([pred[3] - pred[0], pred[4] - pred[1], pred[5] - pred[1]])\n",
    "    abs_tr = np.array([tr[3] - tr[0], tr[4] - tr[1], tr[5] - tr[1]])\n",
    "    pred_norm = np.sqrt(np.sum(np.square(abs_pred)))\n",
    "    tr_norm = np.sqrt(np.sum(np.square(abs_tr)))\n",
    "    cos = np.sum(abs_pred * abs_tr) / (pred_norm * tr_norm)\n",
    "    delta.append(cos)"
   ]
  },
  {
   "cell_type": "code",
   "execution_count": 55,
   "id": "0f28da95",
   "metadata": {
    "ExecuteTime": {
     "end_time": "2023-05-30T18:48:48.034593Z",
     "start_time": "2023-05-30T18:48:48.028906Z"
    }
   },
   "outputs": [
    {
     "data": {
      "text/plain": [
       "array([0.0801926 , 0.19668701, 0.07728656, ..., 0.14121623, 2.943648  ,\n",
       "       0.545627  ], dtype=float32)"
      ]
     },
     "execution_count": 55,
     "metadata": {},
     "output_type": "execute_result"
    }
   ],
   "source": [
    "delta = np.arccos(np.array(delta))\n",
    "delta"
   ]
  },
  {
   "cell_type": "code",
   "execution_count": 30,
   "id": "1c01620c",
   "metadata": {
    "ExecuteTime": {
     "end_time": "2023-05-30T18:48:49.321808Z",
     "start_time": "2023-05-30T18:48:49.317729Z"
    }
   },
   "outputs": [],
   "source": [
    "# for i in range(len(delta)):\n",
    "#     if delta[i] >= 0:\n",
    "#         delta[i] = np.arccos(delta[i])\n",
    "#     else:\n",
    "#         delta[i] = -np.arccos(delta[i])"
   ]
  },
  {
   "cell_type": "code",
   "execution_count": 31,
   "id": "2cc5b804",
   "metadata": {
    "ExecuteTime": {
     "end_time": "2023-05-30T18:48:50.029578Z",
     "start_time": "2023-05-30T18:48:50.005305Z"
    }
   },
   "outputs": [
    {
     "data": {
      "text/html": [
       "<div>\n",
       "<style scoped>\n",
       "    .dataframe tbody tr th:only-of-type {\n",
       "        vertical-align: middle;\n",
       "    }\n",
       "\n",
       "    .dataframe tbody tr th {\n",
       "        vertical-align: top;\n",
       "    }\n",
       "\n",
       "    .dataframe thead th {\n",
       "        text-align: right;\n",
       "    }\n",
       "</style>\n",
       "<table border=\"1\" class=\"dataframe\">\n",
       "  <thead>\n",
       "    <tr style=\"text-align: right;\">\n",
       "      <th></th>\n",
       "      <th>0</th>\n",
       "    </tr>\n",
       "  </thead>\n",
       "  <tbody>\n",
       "    <tr>\n",
       "      <th>count</th>\n",
       "      <td>1997.000000</td>\n",
       "    </tr>\n",
       "    <tr>\n",
       "      <th>mean</th>\n",
       "      <td>0.426872</td>\n",
       "    </tr>\n",
       "    <tr>\n",
       "      <th>std</th>\n",
       "      <td>0.496417</td>\n",
       "    </tr>\n",
       "    <tr>\n",
       "      <th>min</th>\n",
       "      <td>0.006030</td>\n",
       "    </tr>\n",
       "    <tr>\n",
       "      <th>25%</th>\n",
       "      <td>0.120783</td>\n",
       "    </tr>\n",
       "    <tr>\n",
       "      <th>50%</th>\n",
       "      <td>0.242632</td>\n",
       "    </tr>\n",
       "    <tr>\n",
       "      <th>75%</th>\n",
       "      <td>0.514992</td>\n",
       "    </tr>\n",
       "    <tr>\n",
       "      <th>max</th>\n",
       "      <td>3.127692</td>\n",
       "    </tr>\n",
       "  </tbody>\n",
       "</table>\n",
       "</div>"
      ],
      "text/plain": [
       "                 0\n",
       "count  1997.000000\n",
       "mean      0.426872\n",
       "std       0.496417\n",
       "min       0.006030\n",
       "25%       0.120783\n",
       "50%       0.242632\n",
       "75%       0.514992\n",
       "max       3.127692"
      ]
     },
     "execution_count": 31,
     "metadata": {},
     "output_type": "execute_result"
    }
   ],
   "source": [
    "pd.DataFrame(delta).describe()"
   ]
  },
  {
   "cell_type": "code",
   "execution_count": 56,
   "id": "ac7958cd",
   "metadata": {
    "ExecuteTime": {
     "end_time": "2023-05-30T18:48:50.822793Z",
     "start_time": "2023-05-30T18:48:50.778324Z"
    }
   },
   "outputs": [],
   "source": [
    "for i in range(len(delta)):\n",
    "    if delta[i] > np.pi:\n",
    "        delta[i] %= np.pi\n",
    "    elif delta[i] < -np.pi:\n",
    "        delta[i] %= np.pi\n",
    "    elif delta[i] > np.pi/2:\n",
    "        delta[i] -= np.pi/2\n",
    "    elif delta[i] < -np.pi/2:\n",
    "        delta[i] += np.pi/2"
   ]
  },
  {
   "cell_type": "code",
   "execution_count": 57,
   "id": "c68f1a20",
   "metadata": {
    "ExecuteTime": {
     "end_time": "2023-05-30T18:48:51.427562Z",
     "start_time": "2023-05-30T18:48:51.410295Z"
    }
   },
   "outputs": [
    {
     "data": {
      "text/plain": [
       "(1997,)"
      ]
     },
     "execution_count": 57,
     "metadata": {},
     "output_type": "execute_result"
    }
   ],
   "source": [
    "delta.shape"
   ]
  },
  {
   "cell_type": "code",
   "execution_count": 58,
   "id": "9028d86e",
   "metadata": {
    "ExecuteTime": {
     "end_time": "2023-05-30T18:48:51.962960Z",
     "start_time": "2023-05-30T18:48:51.949010Z"
    }
   },
   "outputs": [
    {
     "data": {
      "text/plain": [
       "array([[0.0801926 ],\n",
       "       [0.19668701],\n",
       "       [0.07728656],\n",
       "       ...,\n",
       "       [0.14121623],\n",
       "       [1.3728517 ],\n",
       "       [0.545627  ]], dtype=float32)"
      ]
     },
     "execution_count": 58,
     "metadata": {},
     "output_type": "execute_result"
    }
   ],
   "source": [
    "delta = delta.reshape((1997, 1))\n",
    "delta"
   ]
  },
  {
   "cell_type": "code",
   "execution_count": 35,
   "id": "65ff509e",
   "metadata": {
    "ExecuteTime": {
     "end_time": "2023-05-30T18:48:52.594771Z",
     "start_time": "2023-05-30T18:48:52.567425Z"
    }
   },
   "outputs": [
    {
     "data": {
      "text/html": [
       "<div>\n",
       "<style scoped>\n",
       "    .dataframe tbody tr th:only-of-type {\n",
       "        vertical-align: middle;\n",
       "    }\n",
       "\n",
       "    .dataframe tbody tr th {\n",
       "        vertical-align: top;\n",
       "    }\n",
       "\n",
       "    .dataframe thead th {\n",
       "        text-align: right;\n",
       "    }\n",
       "</style>\n",
       "<table border=\"1\" class=\"dataframe\">\n",
       "  <thead>\n",
       "    <tr style=\"text-align: right;\">\n",
       "      <th></th>\n",
       "      <th>0</th>\n",
       "    </tr>\n",
       "  </thead>\n",
       "  <tbody>\n",
       "    <tr>\n",
       "      <th>count</th>\n",
       "      <td>1997.000000</td>\n",
       "    </tr>\n",
       "    <tr>\n",
       "      <th>mean</th>\n",
       "      <td>0.353720</td>\n",
       "    </tr>\n",
       "    <tr>\n",
       "      <th>std</th>\n",
       "      <td>0.333593</td>\n",
       "    </tr>\n",
       "    <tr>\n",
       "      <th>min</th>\n",
       "      <td>0.006030</td>\n",
       "    </tr>\n",
       "    <tr>\n",
       "      <th>25%</th>\n",
       "      <td>0.117926</td>\n",
       "    </tr>\n",
       "    <tr>\n",
       "      <th>50%</th>\n",
       "      <td>0.232330</td>\n",
       "    </tr>\n",
       "    <tr>\n",
       "      <th>75%</th>\n",
       "      <td>0.474325</td>\n",
       "    </tr>\n",
       "    <tr>\n",
       "      <th>max</th>\n",
       "      <td>1.563733</td>\n",
       "    </tr>\n",
       "  </tbody>\n",
       "</table>\n",
       "</div>"
      ],
      "text/plain": [
       "                 0\n",
       "count  1997.000000\n",
       "mean      0.353720\n",
       "std       0.333593\n",
       "min       0.006030\n",
       "25%       0.117926\n",
       "50%       0.232330\n",
       "75%       0.474325\n",
       "max       1.563733"
      ]
     },
     "execution_count": 35,
     "metadata": {},
     "output_type": "execute_result"
    }
   ],
   "source": [
    "pd.DataFrame(delta).describe()"
   ]
  },
  {
   "cell_type": "code",
   "execution_count": 36,
   "id": "6837f925",
   "metadata": {
    "ExecuteTime": {
     "end_time": "2023-05-30T18:48:53.497836Z",
     "start_time": "2023-05-30T18:48:53.434774Z"
    },
    "scrolled": true
   },
   "outputs": [
    {
     "data": {
      "text/plain": [
       "array([[1.8969959 , 1.49952827],\n",
       "       [2.14344978, 1.5160283 ],\n",
       "       [1.21446443, 0.11649187],\n",
       "       ...,\n",
       "       [2.46439028, 2.29133238],\n",
       "       [0.97161251, 1.59981868],\n",
       "       [1.83091938, 1.77399519]])"
      ]
     },
     "execution_count": 36,
     "metadata": {},
     "output_type": "execute_result"
    }
   ],
   "source": [
    "tmp = []\n",
    "for tr in truth:\n",
    "    t = np.array([tr[3] - tr[0], tr[4] - tr[1], tr[5] - tr[1]])\n",
    "    t = t / np.sqrt(np.sum(np.square(t)))\n",
    "    tmp.append(np.array([np.arccos(t[2]), np.arctan(t[1]/t[0]) + np.pi/2]))\n",
    "tmp = np.array(tmp)\n",
    "tmp"
   ]
  },
  {
   "cell_type": "code",
   "execution_count": 37,
   "id": "99cf63f0",
   "metadata": {
    "ExecuteTime": {
     "end_time": "2023-05-30T18:48:54.190447Z",
     "start_time": "2023-05-30T18:48:54.176014Z"
    }
   },
   "outputs": [
    {
     "data": {
      "text/plain": [
       "array([[1.8969959 , 1.49952827, 0.0801926 ],\n",
       "       [2.14344978, 1.5160283 , 0.19668701],\n",
       "       [1.21446443, 0.11649187, 0.07728656],\n",
       "       ...,\n",
       "       [2.46439028, 2.29133238, 0.14121623],\n",
       "       [0.97161251, 1.59981868, 1.37285173],\n",
       "       [1.83091938, 1.77399519, 0.545627  ]])"
      ]
     },
     "execution_count": 37,
     "metadata": {},
     "output_type": "execute_result"
    }
   ],
   "source": [
    "al = np.concatenate((tmp, delta), axis=1)\n",
    "al"
   ]
  },
  {
   "cell_type": "code",
   "execution_count": 38,
   "id": "04a09b2e",
   "metadata": {
    "ExecuteTime": {
     "end_time": "2023-05-30T18:48:55.210072Z",
     "start_time": "2023-05-30T18:48:55.199694Z"
    }
   },
   "outputs": [],
   "source": [
    "al = pd.DataFrame(al, columns=[\"theta\", \"phi\", \"Относительное смещение, радианы\"])"
   ]
  },
  {
   "cell_type": "code",
   "execution_count": 39,
   "id": "2b43e0d0",
   "metadata": {
    "ExecuteTime": {
     "end_time": "2023-05-30T18:48:55.998971Z",
     "start_time": "2023-05-30T18:48:55.962657Z"
    }
   },
   "outputs": [
    {
     "data": {
      "text/html": [
       "<div>\n",
       "<style scoped>\n",
       "    .dataframe tbody tr th:only-of-type {\n",
       "        vertical-align: middle;\n",
       "    }\n",
       "\n",
       "    .dataframe tbody tr th {\n",
       "        vertical-align: top;\n",
       "    }\n",
       "\n",
       "    .dataframe thead th {\n",
       "        text-align: right;\n",
       "    }\n",
       "</style>\n",
       "<table border=\"1\" class=\"dataframe\">\n",
       "  <thead>\n",
       "    <tr style=\"text-align: right;\">\n",
       "      <th></th>\n",
       "      <th>theta</th>\n",
       "      <th>phi</th>\n",
       "      <th>Относительное смещение, радианы</th>\n",
       "    </tr>\n",
       "  </thead>\n",
       "  <tbody>\n",
       "    <tr>\n",
       "      <th>count</th>\n",
       "      <td>1997.000000</td>\n",
       "      <td>1997.000000</td>\n",
       "      <td>1997.000000</td>\n",
       "    </tr>\n",
       "    <tr>\n",
       "      <th>mean</th>\n",
       "      <td>1.637610</td>\n",
       "      <td>1.695594</td>\n",
       "      <td>0.353720</td>\n",
       "    </tr>\n",
       "    <tr>\n",
       "      <th>std</th>\n",
       "      <td>0.579699</td>\n",
       "      <td>0.871051</td>\n",
       "      <td>0.333593</td>\n",
       "    </tr>\n",
       "    <tr>\n",
       "      <th>min</th>\n",
       "      <td>0.163486</td>\n",
       "      <td>0.001851</td>\n",
       "      <td>0.006030</td>\n",
       "    </tr>\n",
       "    <tr>\n",
       "      <th>25%</th>\n",
       "      <td>1.187589</td>\n",
       "      <td>1.057007</td>\n",
       "      <td>0.117926</td>\n",
       "    </tr>\n",
       "    <tr>\n",
       "      <th>50%</th>\n",
       "      <td>1.569822</td>\n",
       "      <td>1.765229</td>\n",
       "      <td>0.232330</td>\n",
       "    </tr>\n",
       "    <tr>\n",
       "      <th>75%</th>\n",
       "      <td>2.170382</td>\n",
       "      <td>2.417109</td>\n",
       "      <td>0.474325</td>\n",
       "    </tr>\n",
       "    <tr>\n",
       "      <th>max</th>\n",
       "      <td>3.117156</td>\n",
       "      <td>3.140807</td>\n",
       "      <td>1.563733</td>\n",
       "    </tr>\n",
       "  </tbody>\n",
       "</table>\n",
       "</div>"
      ],
      "text/plain": [
       "             theta          phi  Относительное смещение, радианы\n",
       "count  1997.000000  1997.000000                      1997.000000\n",
       "mean      1.637610     1.695594                         0.353720\n",
       "std       0.579699     0.871051                         0.333593\n",
       "min       0.163486     0.001851                         0.006030\n",
       "25%       1.187589     1.057007                         0.117926\n",
       "50%       1.569822     1.765229                         0.232330\n",
       "75%       2.170382     2.417109                         0.474325\n",
       "max       3.117156     3.140807                         1.563733"
      ]
     },
     "execution_count": 39,
     "metadata": {},
     "output_type": "execute_result"
    }
   ],
   "source": [
    "al.describe()"
   ]
  },
  {
   "cell_type": "code",
   "execution_count": 40,
   "id": "8676b3ad",
   "metadata": {
    "ExecuteTime": {
     "end_time": "2023-05-30T18:48:56.637963Z",
     "start_time": "2023-05-30T18:48:56.613738Z"
    }
   },
   "outputs": [],
   "source": [
    "t_1 = al[(al[\"theta\"] >= 0.0) & (al[\"theta\"] < np.pi/3)][\"Относительное смещение, радианы\"]\n",
    "t_2 = al[(al[\"theta\"] >= np.pi/3) & (al[\"theta\"] < 2*np.pi/3)][\"Относительное смещение, радианы\"]\n",
    "t_3 = al[(al[\"theta\"] >= 2*np.pi/3) & (al[\"theta\"] < np.pi)][\"Относительное смещение, радианы\"]\n",
    "p_1 = al[(al[\"phi\"] >= 0.0) & (al[\"phi\"] < np.pi/3)][\"Относительное смещение, радианы\"]\n",
    "p_2 = al[(al[\"phi\"] >= np.pi/3) & (al[\"phi\"] < 2*np.pi/3)][\"Относительное смещение, радианы\"]\n",
    "p_3 = al[(al[\"phi\"] >= 2*np.pi/3) & (al[\"phi\"] < np.pi)][\"Относительное смещение, радианы\"]"
   ]
  },
  {
   "cell_type": "code",
   "execution_count": null,
   "id": "e738f639",
   "metadata": {},
   "outputs": [],
   "source": []
  },
  {
   "cell_type": "code",
   "execution_count": 41,
   "id": "128f7490",
   "metadata": {
    "ExecuteTime": {
     "end_time": "2023-05-30T18:50:29.246813Z",
     "start_time": "2023-05-30T18:50:28.922288Z"
    }
   },
   "outputs": [
    {
     "data": {
      "text/plain": [
       "Text(17.31944444444445, 0.5, 'Плотность распределения')"
      ]
     },
     "execution_count": 41,
     "metadata": {},
     "output_type": "execute_result"
    },
    {
     "data": {
      "image/png": "[encoded data removed]",
      "text/plain": [
       "<Figure size 500x500 with 1 Axes>"
      ]
     },
     "metadata": {},
     "output_type": "display_data"
    }
   ],
   "source": [
    "sb.displot(x=pd.DataFrame(set(t_2) & set(p_1), columns=[\"Сектор 11\"])[\"Сектор 11\"], kind=\"hist\")\n",
    "plt.ylabel(\"Плотность распределения\")"
   ]
  },
  {
   "cell_type": "code",
   "execution_count": 42,
   "id": "70bd9c56",
   "metadata": {
    "ExecuteTime": {
     "end_time": "2023-05-30T19:52:55.294125Z",
     "start_time": "2023-05-30T19:52:55.281558Z"
    }
   },
   "outputs": [
    {
     "data": {
      "text/html": [
       "<div>\n",
       "<style scoped>\n",
       "    .dataframe tbody tr th:only-of-type {\n",
       "        vertical-align: middle;\n",
       "    }\n",
       "\n",
       "    .dataframe tbody tr th {\n",
       "        vertical-align: top;\n",
       "    }\n",
       "\n",
       "    .dataframe thead th {\n",
       "        text-align: right;\n",
       "    }\n",
       "</style>\n",
       "<table border=\"1\" class=\"dataframe\">\n",
       "  <thead>\n",
       "    <tr style=\"text-align: right;\">\n",
       "      <th></th>\n",
       "      <th>0</th>\n",
       "    </tr>\n",
       "  </thead>\n",
       "  <tbody>\n",
       "    <tr>\n",
       "      <th>0</th>\n",
       "      <td>0.700209</td>\n",
       "    </tr>\n",
       "    <tr>\n",
       "      <th>1</th>\n",
       "      <td>1.072579</td>\n",
       "    </tr>\n",
       "    <tr>\n",
       "      <th>2</th>\n",
       "      <td>0.074744</td>\n",
       "    </tr>\n",
       "    <tr>\n",
       "      <th>3</th>\n",
       "      <td>1.149523</td>\n",
       "    </tr>\n",
       "    <tr>\n",
       "      <th>4</th>\n",
       "      <td>0.016128</td>\n",
       "    </tr>\n",
       "    <tr>\n",
       "      <th>...</th>\n",
       "      <td>...</td>\n",
       "    </tr>\n",
       "    <tr>\n",
       "      <th>82</th>\n",
       "      <td>0.941253</td>\n",
       "    </tr>\n",
       "    <tr>\n",
       "      <th>83</th>\n",
       "      <td>0.577127</td>\n",
       "    </tr>\n",
       "    <tr>\n",
       "      <th>84</th>\n",
       "      <td>0.245140</td>\n",
       "    </tr>\n",
       "    <tr>\n",
       "      <th>85</th>\n",
       "      <td>0.568363</td>\n",
       "    </tr>\n",
       "    <tr>\n",
       "      <th>86</th>\n",
       "      <td>0.129405</td>\n",
       "    </tr>\n",
       "  </tbody>\n",
       "</table>\n",
       "<p>87 rows × 1 columns</p>\n",
       "</div>"
      ],
      "text/plain": [
       "           0\n",
       "0   0.700209\n",
       "1   1.072579\n",
       "2   0.074744\n",
       "3   1.149523\n",
       "4   0.016128\n",
       "..       ...\n",
       "82  0.941253\n",
       "83  0.577127\n",
       "84  0.245140\n",
       "85  0.568363\n",
       "86  0.129405\n",
       "\n",
       "[87 rows x 1 columns]"
      ]
     },
     "execution_count": 42,
     "metadata": {},
     "output_type": "execute_result"
    }
   ],
   "source": [
    "pd.DataFrame(set(t_1) & set(p_1))"
   ]
  },
  {
   "cell_type": "code",
   "execution_count": 64,
   "id": "4fe87710",
   "metadata": {
    "ExecuteTime": {
     "end_time": "2023-05-30T19:55:58.923423Z",
     "start_time": "2023-05-30T19:55:58.893579Z"
    }
   },
   "outputs": [
    {
     "data": {
      "text/plain": [
       "array([[<Axes: title={'center': 'Сектор 11'}>,\n",
       "        <Axes: title={'center': 'Сектор 12'}>,\n",
       "        <Axes: title={'center': 'Сектор 13'}>],\n",
       "       [<Axes: title={'center': 'Сектор 21'}>,\n",
       "        <Axes: title={'center': 'Сектор 22'}>,\n",
       "        <Axes: title={'center': 'Сектор 23'}>],\n",
       "       [<Axes: title={'center': 'Сектор 31'}>,\n",
       "        <Axes: title={'center': 'Сектор 32'}>,\n",
       "        <Axes: title={'center': 'Сектор 33'}>]], dtype=object)"
      ]
     },
     "execution_count": 64,
     "metadata": {},
     "output_type": "execute_result"
    },
    {
     "data": {
      "image/png": "[encoded data removed]",
      "text/plain": [
       "<Figure size 1500x1000 with 9 Axes>"
      ]
     },
     "metadata": {},
     "output_type": "display_data"
    }
   ],
   "source": [
    "t.hist(figsize=(15, 10) )"
   ]
  },
  {
   "cell_type": "code",
   "execution_count": 66,
   "id": "a0ac703e",
   "metadata": {},
   "outputs": [
    {
     "data": {
      "text/plain": [
       "Text(0, 0.5, 'Уголовое смещение, радианы')"
      ]
     },
     "execution_count": 66,
     "metadata": {},
     "output_type": "execute_result"
    },
    {
     "data": {
      "image/png": "[encoded data removed]",
      "text/plain": [
       "<Figure size 1500x1000 with 1 Axes>"
      ]
     },
     "metadata": {},
     "output_type": "display_data"
    }
   ],
   "source": [
    "t.boxplot(figsize=(15, 10))\n",
    "plt.ylabel(\"Уголовое смещение, радианы\")"
   ]
  },
  {
   "cell_type": "code",
   "execution_count": 63,
   "id": "0ac94d80",
   "metadata": {
    "ExecuteTime": {
     "end_time": "2023-05-30T19:55:54.891846Z",
     "start_time": "2023-05-30T19:55:54.855477Z"
    }
   },
   "outputs": [],
   "source": [
    "t = pd.concat([pd.DataFrame(set(t_1) & set(p_1), columns=[\"Сектор 11\"]),\n",
    "                 pd.DataFrame(set(t_1) & set(p_2), columns=[\"Сектор 12\"]),\n",
    "                 pd.DataFrame(set(t_1) & set(p_3), columns=[\"Сектор 13\"]),\n",
    "                 pd.DataFrame(set(t_2) & set(p_1), columns=[\"Сектор 21\"]),\n",
    "                 pd.DataFrame(set(t_2) & set(p_2), columns=[\"Сектор 22\"]),\n",
    "                 pd.DataFrame(set(t_2) & set(p_3), columns=[\"Сектор 23\"]),\n",
    "                 pd.DataFrame(set(t_3) & set(p_1), columns=[\"Сектор 31\"]),\n",
    "                 pd.DataFrame(set(t_3) & set(p_2), columns=[\"Сектор 32\"]),\n",
    "                 pd.DataFrame(set(t_3) & set(p_3), columns=[\"Сектор 33\"])], axis=1)"
   ]
  },
  {
   "cell_type": "code",
   "execution_count": 42,
   "id": "088fa229",
   "metadata": {
    "ExecuteTime": {
     "end_time": "2023-05-30T17:55:42.492502Z",
     "start_time": "2023-05-30T17:55:42.477095Z"
    }
   },
   "outputs": [
    {
     "data": {
      "text/html": [
       "<div>\n",
       "<style scoped>\n",
       "    .dataframe tbody tr th:only-of-type {\n",
       "        vertical-align: middle;\n",
       "    }\n",
       "\n",
       "    .dataframe tbody tr th {\n",
       "        vertical-align: top;\n",
       "    }\n",
       "\n",
       "    .dataframe thead th {\n",
       "        text-align: right;\n",
       "    }\n",
       "</style>\n",
       "<table border=\"1\" class=\"dataframe\">\n",
       "  <thead>\n",
       "    <tr style=\"text-align: right;\">\n",
       "      <th></th>\n",
       "      <th>0</th>\n",
       "    </tr>\n",
       "  </thead>\n",
       "  <tbody>\n",
       "    <tr>\n",
       "      <th>count</th>\n",
       "      <td>84.000000</td>\n",
       "    </tr>\n",
       "    <tr>\n",
       "      <th>mean</th>\n",
       "      <td>0.393339</td>\n",
       "    </tr>\n",
       "    <tr>\n",
       "      <th>std</th>\n",
       "      <td>0.394979</td>\n",
       "    </tr>\n",
       "    <tr>\n",
       "      <th>min</th>\n",
       "      <td>0.021362</td>\n",
       "    </tr>\n",
       "    <tr>\n",
       "      <th>25%</th>\n",
       "      <td>0.111905</td>\n",
       "    </tr>\n",
       "    <tr>\n",
       "      <th>50%</th>\n",
       "      <td>0.220475</td>\n",
       "    </tr>\n",
       "    <tr>\n",
       "      <th>75%</th>\n",
       "      <td>0.557844</td>\n",
       "    </tr>\n",
       "    <tr>\n",
       "      <th>max</th>\n",
       "      <td>1.546974</td>\n",
       "    </tr>\n",
       "  </tbody>\n",
       "</table>\n",
       "</div>"
      ],
      "text/plain": [
       "               0\n",
       "count  84.000000\n",
       "mean    0.393339\n",
       "std     0.394979\n",
       "min     0.021362\n",
       "25%     0.111905\n",
       "50%     0.220475\n",
       "75%     0.557844\n",
       "max     1.546974"
      ]
     },
     "execution_count": 42,
     "metadata": {},
     "output_type": "execute_result"
    }
   ],
   "source": [
    "pd.DataFrame(set(t_1) & set(p_1)).describe()"
   ]
  },
  {
   "cell_type": "code",
   "execution_count": 59,
   "id": "b8c61a86",
   "metadata": {
    "ExecuteTime": {
     "end_time": "2023-05-30T19:46:28.573044Z",
     "start_time": "2023-05-30T19:46:28.553921Z"
    }
   },
   "outputs": [],
   "source": [
    "delta = pd.DataFrame(delta, columns=[\"Относительное смещение\"])"
   ]
  },
  {
   "cell_type": "code",
   "execution_count": 60,
   "id": "7850008b",
   "metadata": {
    "ExecuteTime": {
     "end_time": "2023-05-30T19:46:29.757054Z",
     "start_time": "2023-05-30T19:46:29.740656Z"
    }
   },
   "outputs": [
    {
     "data": {
      "text/html": [
       "<div>\n",
       "<style scoped>\n",
       "    .dataframe tbody tr th:only-of-type {\n",
       "        vertical-align: middle;\n",
       "    }\n",
       "\n",
       "    .dataframe tbody tr th {\n",
       "        vertical-align: top;\n",
       "    }\n",
       "\n",
       "    .dataframe thead th {\n",
       "        text-align: right;\n",
       "    }\n",
       "</style>\n",
       "<table border=\"1\" class=\"dataframe\">\n",
       "  <thead>\n",
       "    <tr style=\"text-align: right;\">\n",
       "      <th></th>\n",
       "      <th>Относительное смещение</th>\n",
       "    </tr>\n",
       "  </thead>\n",
       "  <tbody>\n",
       "    <tr>\n",
       "      <th>0</th>\n",
       "      <td>0.080193</td>\n",
       "    </tr>\n",
       "    <tr>\n",
       "      <th>1</th>\n",
       "      <td>0.196687</td>\n",
       "    </tr>\n",
       "    <tr>\n",
       "      <th>2</th>\n",
       "      <td>0.077287</td>\n",
       "    </tr>\n",
       "    <tr>\n",
       "      <th>3</th>\n",
       "      <td>0.137385</td>\n",
       "    </tr>\n",
       "    <tr>\n",
       "      <th>4</th>\n",
       "      <td>0.456166</td>\n",
       "    </tr>\n",
       "    <tr>\n",
       "      <th>...</th>\n",
       "      <td>...</td>\n",
       "    </tr>\n",
       "    <tr>\n",
       "      <th>1992</th>\n",
       "      <td>0.098445</td>\n",
       "    </tr>\n",
       "    <tr>\n",
       "      <th>1993</th>\n",
       "      <td>1.213260</td>\n",
       "    </tr>\n",
       "    <tr>\n",
       "      <th>1994</th>\n",
       "      <td>0.141216</td>\n",
       "    </tr>\n",
       "    <tr>\n",
       "      <th>1995</th>\n",
       "      <td>1.372852</td>\n",
       "    </tr>\n",
       "    <tr>\n",
       "      <th>1996</th>\n",
       "      <td>0.545627</td>\n",
       "    </tr>\n",
       "  </tbody>\n",
       "</table>\n",
       "<p>1997 rows × 1 columns</p>\n",
       "</div>"
      ],
      "text/plain": [
       "      Относительное смещение\n",
       "0                   0.080193\n",
       "1                   0.196687\n",
       "2                   0.077287\n",
       "3                   0.137385\n",
       "4                   0.456166\n",
       "...                      ...\n",
       "1992                0.098445\n",
       "1993                1.213260\n",
       "1994                0.141216\n",
       "1995                1.372852\n",
       "1996                0.545627\n",
       "\n",
       "[1997 rows x 1 columns]"
      ]
     },
     "execution_count": 60,
     "metadata": {},
     "output_type": "execute_result"
    }
   ],
   "source": [
    "delta"
   ]
  },
  {
   "cell_type": "code",
   "execution_count": 61,
   "id": "a5adc61b",
   "metadata": {
    "ExecuteTime": {
     "end_time": "2023-05-30T19:46:31.685865Z",
     "start_time": "2023-05-30T19:46:31.344308Z"
    }
   },
   "outputs": [
    {
     "ename": "KeyError",
     "evalue": "'Относительное смещение, радианы'",
     "output_type": "error",
     "traceback": [
      "\u001b[0;31m---------------------------------------------------------------------------\u001b[0m",
      "\u001b[0;31mKeyError\u001b[0m                                  Traceback (most recent call last)",
      "File \u001b[0;32m~/anaconda3/lib/python3.9/site-packages/pandas/core/indexes/base.py:3802\u001b[0m, in \u001b[0;36mIndex.get_loc\u001b[0;34m(self, key, method, tolerance)\u001b[0m\n\u001b[1;32m   3801\u001b[0m \u001b[39mtry\u001b[39;00m:\n\u001b[0;32m-> 3802\u001b[0m     \u001b[39mreturn\u001b[39;00m \u001b[39mself\u001b[39;49m\u001b[39m.\u001b[39;49m_engine\u001b[39m.\u001b[39;49mget_loc(casted_key)\n\u001b[1;32m   3803\u001b[0m \u001b[39mexcept\u001b[39;00m \u001b[39mKeyError\u001b[39;00m \u001b[39mas\u001b[39;00m err:\n",
      "File \u001b[0;32m~/anaconda3/lib/python3.9/site-packages/pandas/_libs/index.pyx:138\u001b[0m, in \u001b[0;36mpandas._libs.index.IndexEngine.get_loc\u001b[0;34m()\u001b[0m\n",
      "File \u001b[0;32m~/anaconda3/lib/python3.9/site-packages/pandas/_libs/index.pyx:165\u001b[0m, in \u001b[0;36mpandas._libs.index.IndexEngine.get_loc\u001b[0;34m()\u001b[0m\n",
      "File \u001b[0;32mpandas/_libs/hashtable_class_helper.pxi:5745\u001b[0m, in \u001b[0;36mpandas._libs.hashtable.PyObjectHashTable.get_item\u001b[0;34m()\u001b[0m\n",
      "File \u001b[0;32mpandas/_libs/hashtable_class_helper.pxi:5753\u001b[0m, in \u001b[0;36mpandas._libs.hashtable.PyObjectHashTable.get_item\u001b[0;34m()\u001b[0m\n",
      "\u001b[0;31mKeyError\u001b[0m: 'Относительное смещение, радианы'",
      "\nThe above exception was the direct cause of the following exception:\n",
      "\u001b[0;31mKeyError\u001b[0m                                  Traceback (most recent call last)",
      "Cell \u001b[0;32mIn[61], line 1\u001b[0m\n\u001b[0;32m----> 1\u001b[0m sb\u001b[39m.\u001b[39mdisplot(x\u001b[39m=\u001b[39mdelta[\u001b[39m\"\u001b[39;49m\u001b[39mОтносительное смещение, радианы\u001b[39;49m\u001b[39m\"\u001b[39;49m], kind\u001b[39m=\u001b[39m\u001b[39m\"\u001b[39m\u001b[39mhist\u001b[39m\u001b[39m\"\u001b[39m)\n\u001b[1;32m      2\u001b[0m plt\u001b[39m.\u001b[39mylabel(\u001b[39m\"\u001b[39m\u001b[39mПлотность распределения\u001b[39m\u001b[39m\"\u001b[39m)\n",
      "File \u001b[0;32m~/anaconda3/lib/python3.9/site-packages/pandas/core/frame.py:3807\u001b[0m, in \u001b[0;36mDataFrame.__getitem__\u001b[0;34m(self, key)\u001b[0m\n\u001b[1;32m   3805\u001b[0m \u001b[39mif\u001b[39;00m \u001b[39mself\u001b[39m\u001b[39m.\u001b[39mcolumns\u001b[39m.\u001b[39mnlevels \u001b[39m>\u001b[39m \u001b[39m1\u001b[39m:\n\u001b[1;32m   3806\u001b[0m     \u001b[39mreturn\u001b[39;00m \u001b[39mself\u001b[39m\u001b[39m.\u001b[39m_getitem_multilevel(key)\n\u001b[0;32m-> 3807\u001b[0m indexer \u001b[39m=\u001b[39m \u001b[39mself\u001b[39;49m\u001b[39m.\u001b[39;49mcolumns\u001b[39m.\u001b[39;49mget_loc(key)\n\u001b[1;32m   3808\u001b[0m \u001b[39mif\u001b[39;00m is_integer(indexer):\n\u001b[1;32m   3809\u001b[0m     indexer \u001b[39m=\u001b[39m [indexer]\n",
      "File \u001b[0;32m~/anaconda3/lib/python3.9/site-packages/pandas/core/indexes/base.py:3804\u001b[0m, in \u001b[0;36mIndex.get_loc\u001b[0;34m(self, key, method, tolerance)\u001b[0m\n\u001b[1;32m   3802\u001b[0m     \u001b[39mreturn\u001b[39;00m \u001b[39mself\u001b[39m\u001b[39m.\u001b[39m_engine\u001b[39m.\u001b[39mget_loc(casted_key)\n\u001b[1;32m   3803\u001b[0m \u001b[39mexcept\u001b[39;00m \u001b[39mKeyError\u001b[39;00m \u001b[39mas\u001b[39;00m err:\n\u001b[0;32m-> 3804\u001b[0m     \u001b[39mraise\u001b[39;00m \u001b[39mKeyError\u001b[39;00m(key) \u001b[39mfrom\u001b[39;00m \u001b[39merr\u001b[39;00m\n\u001b[1;32m   3805\u001b[0m \u001b[39mexcept\u001b[39;00m \u001b[39mTypeError\u001b[39;00m:\n\u001b[1;32m   3806\u001b[0m     \u001b[39m# If we have a listlike key, _check_indexing_error will raise\u001b[39;00m\n\u001b[1;32m   3807\u001b[0m     \u001b[39m#  InvalidIndexError. Otherwise we fall through and re-raise\u001b[39;00m\n\u001b[1;32m   3808\u001b[0m     \u001b[39m#  the TypeError.\u001b[39;00m\n\u001b[1;32m   3809\u001b[0m     \u001b[39mself\u001b[39m\u001b[39m.\u001b[39m_check_indexing_error(key)\n",
      "\u001b[0;31mKeyError\u001b[0m: 'Относительное смещение, радианы'"
     ]
    }
   ],
   "source": [
    "sb.displot(x=delta[\"Относительное смещение, радианы\"], kind=\"hist\")\n",
    "plt.ylabel(\"Плотность распределения\")"
   ]
  },
  {
   "cell_type": "code",
   "execution_count": 419,
   "id": "c84ec4d8",
   "metadata": {
    "ExecuteTime": {
     "end_time": "2023-05-30T19:46:32.187096Z",
     "start_time": "2023-05-30T19:46:32.165521Z"
    }
   },
   "outputs": [
    {
     "data": {
      "text/plain": [
       "Относительное смещение, радианы    0.339586\n",
       "dtype: float32"
      ]
     },
     "execution_count": 419,
     "metadata": {},
     "output_type": "execute_result"
    }
   ],
   "source": [
    "delta.std()"
   ]
  },
  {
   "cell_type": "code",
   "execution_count": 420,
   "id": "6fe8aca4",
   "metadata": {
    "ExecuteTime": {
     "end_time": "2023-05-30T19:46:33.432747Z",
     "start_time": "2023-05-30T19:46:33.422283Z"
    }
   },
   "outputs": [
    {
     "data": {
      "text/plain": [
       "Относительное смещение, радианы    0.356406\n",
       "dtype: float32"
      ]
     },
     "execution_count": 420,
     "metadata": {},
     "output_type": "execute_result"
    }
   ],
   "source": [
    "delta.mean()"
   ]
  },
  {
   "cell_type": "code",
   "execution_count": 62,
   "id": "20c46828",
   "metadata": {
    "ExecuteTime": {
     "end_time": "2023-05-30T19:46:34.311481Z",
     "start_time": "2023-05-30T19:46:34.115089Z"
    }
   },
   "outputs": [
    {
     "data": {
      "text/plain": [
       "Text(0, 0.5, 'Угловое смещение, радианы')"
      ]
     },
     "execution_count": 62,
     "metadata": {},
     "output_type": "execute_result"
    },
    {
     "data": {
      "image/png": "[encoded data removed]",
      "text/plain": [
       "<Figure size 640x480 with 1 Axes>"
      ]
     },
     "metadata": {},
     "output_type": "display_data"
    }
   ],
   "source": [
    "sb.boxplot(delta)\n",
    "plt.ylabel(\"Угловое смещение, радианы\")"
   ]
  },
  {
   "cell_type": "code",
   "execution_count": 422,
   "id": "737163d5",
   "metadata": {
    "ExecuteTime": {
     "end_time": "2023-05-30T19:46:34.866578Z",
     "start_time": "2023-05-30T19:46:34.855459Z"
    }
   },
   "outputs": [],
   "source": [
    "from scipy.stats import shapiro\n",
    "from scipy.stats import normaltest"
   ]
  },
  {
   "cell_type": "code",
   "execution_count": 423,
   "id": "323f63d4",
   "metadata": {
    "ExecuteTime": {
     "end_time": "2023-05-30T19:46:36.290389Z",
     "start_time": "2023-05-30T19:46:36.273624Z"
    }
   },
   "outputs": [
    {
     "data": {
      "text/plain": [
       "ShapiroResult(statistic=0.8173697590827942, pvalue=7.034518290910582e-43)"
      ]
     },
     "execution_count": 423,
     "metadata": {},
     "output_type": "execute_result"
    }
   ],
   "source": [
    "shapiro(delta)"
   ]
  },
  {
   "cell_type": "code",
   "execution_count": 424,
   "id": "eea95cab",
   "metadata": {
    "ExecuteTime": {
     "end_time": "2023-05-30T19:46:37.074340Z",
     "start_time": "2023-05-30T19:46:37.043979Z"
    }
   },
   "outputs": [
    {
     "data": {
      "text/plain": [
       "NormaltestResult(statistic=array([502.5874], dtype=float32), pvalue=array([7.32035671e-110]))"
      ]
     },
     "execution_count": 424,
     "metadata": {},
     "output_type": "execute_result"
    }
   ],
   "source": [
    "normaltest(delta)"
   ]
  },
  {
   "cell_type": "code",
   "execution_count": 425,
   "id": "a19d2716",
   "metadata": {
    "ExecuteTime": {
     "end_time": "2023-05-30T19:46:37.575978Z",
     "start_time": "2023-05-30T19:46:37.567978Z"
    }
   },
   "outputs": [
    {
     "data": {
      "text/plain": [
       "45.83662361046586"
      ]
     },
     "execution_count": 425,
     "metadata": {},
     "output_type": "execute_result"
    }
   ],
   "source": [
    "0.4/np.pi * 360"
   ]
  },
  {
   "cell_type": "code",
   "execution_count": 442,
   "id": "1cf0453c",
   "metadata": {
    "ExecuteTime": {
     "end_time": "2023-05-30T19:57:11.464056Z",
     "start_time": "2023-05-30T19:57:10.882004Z"
    }
   },
   "outputs": [
    {
     "data": {
      "image/png": "[encoded data removed]",
      "text/plain": [
       "<Figure size 640x480 with 10 Axes>"
      ]
     },
     "metadata": {},
     "output_type": "display_data"
    }
   ],
   "source": [
    "from joypy import joyplot\n",
    "\n",
    "joyplot(t, colormap=sb.color_palette(\"crest\", as_cmap=True));\n",
    "plt.xlabel('Угловое смещение, радианы');\n",
    "plt.title(\"Распределение по секторам\");"
   ]
  },
  {
   "cell_type": "code",
   "execution_count": 455,
   "id": "0d0a7f71",
   "metadata": {
    "ExecuteTime": {
     "end_time": "2023-05-30T20:03:16.236647Z",
     "start_time": "2023-05-30T20:03:15.873446Z"
    }
   },
   "outputs": [
    {
     "data": {
      "text/plain": [
       "Text(0, 0.5, 'Угловое смещение, радианы')"
      ]
     },
     "execution_count": 455,
     "metadata": {},
     "output_type": "execute_result"
    },
    {
     "data": {
      "image/png": "[encoded data removed]",
      "text/plain": [
       "<Figure size 1500x1000 with 1 Axes>"
      ]
     },
     "metadata": {},
     "output_type": "display_data"
    }
   ],
   "source": [
    "sb.color_palette(palette='colorblind')\n",
    "t.boxplot(figsize=(15, 10))\n",
    "plt.ylabel(\"Угловое смещение, радианы\")"
   ]
  },
  {
   "cell_type": "code",
   "execution_count": null,
   "id": "196d7516",
   "metadata": {},
   "outputs": [],
   "source": []
  }
 ],
 "metadata": {
  "kernelspec": {
   "display_name": "Python 3 (ipykernel)",
   "language": "python",
   "name": "python3"
  },
  "language_info": {
   "codemirror_mode": {
    "name": "ipython",
    "version": 3
   },
   "file_extension": ".py",
   "mimetype": "text/x-python",
   "name": "python",
   "nbconvert_exporter": "python",
   "pygments_lexer": "ipython3",
   "version": "3.9.18"
  }
 },
 "nbformat": 4,
 "nbformat_minor": 5
}
