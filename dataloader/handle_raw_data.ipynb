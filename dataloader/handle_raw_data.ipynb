{
 "cells": [
  {
   "cell_type": "code",
   "execution_count": 27,
   "id": "a8569e8e",
   "metadata": {
    "ExecuteTime": {
     "end_time": "2024-03-26T18:44:41.432995Z",
     "start_time": "2024-03-26T18:44:41.428544Z"
    }
   },
   "source": [
    "import numpy as np\n",
    "import pandas as pd"
   ],
   "outputs": []
  },
  {
   "cell_type": "code",
   "execution_count": 28,
   "id": "5ad2830c",
   "metadata": {
    "ExecuteTime": {
     "end_time": "2024-03-26T18:44:42.551319Z",
     "start_time": "2024-03-26T18:44:42.547383Z"
    }
   },
   "source": [
    "data = np.fromfile(\"../raw_data/otdcr_928_0.dat\", dtype=np.float32)\n",
    "data"
   ],
   "outputs": []
  },
  {
   "cell_type": "code",
   "source": [
    "for i in range(data.size):\n",
    "    if data[i] == -1:\n",
    "        print(i)\n",
    "        break"
   ],
   "metadata": {
    "collapsed": false,
    "ExecuteTime": {
     "end_time": "2024-03-26T18:44:50.531991Z",
     "start_time": "2024-03-26T18:44:50.522410Z"
    }
   },
   "id": "79679f4be1c9a85e",
   "execution_count": 29,
   "outputs": []
  },
  {
   "cell_type": "code",
   "execution_count": 30,
   "id": "35062352",
   "metadata": {
    "ExecuteTime": {
     "end_time": "2024-03-26T18:44:59.129065Z",
     "start_time": "2024-03-26T18:44:59.126498Z"
    }
   },
   "source": [
    "size = int(data.size / 813.0)\n",
    "size"
   ],
   "outputs": []
  },
  {
   "cell_type": "code",
   "execution_count": 32,
   "id": "e9683424",
   "metadata": {
    "ExecuteTime": {
     "end_time": "2024-03-26T18:45:10.586456Z",
     "start_time": "2024-03-26T18:45:10.581844Z"
    }
   },
   "source": [
    "data.size"
   ],
   "outputs": []
  },
  {
   "cell_type": "code",
   "execution_count": 33,
   "id": "19641e41",
   "metadata": {
    "ExecuteTime": {
     "end_time": "2024-03-26T18:45:11.827756Z",
     "start_time": "2024-03-26T18:45:11.812022Z"
    }
   },
   "source": [
    "out = open(\"../data/dataset_03/data.csv\", 'a+')\n",
    "#for j in range(672):\n",
    "#    out.write(str(j))\n",
    "#    if(j != 671):\n",
    "#        out.write(',')\n",
    "#out.write('\\n')\n",
    "\n",
    "for i in range(0, int(data.size), 813):\n",
    "    for j in range(672):\n",
    "        out.write(str(data[i + 25 + j]))\n",
    "        if j != 671:\n",
    "            out.write(',')\n",
    "    out.write('\\n')\n",
    "\n",
    "out.close()"
   ],
   "outputs": []
  },
  {
   "cell_type": "code",
   "execution_count": 34,
   "id": "116f7615",
   "metadata": {
    "ExecuteTime": {
     "end_time": "2024-03-26T18:45:13.694352Z",
     "start_time": "2024-03-26T18:45:13.654439Z"
    }
   },
   "source": [
    "df = pd.read_csv(\"../data/dataset_03/data.csv\", index_col=None, header=None)\n",
    "df"
   ],
   "outputs": []
  },
  {
   "cell_type": "code",
   "source": [
    "df.duplicated()"
   ],
   "metadata": {
    "collapsed": false,
    "ExecuteTime": {
     "end_time": "2024-03-26T16:16:50.043536Z",
     "start_time": "2024-03-26T16:16:50.022931Z"
    }
   },
   "id": "4e46d68604ce5746",
   "execution_count": 19,
   "outputs": []
  },
  {
   "cell_type": "code",
   "execution_count": 18,
   "id": "0575ea1d",
   "metadata": {
    "ExecuteTime": {
     "end_time": "2024-03-26T16:16:16.835173Z",
     "start_time": "2024-03-26T16:16:16.412409Z"
    }
   },
   "source": [
    "df.describe()"
   ],
   "outputs": []
  },
  {
   "cell_type": "code",
   "execution_count": 5,
   "id": "1aac64d0",
   "metadata": {},
   "source": [
    "df = df.fillna(0)\n",
    "df"
   ],
   "outputs": []
  },
  {
   "cell_type": "code",
   "execution_count": 6,
   "id": "52f8170e",
   "metadata": {},
   "source": [
    "df[4] = 0.0\n",
    "df[5] = 0.0\n",
    "df"
   ],
   "outputs": []
  },
  {
   "cell_type": "code",
   "execution_count": 7,
   "id": "7a37c87e",
   "metadata": {},
   "source": [
    "df.duplicated()"
   ],
   "outputs": []
  },
  {
   "cell_type": "code",
   "execution_count": 8,
   "id": "31fb76f5",
   "metadata": {},
   "source": [
    "df.describe()"
   ],
   "outputs": []
  },
  {
   "cell_type": "code",
   "execution_count": 9,
   "id": "757bae24",
   "metadata": {},
   "source": [
    "df.shape"
   ],
   "outputs": []
  },
  {
   "cell_type": "code",
   "execution_count": 50,
   "id": "c359ef6b",
   "metadata": {},
   "source": [
    "df.to_csv(\"../data/dataset_03/data.csv\")"
   ],
   "outputs": []
  },
  {
   "attachments": {},
   "cell_type": "markdown",
   "id": "be070be3",
   "metadata": {},
   "source": [
    "# Clear data"
   ]
  },
  {
   "cell_type": "code",
   "execution_count": 42,
   "id": "6c9c2a85",
   "metadata": {},
   "source": [
    "y = pd.read_csv(\"../raw_data/dataset_03/OTDCR_100.txt\", sep='\\t',\n",
    "                index_col=None, header=None)"
   ],
   "outputs": []
  },
  {
   "cell_type": "code",
   "execution_count": 43,
   "id": "d9a20bc0",
   "metadata": {},
   "source": [
    "y_true = pd.concat([y[:4036], y[10000:18708], y[20000:27668], y[50000:55411], y[75000:82983], y[85000:]],\n",
    "                   ignore_index=True)"
   ],
   "outputs": []
  },
  {
   "cell_type": "code",
   "execution_count": 44,
   "id": "e47b9cb4",
   "metadata": {},
   "source": [
    "y_true = y_true.drop([0, 1], axis=1)\n",
    "y_true"
   ],
   "outputs": []
  },
  {
   "cell_type": "code",
   "execution_count": 45,
   "id": "40231028",
   "metadata": {},
   "source": [
    "y_true = y_true.rename(columns={2: 'x1', 3: 'y1', 4: 'z1',\n",
    "                                5: 'x2', 6: 'y2', 7: 'z2'})\n",
    "y_true"
   ],
   "outputs": []
  },
  {
   "cell_type": "code",
   "execution_count": 48,
   "id": "e5d748c6",
   "metadata": {},
   "source": [
    "y_true.duplicated().sum()"
   ],
   "outputs": []
  },
  {
   "cell_type": "code",
   "execution_count": 49,
   "id": "0c56c8b8",
   "metadata": {
    "ExecuteTime": {
     "end_time": "2022-12-22T10:20:46.581298Z",
     "start_time": "2022-12-22T10:20:46.564621Z"
    }
   },
   "source": [
    "y_true.to_csv(\"../data/dataset_03/answer.csv\")"
   ],
   "outputs": []
  },
  {
   "cell_type": "code",
   "execution_count": 51,
   "id": "5754aa90",
   "metadata": {
    "ExecuteTime": {
     "end_time": "2022-12-22T10:20:47.339898Z",
     "start_time": "2022-12-22T10:20:47.304036Z"
    }
   },
   "source": [
    "pd.read_csv(\"../data/dataset_03/answer.csv\")"
   ],
   "outputs": []
  },
  {
   "cell_type": "code",
   "execution_count": null,
   "id": "d43f853c",
   "metadata": {},
   "source": [],
   "outputs": []
  }
 ],
 "metadata": {
  "kernelspec": {
   "display_name": "Python 3 (ipykernel)",
   "language": "python",
   "name": "python3"
  },
  "language_info": {
   "codemirror_mode": {
    "name": "ipython",
    "version": 3
   },
   "file_extension": ".py",
   "mimetype": "text/x-python",
   "name": "python",
   "nbconvert_exporter": "python",
   "pygments_lexer": "ipython3",
   "version": "3.9.18"
  },
  "latex_envs": {
   "LaTeX_envs_menu_present": true,
   "autoclose": false,
   "autocomplete": true,
   "bibliofile": "biblio.bib",
   "cite_by": "apalike",
   "current_citInitial": 1,
   "eqLabelWithNumbers": true,
   "eqNumInitial": 1,
   "hotkeys": {
    "equation": "Ctrl-E",
    "itemize": "Ctrl-I"
   },
   "labels_anchors": false,
   "latex_user_defs": false,
   "report_style_numbering": false,
   "user_envs_cfg": false
  }
 },
 "nbformat": 4,
 "nbformat_minor": 5
}
