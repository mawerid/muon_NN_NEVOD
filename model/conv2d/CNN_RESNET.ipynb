{
 "cells": [
  {
   "cell_type": "code",
   "source": [
    "import torch\n",
    "import torch.nn as nn\n",
    "import torch.nn.functional as F\n",
    "from torchsummary import summary\n",
    "import pandas as pd\n",
    "import numpy as np\n",
    "from sklearn.model_selection import train_test_split"
   ],
   "metadata": {
    "collapsed": false,
    "ExecuteTime": {
     "end_time": "2024-01-21T11:19:47.502964418Z",
     "start_time": "2024-01-21T11:19:47.289083834Z"
    }
   },
   "id": "8acc9fd951c17073",
   "execution_count": 16,
   "outputs": []
  },
  {
   "cell_type": "code",
   "source": [
    "df_x = pd.read_csv('../data/dataset_01/data.csv')\n",
    "df_y = pd.read_csv('../data/dataset_01/answer.csv')"
   ],
   "metadata": {
    "collapsed": false,
    "ExecuteTime": {
     "end_time": "2024-01-21T11:18:37.068735316Z",
     "start_time": "2024-01-21T11:18:36.818454951Z"
    }
   },
   "id": "b9d7547390741047",
   "execution_count": 5,
   "outputs": []
  },
  {
   "cell_type": "code",
   "source": [
    "# df_x = df_x.drop(labels=['Unnamed: 0'], axis=1)\n",
    "df_x"
   ],
   "metadata": {
    "collapsed": false,
    "ExecuteTime": {
     "end_time": "2024-01-21T11:18:37.784555850Z",
     "start_time": "2024-01-21T11:18:37.715690177Z"
    }
   },
   "id": "be5a8edaf37b17c6",
   "execution_count": 6,
   "outputs": []
  },
  {
   "cell_type": "code",
   "source": [
    "# df_y = df_y.drop(labels=['Unnamed: 0'], axis=1)\n",
    "df_y"
   ],
   "metadata": {
    "collapsed": false,
    "ExecuteTime": {
     "end_time": "2024-01-21T11:18:40.567267845Z",
     "start_time": "2024-01-21T11:18:40.563071606Z"
    }
   },
   "id": "de91c9f38b28f434",
   "execution_count": 7,
   "outputs": []
  },
  {
   "cell_type": "code",
   "source": [
    "df = pd.concat([df_x, df_y], axis=1)\n",
    "df"
   ],
   "metadata": {
    "collapsed": false,
    "ExecuteTime": {
     "end_time": "2024-01-21T11:18:45.516445270Z",
     "start_time": "2024-01-21T11:18:45.440186609Z"
    }
   },
   "id": "aee3bc828f6e27f9",
   "execution_count": 8,
   "outputs": []
  },
  {
   "cell_type": "code",
   "source": [
    "labels = [str(i) for i in range(672)]"
   ],
   "metadata": {
    "collapsed": false,
    "ExecuteTime": {
     "end_time": "2024-01-21T11:18:50.972726933Z",
     "start_time": "2024-01-21T11:18:50.962017683Z"
    }
   },
   "id": "67fbf713b3db916e",
   "execution_count": 9,
   "outputs": []
  },
  {
   "cell_type": "code",
   "source": [
    "df = df.drop_duplicates(subset=labels, ignore_index=True)\n",
    "df"
   ],
   "metadata": {
    "collapsed": false,
    "ExecuteTime": {
     "end_time": "2024-01-21T11:18:59.229909952Z",
     "start_time": "2024-01-21T11:18:59.097813474Z"
    }
   },
   "id": "33bad4ea54fafec8",
   "execution_count": 10,
   "outputs": []
  },
  {
   "cell_type": "code",
   "source": [
    "df_x = df.drop(labels=['x1', 'y1', 'z1', 'x2', 'y2', 'z2'], axis=1)\n",
    "df_x"
   ],
   "metadata": {
    "collapsed": false,
    "ExecuteTime": {
     "end_time": "2024-01-21T11:19:01.879086562Z",
     "start_time": "2024-01-21T11:19:01.843701128Z"
    }
   },
   "id": "28adc93d4ee0331e",
   "execution_count": 11,
   "outputs": []
  },
  {
   "cell_type": "code",
   "source": [
    "df_y = df.drop(labels=labels, axis=1)\n",
    "df_y"
   ],
   "metadata": {
    "collapsed": false,
    "ExecuteTime": {
     "end_time": "2024-01-21T11:19:04.224965656Z",
     "start_time": "2024-01-21T11:19:04.151974221Z"
    }
   },
   "id": "e65628911f5e52da",
   "execution_count": 12,
   "outputs": []
  },
  {
   "cell_type": "code",
   "source": [
    "df_x = np.reshape(df_x.to_numpy(), (-1, 1, 24, 28))\n",
    "df_x.shape"
   ],
   "metadata": {
    "collapsed": false,
    "ExecuteTime": {
     "end_time": "2024-01-21T11:19:24.939882692Z",
     "start_time": "2024-01-21T11:19:24.910452917Z"
    }
   },
   "id": "191ce0e10a018b96",
   "execution_count": 13,
   "outputs": []
  },
  {
   "cell_type": "code",
   "source": [
    "df_y = df_y.to_numpy()\n",
    "df_y"
   ],
   "metadata": {
    "collapsed": false,
    "ExecuteTime": {
     "end_time": "2024-01-21T11:19:27.326045739Z",
     "start_time": "2024-01-21T11:19:27.298917753Z"
    }
   },
   "id": "8fcacb2810ba1e80",
   "execution_count": 14,
   "outputs": []
  },
  {
   "cell_type": "code",
   "source": [
    "train_x, test_x, train_y, test_y = train_test_split(df_x, df_y, train_size=0.9)\n",
    "\n",
    "train_x, valid_x, train_y, valid_y = train_test_split(train_x,\n",
    "                                                    train_y,\n",
    "                                                    test_size=0.33)"
   ],
   "metadata": {
    "collapsed": false,
    "ExecuteTime": {
     "end_time": "2024-01-21T11:19:53.801848450Z",
     "start_time": "2024-01-21T11:19:53.769567860Z"
    }
   },
   "id": "5c3664cd5c7de0f2",
   "execution_count": 17,
   "outputs": []
  },
  {
   "cell_type": "code",
   "source": [
    "print(train_x.shape), print(train_y.shape)\n",
    "print(valid_x.shape), print(valid_y.shape)\n",
    "print(test_x.shape), print(test_y.shape)"
   ],
   "metadata": {
    "collapsed": false,
    "ExecuteTime": {
     "end_time": "2024-01-21T11:19:54.964851299Z",
     "start_time": "2024-01-21T11:19:54.923901808Z"
    }
   },
   "id": "98060c97f54c2191",
   "execution_count": 18,
   "outputs": []
  },
  {
   "cell_type": "code",
   "source": [
    "train_x = torch.tensor(train_x).float()\n",
    "train_y = torch.tensor(train_y).float()\n",
    "valid_x = torch.tensor(valid_x).float()\n",
    "valid_y = torch.tensor(valid_y).float()\n",
    "test_x = torch.tensor(test_x).float()\n",
    "test_y = torch.tensor(test_y).float()"
   ],
   "metadata": {
    "collapsed": false,
    "ExecuteTime": {
     "end_time": "2024-01-21T11:20:05.559707379Z",
     "start_time": "2024-01-21T11:20:05.517843291Z"
    }
   },
   "id": "4038cc3ffd786b1d",
   "execution_count": 19,
   "outputs": []
  },
  {
   "cell_type": "code",
   "source": [
    "class BasicBlock(nn.Module):\n",
    "    expansion = 1\n",
    "\n",
    "    def __init__(self, in_channels, out_channels, stride=1):\n",
    "        super(BasicBlock, self).__init__()\n",
    "        self.conv1 = nn.Conv2d(in_channels, out_channels, kernel_size=3, stride=stride, padding=1, bias=False)\n",
    "        self.bn1 = nn.BatchNorm2d(out_channels)\n",
    "        self.conv2 = nn.Conv2d(out_channels, out_channels, kernel_size=3, stride=1, padding=1, bias=False)\n",
    "        self.bn2 = nn.BatchNorm2d(out_channels)\n",
    "\n",
    "        self.shortcut = nn.Sequential()\n",
    "        if stride != 1 or in_channels != self.expansion * out_channels:\n",
    "            self.shortcut = nn.Sequential(\n",
    "                nn.Conv2d(in_channels, self.expansion * out_channels, kernel_size=1, stride=stride, bias=False),\n",
    "                nn.BatchNorm2d(self.expansion * out_channels)\n",
    "            )\n",
    "\n",
    "    def forward(self, x):\n",
    "        out = F.relu(self.bn1(self.conv1(x)))\n",
    "        out = self.bn2(self.conv2(out))\n",
    "        out += self.shortcut(x)\n",
    "        out = F.relu(out)\n",
    "        return out"
   ],
   "metadata": {
    "collapsed": true,
    "ExecuteTime": {
     "end_time": "2024-01-21T11:20:09.006215515Z",
     "start_time": "2024-01-21T11:20:08.963175937Z"
    }
   },
   "id": "initial_id",
   "execution_count": 20,
   "outputs": []
  },
  {
   "cell_type": "code",
   "source": [
    "class ResNet(nn.Module):\n",
    "    def __init__(self, block, layers, num_params):\n",
    "        super(ResNet, self).__init__()\n",
    "        self.in_channels = 64\n",
    "        self.conv1 = nn.Conv2d(6, 64, kernel_size=3, stride=1, padding=1, bias=False)\n",
    "        self.bn1 = nn.BatchNorm2d(64)\n",
    "        self.layer1 = self.make_layer(block, 64, layers[0], stride=1)\n",
    "        self.layer2 = self.make_layer(block, 128, layers[1], stride=2)\n",
    "        self.layer3 = self.make_layer(block, 256, layers[2], stride=2)\n",
    "        self.layer4 = self.make_layer(block, 512, layers[3], stride=2)\n",
    "        self.avg_pool = nn.AdaptiveAvgPool2d(1)\n",
    "        self.fc = nn.Linear(512 * block.expansion, num_params)\n",
    "\n",
    "    def make_layer(self, block, out_channels, blocks, stride):\n",
    "        layers = []\n",
    "        layers.append(block(self.in_channels, out_channels, stride))\n",
    "        self.in_channels = out_channels * block.expansion\n",
    "        for _ in range(1, blocks):\n",
    "            layers.append(block(self.in_channels, out_channels, 1))\n",
    "        return nn.Sequential(*layers)\n",
    "\n",
    "    def forward(self, x):\n",
    "        out = F.relu(self.bn1(self.conv1(x)))\n",
    "        out = self.layer1(out)\n",
    "        out = self.layer2(out)\n",
    "        out = self.layer3(out)\n",
    "        out = self.layer4(out)\n",
    "        out = self.avg_pool(out)\n",
    "        out = out.view(out.size(0), -1)\n",
    "        out = self.fc(out)\n",
    "        return out"
   ],
   "metadata": {
    "collapsed": false,
    "ExecuteTime": {
     "end_time": "2024-01-21T11:20:10.027826210Z",
     "start_time": "2024-01-21T11:20:10.014279769Z"
    }
   },
   "id": "242634a86d2d3542",
   "execution_count": 21,
   "outputs": []
  },
  {
   "cell_type": "code",
   "source": [
    "# Instantiate the model\n",
    "model = ResNet(BasicBlock, [1, 1, 1, 1], num_params=6)"
   ],
   "metadata": {
    "collapsed": false,
    "ExecuteTime": {
     "end_time": "2024-01-21T11:20:13.318902834Z",
     "start_time": "2024-01-21T11:20:13.256860621Z"
    }
   },
   "id": "af1fa343c1529c2b",
   "execution_count": 22,
   "outputs": []
  },
  {
   "cell_type": "code",
   "source": [
    "loss_function = nn.MSELoss()\n",
    "optimizer = torch.optim.Adam(model.parameters(), lr=0.001)"
   ],
   "metadata": {
    "collapsed": false,
    "ExecuteTime": {
     "end_time": "2024-01-21T11:21:08.638594425Z",
     "start_time": "2024-01-21T11:21:07.433311327Z"
    }
   },
   "id": "c0594346a5b6fb7",
   "execution_count": 23,
   "outputs": []
  },
  {
   "cell_type": "code",
   "source": [
    "# init weights\n",
    "def init_weights(model) -> None:\n",
    "    if isinstance(model, nn.Linear):\n",
    "        torch.nn.init.xavier_uniform_(model.weight)\n",
    "        model.bias.data.fill_(0.1)\n",
    "\n",
    "model.apply(init_weights)\n",
    "\n",
    "# if torch.cuda.is_available():\n",
    "#     model = model.cuda()\n",
    "\n",
    "#     train_x = train_x.cuda()\n",
    "#     train_y = train_y.cuda()\n",
    "#     valid_x = valid_x.cuda()\n",
    "#     valid_y = valid_y.cuda()\n",
    "#     test_x = test_x.cuda()\n",
    "#     test_y = test_y.cuda()"
   ],
   "metadata": {
    "collapsed": false,
    "ExecuteTime": {
     "end_time": "2024-01-21T11:21:10.097196667Z",
     "start_time": "2024-01-21T11:21:10.055166196Z"
    }
   },
   "id": "7fc39d55d5775c5b",
   "execution_count": 24,
   "outputs": []
  },
  {
   "cell_type": "code",
   "source": [
    "lr = 1e-3\n",
    "batch_size = 64\n",
    "max_epoch = 30\n",
    "losses_train = []\n",
    "losses_valid = []\n",
    "\n",
    "for epoch in range(max_epoch):\n",
    "    train_loss = 0.0\n",
    "    for i in range(0, train_x.size()[0], batch_size):\n",
    "        data = train_x[i:i + batch_size]\n",
    "        target = train_y[i:i + batch_size]\n",
    "\n",
    "        optimizer.zero_grad()\n",
    "        prediction = model(data)\n",
    "        loss = loss_function(prediction, target)\n",
    "        loss.backward()\n",
    "        optimizer.step()\n",
    "\n",
    "        train_loss += loss.item()\n",
    "\n",
    "    valid_loss = 0.0\n",
    "    for i in range(0, valid_x.size()[0], batch_size):\n",
    "        data = valid_x[i:i + batch_size]\n",
    "        target = valid_y[i:i + batch_size]\n",
    "\n",
    "        prediction = model(data)\n",
    "        loss = loss_function(prediction, target)\n",
    "        valid_loss += loss.item()\n",
    "\n",
    "    # if (epoch) % 10 == 0:\n",
    "    print(\n",
    "        f'Epoch {epoch} \\t\\t Training Loss: {train_loss / len(train_x)} \\t\\t Validation Loss: {valid_loss / len(valid_x)}'\n",
    "    )\n",
    "    \n",
    "    if epoch > 0 and valid_loss / len(valid_x)  < min(losses_valid):\n",
    "        torch.save(model.state_dict(), \n",
    "           \"../logs/weights_model_03/model_state_adam_01.pt\")\n",
    "        print(\"Save model\")\n",
    "        \n",
    "    \n",
    "    losses_train.append(train_loss / len(train_x))\n",
    "    losses_valid.append(valid_loss / len(valid_x))"
   ],
   "metadata": {
    "collapsed": false,
    "ExecuteTime": {
     "end_time": "2024-01-21T11:23:43.448478560Z",
     "start_time": "2024-01-21T11:23:43.306684544Z"
    }
   },
   "id": "c41717827801d7b9",
   "execution_count": 26,
   "outputs": []
  },
  {
   "cell_type": "code",
   "source": [
    "# torch.save(model.state_dict(), \n",
    "        #    \"../logs/weights_model_03/model_state_rmsprop.pt\")"
   ],
   "metadata": {
    "collapsed": false
   },
   "id": "68966d4a99e0a215",
   "execution_count": 113,
   "outputs": []
  },
  {
   "cell_type": "code",
   "source": [
    "losses = pd.DataFrame([losses_train, losses_valid],\n",
    "                      index=[\"Train loss\", \"Valid loss\"]).T\n",
    "losses"
   ],
   "metadata": {
    "collapsed": false
   },
   "id": "fd424f63f9bfa880",
   "execution_count": 114,
   "outputs": []
  },
  {
   "cell_type": "code",
   "source": [
    "ax = losses.plot(colormap=\"brg\")\n",
    "ax.set_xlabel(\"Номер эпохи\")\n",
    "ax.set_ylabel(\"Значение функции потерь\")"
   ],
   "metadata": {
    "collapsed": false
   },
   "id": "30cc55ffd4dc87b9",
   "execution_count": 115,
   "outputs": []
  },
  {
   "cell_type": "code",
   "source": [
    "# Move the model to the device (CPU or GPU)\n",
    "device = torch.device(\"cuda\" if torch.cuda.is_available() else \"cpu\")\n",
    "model.to(device)\n",
    "\n",
    "# Summary of the model\n",
    "input_size = (6, 24, 28)\n",
    "summary(model, input_size=input_size, device=str(device))\n",
    "\n",
    "# Save the summary as an image\n",
    "summary_image_path = \"resnet_summary.png\"\n",
    "summary(model, input_size=input_size, device=str(device), show_input=True, show_hierarchical=True, path=summary_image_path)\n",
    "\n",
    "print(f\"Model summary saved to {summary_image_path}\")"
   ],
   "metadata": {
    "collapsed": false,
    "ExecuteTime": {
     "end_time": "2024-01-21T08:55:07.976022639Z",
     "start_time": "2024-01-21T08:55:07.878144719Z"
    }
   },
   "id": "e0537381d30ffa55",
   "execution_count": 50,
   "outputs": []
  },
  {
   "cell_type": "code",
   "source": [
    "# Generate example data\n",
    "num_samples = 100\n",
    "input_size = (24, 28)\n",
    "num_params = 6\n",
    "\n",
    "# Generate random input data (batch_size, channels, height, width)\n",
    "input_data = torch.randn((num_samples, 6, *input_size))\n",
    "\n",
    "# Generate random target values (batch_size, num_params)\n",
    "target_data = torch.randn((num_samples, num_params))\n",
    "\n",
    "print(\"Input shape:\", input_data.shape)\n",
    "print(\"Target shape:\", target_data.shape)"
   ],
   "metadata": {
    "collapsed": false,
    "ExecuteTime": {
     "end_time": "2024-01-21T08:42:45.075809190Z",
     "start_time": "2024-01-21T08:42:45.028303859Z"
    }
   },
   "id": "30de0566aa8bd97c",
   "execution_count": 26,
   "outputs": []
  },
  {
   "cell_type": "code",
   "source": [
    "# Define loss function and optimizer\n",
    "criterion = nn.MSELoss()\n",
    "optimizer = optim.Adam(model.parameters(), lr=0.001)"
   ],
   "metadata": {
    "collapsed": false,
    "ExecuteTime": {
     "end_time": "2024-01-21T08:42:49.278485488Z",
     "start_time": "2024-01-21T08:42:49.261693413Z"
    }
   },
   "id": "cc83c4ef22ef031c",
   "execution_count": 27,
   "outputs": []
  },
  {
   "cell_type": "code",
   "source": [
    "# Sample input (replace with your actual data)\n",
    "sample_input = torch.randn((1, 3, 224, 224))"
   ],
   "metadata": {
    "collapsed": false,
    "ExecuteTime": {
     "end_time": "2024-01-21T08:42:50.933844913Z",
     "start_time": "2024-01-21T08:42:50.925212752Z"
    }
   },
   "id": "7815012eb7524d3f",
   "execution_count": 28,
   "outputs": []
  },
  {
   "cell_type": "code",
   "source": [
    "# Forward pass\n",
    "output = model(input_data)"
   ],
   "metadata": {
    "collapsed": false,
    "ExecuteTime": {
     "end_time": "2024-01-21T08:43:01.044118071Z",
     "start_time": "2024-01-21T08:43:00.003911543Z"
    }
   },
   "id": "eefb6b24a9d45593",
   "execution_count": 29,
   "outputs": []
  },
  {
   "cell_type": "code",
   "source": [
    "make_dot(output.mean(), params=dict(model.named_parameters()), show_attrs=True)"
   ],
   "metadata": {
    "collapsed": false,
    "ExecuteTime": {
     "end_time": "2024-01-21T08:48:07.176496870Z",
     "start_time": "2024-01-21T08:48:06.992202226Z"
    }
   },
   "id": "69875053d2650940",
   "execution_count": 34,
   "outputs": []
  },
  {
   "cell_type": "code",
   "source": [
    "# Print the model architecture\n",
    "print(model)"
   ],
   "metadata": {
    "collapsed": false,
    "ExecuteTime": {
     "end_time": "2024-01-21T08:41:07.737251621Z",
     "start_time": "2024-01-21T08:41:07.728670584Z"
    }
   },
   "id": "41f6338e36fe5277",
   "execution_count": 24,
   "outputs": []
  },
  {
   "cell_type": "code",
   "source": [
    "# Print the output shape\n",
    "print(\"Output shape:\", output.shape)"
   ],
   "metadata": {
    "collapsed": false,
    "ExecuteTime": {
     "end_time": "2024-01-21T08:41:13.996867301Z",
     "start_time": "2024-01-21T08:41:13.977454441Z"
    }
   },
   "id": "5ea0c7be4055e6a4",
   "execution_count": 25,
   "outputs": []
  },
  {
   "cell_type": "code",
   "source": [],
   "metadata": {
    "collapsed": false
   },
   "id": "bacea3bfddd7a2ea",
   "execution_count": null,
   "outputs": []
  }
 ],
 "metadata": {
  "kernelspec": {
   "display_name": "Python 3",
   "language": "python",
   "name": "python3"
  },
  "language_info": {
   "codemirror_mode": {
    "name": "ipython",
    "version": 2
   },
   "file_extension": ".py",
   "mimetype": "text/x-python",
   "name": "python",
   "nbconvert_exporter": "python",
   "pygments_lexer": "ipython2",
   "version": "2.7.6"
  }
 },
 "nbformat": 4,
 "nbformat_minor": 5
}
