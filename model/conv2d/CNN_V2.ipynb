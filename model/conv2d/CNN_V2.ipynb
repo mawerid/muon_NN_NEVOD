{
 "cells": [
  {
   "cell_type": "markdown",
   "metadata": {},
   "source": [
    "# Import libraries"
   ]
  },
  {
   "cell_type": "code",
   "execution_count": 1,
   "metadata": {
    "ExecuteTime": {
     "end_time": "2024-01-22T17:04:45.111908150Z",
     "start_time": "2024-01-22T17:04:42.243012516Z"
    }
   },
   "source": [
    "import pandas as pd\n",
    "import numpy as np\n",
    "import matplotlib.pyplot as plt\n",
    "import seaborn as sb\n",
    "from sklearn.model_selection import train_test_split\n",
    "import torch\n",
    "import torch.nn as nn\n",
    "from scipy import stats"
   ],
   "outputs": []
  },
  {
   "cell_type": "markdown",
   "metadata": {},
   "source": [
    "# Prepare datasets"
   ]
  },
  {
   "cell_type": "code",
   "execution_count": 2,
   "metadata": {
    "ExecuteTime": {
     "end_time": "2024-01-21T11:25:47.992607361Z",
     "start_time": "2024-01-21T11:25:47.678380724Z"
    }
   },
   "source": [
    "df_x = pd.read_csv('../data/dataset_01/data.csv')\n",
    "df_y = pd.read_csv('../data/dataset_01/answer.csv')"
   ],
   "outputs": []
  },
  {
   "cell_type": "code",
   "execution_count": 3,
   "metadata": {
    "ExecuteTime": {
     "end_time": "2024-01-21T11:25:48.620826445Z",
     "start_time": "2024-01-21T11:25:48.561915367Z"
    }
   },
   "source": [
    "# df_x = df_x.drop(labels=['Unnamed: 0'], axis=1)\n",
    "df_x"
   ],
   "outputs": []
  },
  {
   "cell_type": "code",
   "execution_count": 4,
   "metadata": {
    "ExecuteTime": {
     "end_time": "2024-01-21T11:25:51.461709326Z",
     "start_time": "2024-01-21T11:25:51.459946424Z"
    }
   },
   "source": [
    "# df_y = df_y.drop(labels=['Unnamed: 0'], axis=1)\n",
    "df_y"
   ],
   "outputs": []
  },
  {
   "cell_type": "code",
   "execution_count": 5,
   "metadata": {
    "ExecuteTime": {
     "end_time": "2024-01-21T11:25:51.554163204Z",
     "start_time": "2024-01-21T11:25:51.460480880Z"
    }
   },
   "source": [
    "df = pd.concat([df_x, df_y], axis=1)\n",
    "df"
   ],
   "outputs": []
  },
  {
   "cell_type": "code",
   "execution_count": 6,
   "metadata": {
    "ExecuteTime": {
     "end_time": "2024-01-21T11:25:51.557342867Z",
     "start_time": "2024-01-21T11:25:51.502529534Z"
    }
   },
   "source": [
    "labels = [str(i) for i in range(672)]"
   ],
   "outputs": []
  },
  {
   "cell_type": "code",
   "execution_count": 7,
   "metadata": {
    "ExecuteTime": {
     "end_time": "2024-01-21T11:25:53.646932209Z",
     "start_time": "2024-01-21T11:25:53.341846854Z"
    }
   },
   "source": [
    "df = df.drop_duplicates(subset=labels, ignore_index=True)\n",
    "df"
   ],
   "outputs": []
  },
  {
   "cell_type": "code",
   "execution_count": 8,
   "metadata": {
    "ExecuteTime": {
     "end_time": "2024-01-21T11:25:54.518025277Z",
     "start_time": "2024-01-21T11:25:54.352538189Z"
    }
   },
   "source": [
    "df_x = df.drop(labels=['x1', 'y1', 'z1', 'x2', 'y2', 'z2'], axis=1)\n",
    "df_x"
   ],
   "outputs": []
  },
  {
   "cell_type": "code",
   "execution_count": 9,
   "metadata": {
    "ExecuteTime": {
     "end_time": "2024-01-21T11:25:56.807252957Z",
     "start_time": "2024-01-21T11:25:56.802743341Z"
    }
   },
   "source": [
    "df_y = df.drop(labels=labels, axis=1)\n",
    "df_y"
   ],
   "outputs": []
  },
  {
   "cell_type": "code",
   "execution_count": 10,
   "metadata": {
    "ExecuteTime": {
     "end_time": "2024-01-21T11:25:58.439010563Z",
     "start_time": "2024-01-21T11:25:58.438772056Z"
    }
   },
   "source": [
    "df_x = np.reshape(df_x.to_numpy(), (-1, 1, 24, 28))\n",
    "df_x.shape"
   ],
   "outputs": []
  },
  {
   "cell_type": "code",
   "execution_count": 11,
   "metadata": {
    "ExecuteTime": {
     "end_time": "2024-01-21T11:26:01.804652343Z",
     "start_time": "2024-01-21T11:26:01.803288489Z"
    }
   },
   "source": [
    "df_y = df_y.to_numpy()\n",
    "df_y"
   ],
   "outputs": []
  },
  {
   "cell_type": "code",
   "execution_count": 12,
   "metadata": {
    "ExecuteTime": {
     "end_time": "2024-01-21T11:26:03.997185951Z",
     "start_time": "2024-01-21T11:26:03.891921231Z"
    }
   },
   "source": [
    "train_x, test_x, train_y, test_y = train_test_split(df_x, df_y, train_size=0.9)\n",
    "\n",
    "train_x, valid_x, train_y, valid_y = train_test_split(train_x,\n",
    "                                                    train_y,\n",
    "                                                    test_size=0.33)"
   ],
   "outputs": []
  },
  {
   "cell_type": "code",
   "execution_count": 13,
   "metadata": {
    "ExecuteTime": {
     "end_time": "2024-01-21T11:26:05.753602433Z",
     "start_time": "2024-01-21T11:26:05.753348280Z"
    }
   },
   "source": [
    "print(train_x.shape), print(train_y.shape)\n",
    "print(valid_x.shape), print(valid_y.shape)\n",
    "print(test_x.shape), print(test_y.shape)"
   ],
   "outputs": []
  },
  {
   "cell_type": "code",
   "execution_count": 14,
   "metadata": {
    "ExecuteTime": {
     "end_time": "2024-01-21T11:26:05.830714239Z",
     "start_time": "2024-01-21T11:26:05.757394960Z"
    }
   },
   "source": [
    "train_x = torch.tensor(train_x).float()\n",
    "train_y = torch.tensor(train_y).float()\n",
    "valid_x = torch.tensor(valid_x).float()\n",
    "valid_y = torch.tensor(valid_y).float()\n",
    "test_x = torch.tensor(test_x).float()\n",
    "test_y = torch.tensor(test_y).float()"
   ],
   "outputs": []
  },
  {
   "cell_type": "markdown",
   "metadata": {},
   "source": [
    "# CNN"
   ]
  },
  {
   "cell_type": "code",
   "execution_count": 15,
   "metadata": {
    "ExecuteTime": {
     "end_time": "2024-01-21T11:26:07.297595664Z",
     "start_time": "2024-01-21T11:26:07.281495102Z"
    }
   },
   "source": [
    "lr = 1e-3\n",
    "batch_size = 64\n",
    "max_epoch = 30"
   ],
   "outputs": []
  },
  {
   "cell_type": "code",
   "execution_count": 16,
   "metadata": {
    "ExecuteTime": {
     "end_time": "2024-01-21T11:26:07.298019133Z",
     "start_time": "2024-01-21T11:26:07.295214286Z"
    }
   },
   "source": [
    "class Model(nn.Module):\n",
    "    def __init__(self):\n",
    "        super(Model, self).__init__()\n",
    "        self.conv_1 = nn.Conv2d(1, 32, 7)\n",
    "        self.max_pool_1 = nn.MaxPool2d(2, stride=2)\n",
    "        self.conv_2 = nn.Conv2d(32, 64, 3)\n",
    "        self.max_pool_2 = nn.MaxPool2d(2, stride=2)\n",
    "        self.hidden_1 = nn.Linear(768, 128)\n",
    "        self.hidden_2 = nn.Linear(128, 64)\n",
    "        self.hidden_3 = nn.Linear(64, 64)\n",
    "        self.hidden_4 = nn.Linear(64, 64)\n",
    "        self.output = nn.Linear(64, 6)\n",
    "\n",
    "    def forward(self, x):\n",
    "        x = torch.relu(self.conv_1(x))\n",
    "        x = self.max_pool_1(x)\n",
    "        x = torch.relu(self.conv_2(x))\n",
    "        x = self.max_pool_2(x)\n",
    "        x = torch.reshape(x, (x.shape[0], 768))\n",
    "        x = torch.relu(self.hidden_1(x))\n",
    "        x = torch.relu(self.hidden_2(x))\n",
    "        x = torch.relu(self.hidden_3(x))\n",
    "        x = torch.relu(self.hidden_4(x))\n",
    "        output = self.output(x)\n",
    "        return output"
   ],
   "outputs": []
  },
  {
   "cell_type": "code",
   "execution_count": 17,
   "metadata": {
    "ExecuteTime": {
     "end_time": "2024-01-21T11:26:08.081427280Z",
     "start_time": "2024-01-21T11:26:07.858387301Z"
    }
   },
   "source": [
    "model = Model()\n",
    "model"
   ],
   "outputs": []
  },
  {
   "cell_type": "code",
   "execution_count": 18,
   "metadata": {
    "ExecuteTime": {
     "end_time": "2024-01-21T11:26:09.992320013Z",
     "start_time": "2024-01-21T11:26:08.901408480Z"
    }
   },
   "source": [
    "loss_function = nn.MSELoss()\n",
    "optimizer = torch.optim.Adam(model.parameters(), lr=lr)"
   ],
   "outputs": []
  },
  {
   "cell_type": "code",
   "execution_count": 19,
   "metadata": {
    "ExecuteTime": {
     "end_time": "2024-01-21T11:26:10.681196638Z",
     "start_time": "2024-01-21T11:26:10.663450399Z"
    }
   },
   "source": [
    "# init weights\n",
    "def init_weights(model) -> None:\n",
    "    if isinstance(model, nn.Linear):\n",
    "        torch.nn.init.xavier_uniform_(model.weight)\n",
    "        model.bias.data.fill_(0.1)\n",
    "\n",
    "model.apply(init_weights)\n",
    "\n",
    "# if torch.cuda.is_available():\n",
    "#     model = model.cuda()\n",
    "\n",
    "#     train_x = train_x.cuda()\n",
    "#     train_y = train_y.cuda()\n",
    "#     valid_x = valid_x.cuda()\n",
    "#     valid_y = valid_y.cuda()\n",
    "#     test_x = test_x.cuda()\n",
    "#     test_y = test_y.cuda()"
   ],
   "outputs": []
  },
  {
   "cell_type": "code",
   "execution_count": 20,
   "metadata": {
    "ExecuteTime": {
     "end_time": "2024-01-21T11:26:24.305309540Z",
     "start_time": "2024-01-21T11:26:12.347463383Z"
    }
   },
   "source": [
    "losses_train = []\n",
    "losses_valid = []\n",
    "\n",
    "for epoch in range(max_epoch):\n",
    "    train_loss = 0.0\n",
    "    for i in range(0, train_x.size()[0], batch_size):\n",
    "        data = train_x[i:i + batch_size]\n",
    "        target = train_y[i:i + batch_size]\n",
    "\n",
    "        optimizer.zero_grad()\n",
    "        prediction = model(data)\n",
    "        loss = loss_function(prediction, target)\n",
    "        loss.backward()\n",
    "        optimizer.step()\n",
    "\n",
    "        train_loss += loss.item()\n",
    "\n",
    "    valid_loss = 0.0\n",
    "    for i in range(0, valid_x.size()[0], batch_size):\n",
    "        data = valid_x[i:i + batch_size]\n",
    "        target = valid_y[i:i + batch_size]\n",
    "\n",
    "        prediction = model(data)\n",
    "        loss = loss_function(prediction, target)\n",
    "        valid_loss += loss.item()\n",
    "\n",
    "    # if (epoch) % 10 == 0:\n",
    "    print(\n",
    "        f'Epoch {epoch} \\t\\t Training Loss: {train_loss / len(train_x)} \\t\\t Validation Loss: {valid_loss / len(valid_x)}'\n",
    "    )\n",
    "    \n",
    "    if (epoch > 0 and valid_loss / len(valid_x)  < min(losses_valid)):\n",
    "        torch.save(model.state_dict(), \n",
    "           \"../logs/weights_model_03/model_state_adam_01.pt\")\n",
    "        print(\"Save model\")\n",
    "        \n",
    "    \n",
    "    losses_train.append(train_loss / len(train_x))\n",
    "    losses_valid.append(valid_loss / len(valid_x))"
   ],
   "outputs": []
  },
  {
   "cell_type": "code",
   "execution_count": 113,
   "metadata": {},
   "source": [
    "# torch.save(model.state_dict(), \n",
    "        #    \"../logs/weights_model_03/model_state_rmsprop.pt\")"
   ],
   "outputs": []
  },
  {
   "cell_type": "code",
   "execution_count": 21,
   "metadata": {
    "ExecuteTime": {
     "end_time": "2024-01-21T11:26:48.918358720Z",
     "start_time": "2024-01-21T11:26:48.855018451Z"
    }
   },
   "source": [
    "losses = pd.DataFrame([losses_train, losses_valid],\n",
    "                      index=[\"Train loss\", \"Valid loss\"]).T\n",
    "losses"
   ],
   "outputs": []
  },
  {
   "cell_type": "code",
   "execution_count": 22,
   "metadata": {
    "ExecuteTime": {
     "end_time": "2024-01-21T11:26:53.156791623Z",
     "start_time": "2024-01-21T11:26:52.611843430Z"
    }
   },
   "source": [
    "ax = losses.plot(colormap=\"brg\")\n",
    "ax.set_xlabel(\"Номер эпохи\")\n",
    "ax.set_ylabel(\"Значение функции потерь\")"
   ],
   "outputs": []
  },
  {
   "cell_type": "code",
   "execution_count": 17,
   "metadata": {
    "ExecuteTime": {
     "end_time": "2024-01-22T17:13:20.873148383Z",
     "start_time": "2024-01-22T17:13:20.441382065Z"
    }
   },
   "source": [
    "# Генерируем выборку с распределением Рэлея\n",
    "sample_size = 8000\n",
    "scale_parameter = 0.15\n",
    "rayleigh_sample = np.random.rayleigh(scale_parameter, sample_size)\n",
    "\n",
    "# Визуализация выборки\n",
    "plt.hist(rayleigh_sample, bins=50, density=True, alpha=0.7, color='b', edgecolor='black')\n",
    "plt.title('Распределение угла')\n",
    "plt.xlabel('Угол, радианы')\n",
    "plt.ylabel('Плотность распределения')\n",
    "plt.show()"
   ],
   "outputs": []
  },
  {
   "cell_type": "code",
   "source": [
    "rayleigh_sample.mean()"
   ],
   "metadata": {
    "collapsed": false,
    "ExecuteTime": {
     "end_time": "2024-01-22T17:13:39.406864025Z",
     "start_time": "2024-01-22T17:13:39.368117934Z"
    }
   },
   "execution_count": 18,
   "outputs": []
  },
  {
   "cell_type": "code",
   "source": [
    "rayleigh_sample.std()"
   ],
   "metadata": {
    "collapsed": false,
    "ExecuteTime": {
     "end_time": "2024-01-22T17:13:41.253462523Z",
     "start_time": "2024-01-22T17:13:41.219955339Z"
    }
   },
   "execution_count": 19,
   "outputs": []
  },
  {
   "cell_type": "code",
   "source": [
    "np.quantile(rayleigh_sample, 0.68)"
   ],
   "metadata": {
    "collapsed": false,
    "ExecuteTime": {
     "end_time": "2024-01-22T17:13:43.240627454Z",
     "start_time": "2024-01-22T17:13:43.208561737Z"
    }
   },
   "execution_count": 20,
   "outputs": []
  },
  {
   "cell_type": "code",
   "source": [],
   "metadata": {
    "collapsed": false
   },
   "execution_count": null,
   "outputs": []
  },
  {
   "cell_type": "code",
   "source": [
    "import numpy as np\n",
    "import matplotlib.pyplot as plt\n",
    "\n",
    "# Задаем несколько параметров масштаба\n",
    "scale_parameters = 0.14\n",
    "\n",
    "# Генерируем выборки с разными параметрами масштаба\n",
    "sample_size = 8000\n",
    "rayleigh_samples = np.random.rayleigh(scale_parameters, sample_size)\n",
    "\n",
    "# Визуализация выборок\n",
    "plt.hist(rayleigh_samples, bins=50, density=True, alpha=0.5, label=f'Распределение Рэлея')\n",
    "plt.hist(rayleigh_sample, bins=50, density=True, alpha=0.5, label=f'Угловое распределение')\n",
    "\n",
    "plt.title('Сравнение распределений')\n",
    "plt.xlabel('Угол, радианы')\n",
    "plt.ylabel('Плотность распределения')\n",
    "plt.legend()\n",
    "plt.show()"
   ],
   "metadata": {
    "collapsed": false,
    "ExecuteTime": {
     "end_time": "2024-01-22T17:06:50.296026270Z",
     "start_time": "2024-01-22T17:06:49.872697967Z"
    }
   },
   "execution_count": 5,
   "outputs": []
  },
  {
   "cell_type": "code",
   "source": [
    "plt.boxplot([rayleigh_sample, rayleigh_samples], labels=[f'Угловое распределение', f'Распределение Рэлея'])\n",
    "\n",
    "plt.title('Сравнение распределений')\n",
    "plt.ylabel('Уголовое распределение, радианы')\n",
    "plt.legend()\n",
    "plt.show()"
   ],
   "metadata": {
    "collapsed": false,
    "ExecuteTime": {
     "end_time": "2024-01-21T12:19:31.837393161Z",
     "start_time": "2024-01-21T12:19:31.576621991Z"
    }
   },
   "execution_count": 27,
   "outputs": []
  },
  {
   "cell_type": "code",
   "source": [],
   "metadata": {
    "collapsed": false
   },
   "execution_count": null,
   "outputs": []
  }
 ],
 "metadata": {
  "kernelspec": {
   "display_name": "Python 3 (ipykernel)",
   "language": "python",
   "name": "python3"
  },
  "language_info": {
   "codemirror_mode": {
    "name": "ipython",
    "version": 3
   },
   "file_extension": ".py",
   "mimetype": "text/x-python",
   "name": "python",
   "nbconvert_exporter": "python",
   "pygments_lexer": "ipython3",
   "version": "3.9.16"
  }
 },
 "nbformat": 4,
 "nbformat_minor": 2
}
