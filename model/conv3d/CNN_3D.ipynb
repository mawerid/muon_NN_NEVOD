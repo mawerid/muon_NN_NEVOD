{
 "cells": [
  {
   "cell_type": "code",
   "source": [
    "import torch\n",
    "import torch.nn as nn\n",
    "from torchsummary import summary"
   ],
   "metadata": {
    "collapsed": false,
    "ExecuteTime": {
     "end_time": "2024-01-21T09:25:35.202589655Z",
     "start_time": "2024-01-21T09:25:35.180352848Z"
    }
   },
   "id": "70d78a8e0aeb5a1d",
   "execution_count": 3,
   "outputs": []
  },
  {
   "cell_type": "code",
   "source": [
    "class Regression3DConvNet(nn.Module):\n",
    "    def __init__(self):\n",
    "        super(Regression3DConvNet, self).__init__()\n",
    "\n",
    "        # 3D Convolutional Layers\n",
    "        self.conv1 = nn.Conv3d(1, 32, kernel_size=3, padding=1)\n",
    "        self.conv2 = nn.Conv3d(32, 64, kernel_size=3, padding=1)\n",
    "        self.conv3 = nn.Conv3d(64, 128, kernel_size=3, padding=1)\n",
    "        self.conv4 = nn.Conv3d(128, 256, kernel_size=3, padding=1)\n",
    "        self.conv5 = nn.Conv3d(256, 512, kernel_size=3, padding=1)\n",
    "\n",
    "        # Fully Connected Layers\n",
    "        self.fc1 = nn.Linear(512 * 14 * 12 * 4, 512)\n",
    "        self.fc2 = nn.Linear(512, 256)\n",
    "        self.fc3 = nn.Linear(256, 6)  # Output size is 6 for regression task\n",
    "\n",
    "    def forward(self, x):\n",
    "        # Input: (batch_size, channels, depth, height, width)\n",
    "        x = self.conv1(x)\n",
    "        x = nn.functional.relu(x)\n",
    "        x = nn.functional.max_pool3d(x, kernel_size=2, stride=2)\n",
    "\n",
    "        x = self.conv2(x)\n",
    "        x = nn.functional.relu(x)\n",
    "        x = nn.functional.max_pool3d(x, kernel_size=2, stride=2)\n",
    "\n",
    "        x = self.conv3(x)\n",
    "        x = nn.functional.relu(x)\n",
    "        x = nn.functional.max_pool3d(x, kernel_size=2, stride=2)\n",
    "\n",
    "        x = self.conv4(x)\n",
    "        x = nn.functional.relu(x)\n",
    "        x = nn.functional.max_pool3d(x, kernel_size=2, stride=2)\n",
    "\n",
    "        x = self.conv5(x)\n",
    "        x = nn.functional.relu(x)\n",
    "        x = nn.functional.max_pool3d(x, kernel_size=2, stride=2)\n",
    "\n",
    "        # Flatten before passing through fully connected layers\n",
    "        x = x.view(x.size(0), -1)\n",
    "\n",
    "        x = self.fc1(x)\n",
    "        x = nn.functional.relu(x)\n",
    "\n",
    "        x = self.fc2(x)\n",
    "        x = nn.functional.relu(x)\n",
    "\n",
    "        x = self.fc3(x)\n",
    "\n",
    "        return x"
   ],
   "metadata": {
    "collapsed": true,
    "ExecuteTime": {
     "end_time": "2024-01-21T09:13:54.145263525Z",
     "start_time": "2024-01-21T09:13:54.127310816Z"
    }
   },
   "id": "initial_id",
   "execution_count": 6,
   "outputs": []
  },
  {
   "cell_type": "code",
   "source": [
    "# Instantiate the model\n",
    "model = Regression3DConvNet()"
   ],
   "metadata": {
    "collapsed": false,
    "ExecuteTime": {
     "end_time": "2024-01-21T09:15:02.135149047Z",
     "start_time": "2024-01-21T09:13:54.738090175Z"
    }
   },
   "id": "5743c954a8b95da0",
   "execution_count": 7,
   "outputs": []
  },
  {
   "cell_type": "markdown",
   "source": [],
   "metadata": {
    "collapsed": false
   },
   "id": "4cbfb0b8de997de5"
  },
  {
   "cell_type": "code",
   "source": [
    "# Print the model architecture\n",
    "summary(model, input_size=(1, 14, 12, 4))"
   ],
   "metadata": {
    "collapsed": false,
    "ExecuteTime": {
     "end_time": "2024-01-21T09:15:38.538170712Z",
     "start_time": "2024-01-21T09:15:36.128093569Z"
    }
   },
   "id": "8d578994547a3a08",
   "execution_count": 8,
   "outputs": []
  },
  {
   "cell_type": "code",
   "source": [
    "import torch\n",
    "import torch.nn as nn\n",
    "from torchviz import make_dot\n",
    "\n",
    "\n",
    "class RegressionNetwork(nn.Module):\n",
    "    def __init__(self):\n",
    "        super(RegressionNetwork, self).__init__()\n",
    "\n",
    "        # 3D Convolutional Layers\n",
    "        self.conv1 = nn.Conv3d(1, 32, kernel_size=3, stride=1, padding=1)\n",
    "        self.conv2 = nn.Conv3d(32, 64, kernel_size=3, stride=1, padding=1)\n",
    "        self.conv3 = nn.Conv3d(64, 128, kernel_size=3, stride=1, padding=1)\n",
    "        self.conv4 = nn.Conv3d(128, 256, kernel_size=3, stride=1, padding=1)\n",
    "        self.conv5 = nn.Conv3d(256, 512, kernel_size=3, stride=1, padding=1)\n",
    "\n",
    "        # Fully connected layers\n",
    "        self.fc1 = nn.Linear(14 * 12 * 4 * 512, 1024)\n",
    "        self.fc2 = nn.Linear(1024, 256)\n",
    "        self.fc3 = nn.Linear(256, 6)  # Output has 6 dimensions for regression task\n",
    "\n",
    "    def forward(self, x):\n",
    "        # Input shape: (batch_size, 1, 14, 12, 4)\n",
    "\n",
    "        # Apply 3D convolutions\n",
    "        x = torch.relu(self.conv1(x))\n",
    "        x = torch.relu(self.conv2(x))\n",
    "        x = torch.relu(self.conv3(x))\n",
    "        x = torch.relu(self.conv4(x))\n",
    "        x = torch.relu(self.conv5(x))\n",
    "\n",
    "        # Reshape for fully connected layers\n",
    "        x = x.view(-1, 14 * 12 * 4 * 512)\n",
    "\n",
    "        # Apply fully connected layers\n",
    "        x = torch.relu(self.fc1(x))\n",
    "        x = torch.relu(self.fc2(x))\n",
    "        x = self.fc3(x)\n",
    "\n",
    "        return x\n",
    "\n",
    "\n",
    "# Create an instance of the model\n",
    "model = RegressionNetwork()\n",
    "\n",
    "# Define dummy input\n",
    "dummy_input = torch.randn(1, 1, 14, 12, 4)\n",
    "\n",
    "# Visualize the architecture\n",
    "output = model(dummy_input)\n",
    "\n",
    "# vis_graph = make_dot(output, params=dict(model.named_parameters()))\n",
    "# vis_graph.render(\"3DConvRegressionNetwork\", format=\"png\", cleanup=True)"
   ],
   "metadata": {
    "collapsed": false,
    "ExecuteTime": {
     "end_time": "2024-01-21T09:23:19.198100265Z",
     "start_time": "2024-01-21T09:21:51.492369291Z"
    }
   },
   "id": "37049516d0be5a55",
   "execution_count": 1,
   "outputs": []
  },
  {
   "cell_type": "code",
   "source": [
    "summary(model, input_size=(1, 14, 12, 4))"
   ],
   "metadata": {
    "collapsed": false,
    "ExecuteTime": {
     "end_time": "2024-01-21T09:25:51.187412586Z",
     "start_time": "2024-01-21T09:25:50.889299401Z"
    }
   },
   "id": "4a207ba83d84ed50",
   "execution_count": 5,
   "outputs": []
  },
  {
   "cell_type": "code",
   "source": [
    "import numpy as np\n",
    "import matplotlib.pyplot as plt\n",
    "\n",
    "# Задаем несколько параметров масштаба\n",
    "scale_param = 0.144 * 180 / np.pi\n",
    "\n",
    "# Генерируем выборки с разными параметрами масштаба\n",
    "sample_size = 8000\n",
    "rayleigh_samples = np.random.rayleigh(scale_param, sample_size)  #+ np.random.normal(scale=1.0, size=sample_size)\n",
    "\n",
    "# rayleigh_samples = np.random.normal(scale=0.5, size=sample_size)\n",
    "\n",
    "# Визуализация выборок\n",
    "plt.hist(rayleigh_samples, bins=50, density=True, alpha=0.7, color='b', edgecolor='black')\n",
    "\n",
    "plt.title('Распределение угла')\n",
    "plt.xlabel('Угол, градусы')\n",
    "plt.ylabel('Плотность распределения')\n",
    "plt.show()\n"
   ],
   "metadata": {
    "collapsed": false,
    "ExecuteTime": {
     "end_time": "2024-02-15T19:39:12.476799030Z",
     "start_time": "2024-02-15T19:39:12.307247596Z"
    }
   },
   "id": "6eed8c61cf7a8f4b",
   "execution_count": 38,
   "outputs": []
  },
  {
   "cell_type": "code",
   "source": [
    "rayleigh_samples.mean()"
   ],
   "metadata": {
    "collapsed": false,
    "ExecuteTime": {
     "end_time": "2024-02-15T19:39:34.672981117Z",
     "start_time": "2024-02-15T19:39:34.631833430Z"
    }
   },
   "id": "e8536c421d33acf",
   "execution_count": 39,
   "outputs": []
  },
  {
   "cell_type": "code",
   "source": [
    "rayleigh_samples.std()"
   ],
   "metadata": {
    "collapsed": false,
    "ExecuteTime": {
     "end_time": "2024-02-15T19:39:44.210170378Z",
     "start_time": "2024-02-15T19:39:44.199536331Z"
    }
   },
   "id": "684a29c3e03f6f88",
   "execution_count": 40,
   "outputs": []
  },
  {
   "cell_type": "code",
   "source": [
    "samples = rayleigh_samples\n",
    "while np.abs(samples.mean() - 10.3) > 0.03 and np.abs(samples.std() - 4.6) > 0.03:\n",
    "    samples = np.random.rayleigh(scale_param, sample_size)"
   ],
   "metadata": {
    "collapsed": false,
    "ExecuteTime": {
     "end_time": "2024-02-15T19:44:20.358748447Z",
     "start_time": "2024-02-15T19:44:20.354660259Z"
    }
   },
   "id": "b472b9aacc7ecd5e",
   "execution_count": 66,
   "outputs": []
  },
  {
   "cell_type": "code",
   "source": [
    "# Визуализация выборок\n",
    "plt.hist(samples, bins=50, density=True, alpha=0.7, color='b', edgecolor='black')\n",
    "\n",
    "plt.title('Распределение угла')\n",
    "plt.xlabel('Угол, градусы')\n",
    "plt.ylabel('Плотность распределения')\n",
    "plt.show()"
   ],
   "metadata": {
    "collapsed": false,
    "ExecuteTime": {
     "end_time": "2024-02-15T19:44:21.221613711Z",
     "start_time": "2024-02-15T19:44:21.116015250Z"
    }
   },
   "id": "b694b601de2f6b41",
   "execution_count": 67,
   "outputs": []
  },
  {
   "cell_type": "code",
   "source": [],
   "metadata": {
    "collapsed": false
   },
   "id": "339c399ab595223",
   "execution_count": null,
   "outputs": []
  }
 ],
 "metadata": {
  "kernelspec": {
   "display_name": "Python 3",
   "language": "python",
   "name": "python3"
  },
  "language_info": {
   "codemirror_mode": {
    "name": "ipython",
    "version": 2
   },
   "file_extension": ".py",
   "mimetype": "text/x-python",
   "name": "python",
   "nbconvert_exporter": "python",
   "pygments_lexer": "ipython2",
   "version": "2.7.6"
  }
 },
 "nbformat": 4,
 "nbformat_minor": 5
}
