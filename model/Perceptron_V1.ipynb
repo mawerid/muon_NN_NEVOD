{
 "cells": [
  {
   "cell_type": "markdown",
   "id": "04033266",
   "metadata": {},
   "source": [
    "# Import libraries"
   ]
  },
  {
   "cell_type": "code",
   "execution_count": 13,
   "id": "06703ff8",
   "metadata": {
    "ExecuteTime": {
     "end_time": "2022-12-25T05:39:36.857397Z",
     "start_time": "2022-12-25T05:39:36.854112Z"
    }
   },
   "outputs": [
    {
     "ename": "ModuleNotFoundError",
     "evalue": "No module named 'google.protobuf'",
     "output_type": "error",
     "traceback": [
      "\u001b[0;31m---------------------------------------------------------------------------\u001b[0m",
      "\u001b[0;31mModuleNotFoundError\u001b[0m                       Traceback (most recent call last)",
      "\u001b[0;32m/tmp/ipykernel_97733/681221519.py\u001b[0m in \u001b[0;36m<module>\u001b[0;34m\u001b[0m\n\u001b[1;32m      4\u001b[0m \u001b[0;32mimport\u001b[0m \u001b[0mseaborn\u001b[0m \u001b[0;32mas\u001b[0m \u001b[0msb\u001b[0m\u001b[0;34m\u001b[0m\u001b[0;34m\u001b[0m\u001b[0m\n\u001b[1;32m      5\u001b[0m \u001b[0;32mfrom\u001b[0m \u001b[0msklearn\u001b[0m\u001b[0;34m.\u001b[0m\u001b[0mmodel_selection\u001b[0m \u001b[0;32mimport\u001b[0m \u001b[0mtrain_test_split\u001b[0m\u001b[0;34m\u001b[0m\u001b[0;34m\u001b[0m\u001b[0m\n\u001b[0;32m----> 6\u001b[0;31m \u001b[0;32mimport\u001b[0m \u001b[0mtensorflow\u001b[0m \u001b[0;32mas\u001b[0m \u001b[0mtf\u001b[0m\u001b[0;34m\u001b[0m\u001b[0;34m\u001b[0m\u001b[0m\n\u001b[0m\u001b[1;32m      7\u001b[0m \u001b[0;32mimport\u001b[0m \u001b[0mtensorflow\u001b[0m\u001b[0;34m.\u001b[0m\u001b[0mkeras\u001b[0m \u001b[0;32mas\u001b[0m \u001b[0mkeras\u001b[0m\u001b[0;34m\u001b[0m\u001b[0;34m\u001b[0m\u001b[0m\n\u001b[1;32m      8\u001b[0m \u001b[0;32mfrom\u001b[0m \u001b[0mtensorflow\u001b[0m\u001b[0;34m.\u001b[0m\u001b[0mkeras\u001b[0m \u001b[0;32mimport\u001b[0m \u001b[0mlayers\u001b[0m\u001b[0;34m\u001b[0m\u001b[0;34m\u001b[0m\u001b[0m\n",
      "\u001b[0;32m~/anaconda3/lib/python3.9/site-packages/tensorflow/__init__.py\u001b[0m in \u001b[0;36m<module>\u001b[0;34m\u001b[0m\n\u001b[1;32m     35\u001b[0m \u001b[0;32mimport\u001b[0m \u001b[0mtyping\u001b[0m \u001b[0;32mas\u001b[0m \u001b[0m_typing\u001b[0m\u001b[0;34m\u001b[0m\u001b[0;34m\u001b[0m\u001b[0m\n\u001b[1;32m     36\u001b[0m \u001b[0;34m\u001b[0m\u001b[0m\n\u001b[0;32m---> 37\u001b[0;31m \u001b[0;32mfrom\u001b[0m \u001b[0mtensorflow\u001b[0m\u001b[0;34m.\u001b[0m\u001b[0mpython\u001b[0m\u001b[0;34m.\u001b[0m\u001b[0mtools\u001b[0m \u001b[0;32mimport\u001b[0m \u001b[0mmodule_util\u001b[0m \u001b[0;32mas\u001b[0m \u001b[0m_module_util\u001b[0m\u001b[0;34m\u001b[0m\u001b[0;34m\u001b[0m\u001b[0m\n\u001b[0m\u001b[1;32m     38\u001b[0m \u001b[0;32mfrom\u001b[0m \u001b[0mtensorflow\u001b[0m\u001b[0;34m.\u001b[0m\u001b[0mpython\u001b[0m\u001b[0;34m.\u001b[0m\u001b[0mutil\u001b[0m\u001b[0;34m.\u001b[0m\u001b[0mlazy_loader\u001b[0m \u001b[0;32mimport\u001b[0m \u001b[0mLazyLoader\u001b[0m \u001b[0;32mas\u001b[0m \u001b[0m_LazyLoader\u001b[0m\u001b[0;34m\u001b[0m\u001b[0;34m\u001b[0m\u001b[0m\n\u001b[1;32m     39\u001b[0m \u001b[0;34m\u001b[0m\u001b[0m\n",
      "\u001b[0;32m~/anaconda3/lib/python3.9/site-packages/tensorflow/python/__init__.py\u001b[0m in \u001b[0;36m<module>\u001b[0;34m\u001b[0m\n\u001b[1;32m     35\u001b[0m \u001b[0;34m\u001b[0m\u001b[0m\n\u001b[1;32m     36\u001b[0m \u001b[0;32mfrom\u001b[0m \u001b[0mtensorflow\u001b[0m\u001b[0;34m.\u001b[0m\u001b[0mpython\u001b[0m \u001b[0;32mimport\u001b[0m \u001b[0mpywrap_tensorflow\u001b[0m \u001b[0;32mas\u001b[0m \u001b[0m_pywrap_tensorflow\u001b[0m\u001b[0;34m\u001b[0m\u001b[0;34m\u001b[0m\u001b[0m\n\u001b[0;32m---> 37\u001b[0;31m \u001b[0;32mfrom\u001b[0m \u001b[0mtensorflow\u001b[0m\u001b[0;34m.\u001b[0m\u001b[0mpython\u001b[0m\u001b[0;34m.\u001b[0m\u001b[0meager\u001b[0m \u001b[0;32mimport\u001b[0m \u001b[0mcontext\u001b[0m\u001b[0;34m\u001b[0m\u001b[0;34m\u001b[0m\u001b[0m\n\u001b[0m\u001b[1;32m     38\u001b[0m \u001b[0;34m\u001b[0m\u001b[0m\n\u001b[1;32m     39\u001b[0m \u001b[0;31m# pylint: enable=wildcard-import\u001b[0m\u001b[0;34m\u001b[0m\u001b[0;34m\u001b[0m\u001b[0m\n",
      "\u001b[0;32m~/anaconda3/lib/python3.9/site-packages/tensorflow/python/eager/context.py\u001b[0m in \u001b[0;36m<module>\u001b[0;34m\u001b[0m\n\u001b[1;32m     27\u001b[0m \u001b[0;32mimport\u001b[0m \u001b[0msix\u001b[0m\u001b[0;34m\u001b[0m\u001b[0;34m\u001b[0m\u001b[0m\n\u001b[1;32m     28\u001b[0m \u001b[0;34m\u001b[0m\u001b[0m\n\u001b[0;32m---> 29\u001b[0;31m \u001b[0;32mfrom\u001b[0m \u001b[0mtensorflow\u001b[0m\u001b[0;34m.\u001b[0m\u001b[0mcore\u001b[0m\u001b[0;34m.\u001b[0m\u001b[0mframework\u001b[0m \u001b[0;32mimport\u001b[0m \u001b[0mfunction_pb2\u001b[0m\u001b[0;34m\u001b[0m\u001b[0;34m\u001b[0m\u001b[0m\n\u001b[0m\u001b[1;32m     30\u001b[0m \u001b[0;32mfrom\u001b[0m \u001b[0mtensorflow\u001b[0m\u001b[0;34m.\u001b[0m\u001b[0mcore\u001b[0m\u001b[0;34m.\u001b[0m\u001b[0mprotobuf\u001b[0m \u001b[0;32mimport\u001b[0m \u001b[0mconfig_pb2\u001b[0m\u001b[0;34m\u001b[0m\u001b[0;34m\u001b[0m\u001b[0m\n\u001b[1;32m     31\u001b[0m \u001b[0;32mfrom\u001b[0m \u001b[0mtensorflow\u001b[0m\u001b[0;34m.\u001b[0m\u001b[0mcore\u001b[0m\u001b[0;34m.\u001b[0m\u001b[0mprotobuf\u001b[0m \u001b[0;32mimport\u001b[0m \u001b[0mcoordination_config_pb2\u001b[0m\u001b[0;34m\u001b[0m\u001b[0;34m\u001b[0m\u001b[0m\n",
      "\u001b[0;32m~/anaconda3/lib/python3.9/site-packages/tensorflow/core/framework/function_pb2.py\u001b[0m in \u001b[0;36m<module>\u001b[0;34m\u001b[0m\n\u001b[1;32m      5\u001b[0m \u001b[0;32mimport\u001b[0m \u001b[0msys\u001b[0m\u001b[0;34m\u001b[0m\u001b[0;34m\u001b[0m\u001b[0m\n\u001b[1;32m      6\u001b[0m \u001b[0m_b\u001b[0m\u001b[0;34m=\u001b[0m\u001b[0msys\u001b[0m\u001b[0;34m.\u001b[0m\u001b[0mversion_info\u001b[0m\u001b[0;34m[\u001b[0m\u001b[0;36m0\u001b[0m\u001b[0;34m]\u001b[0m\u001b[0;34m<\u001b[0m\u001b[0;36m3\u001b[0m \u001b[0;32mand\u001b[0m \u001b[0;34m(\u001b[0m\u001b[0;32mlambda\u001b[0m \u001b[0mx\u001b[0m\u001b[0;34m:\u001b[0m\u001b[0mx\u001b[0m\u001b[0;34m)\u001b[0m \u001b[0;32mor\u001b[0m \u001b[0;34m(\u001b[0m\u001b[0;32mlambda\u001b[0m \u001b[0mx\u001b[0m\u001b[0;34m:\u001b[0m\u001b[0mx\u001b[0m\u001b[0;34m.\u001b[0m\u001b[0mencode\u001b[0m\u001b[0;34m(\u001b[0m\u001b[0;34m'latin1'\u001b[0m\u001b[0;34m)\u001b[0m\u001b[0;34m)\u001b[0m\u001b[0;34m\u001b[0m\u001b[0;34m\u001b[0m\u001b[0m\n\u001b[0;32m----> 7\u001b[0;31m \u001b[0;32mfrom\u001b[0m \u001b[0mgoogle\u001b[0m\u001b[0;34m.\u001b[0m\u001b[0mprotobuf\u001b[0m \u001b[0;32mimport\u001b[0m \u001b[0mdescriptor\u001b[0m \u001b[0;32mas\u001b[0m \u001b[0m_descriptor\u001b[0m\u001b[0;34m\u001b[0m\u001b[0;34m\u001b[0m\u001b[0m\n\u001b[0m\u001b[1;32m      8\u001b[0m \u001b[0;32mfrom\u001b[0m \u001b[0mgoogle\u001b[0m\u001b[0;34m.\u001b[0m\u001b[0mprotobuf\u001b[0m \u001b[0;32mimport\u001b[0m \u001b[0mmessage\u001b[0m \u001b[0;32mas\u001b[0m \u001b[0m_message\u001b[0m\u001b[0;34m\u001b[0m\u001b[0;34m\u001b[0m\u001b[0m\n\u001b[1;32m      9\u001b[0m \u001b[0;32mfrom\u001b[0m \u001b[0mgoogle\u001b[0m\u001b[0;34m.\u001b[0m\u001b[0mprotobuf\u001b[0m \u001b[0;32mimport\u001b[0m \u001b[0mreflection\u001b[0m \u001b[0;32mas\u001b[0m \u001b[0m_reflection\u001b[0m\u001b[0;34m\u001b[0m\u001b[0;34m\u001b[0m\u001b[0m\n",
      "\u001b[0;31mModuleNotFoundError\u001b[0m: No module named 'google.protobuf'"
     ]
    }
   ],
   "source": [
    "import pandas as pd\n",
    "import numpy as np\n",
    "import matplotlib.pyplot as plt\n",
    "import seaborn as sb\n",
    "from sklearn.model_selection import train_test_split\n",
    "import tensorflow as tf\n",
    "import tensorflow.keras as keras\n",
    "from tensorflow.keras import layers\n",
    "from scipy import stats"
   ]
  },
  {
   "cell_type": "markdown",
   "id": "e17b0d23",
   "metadata": {},
   "source": [
    "# Prepare datasets"
   ]
  },
  {
   "cell_type": "code",
   "execution_count": 3,
   "id": "fda5702a",
   "metadata": {
    "ExecuteTime": {
     "end_time": "2022-12-25T05:39:38.425473Z",
     "start_time": "2022-12-25T05:39:38.233557Z"
    }
   },
   "outputs": [],
   "source": [
    "df_x = pd.read_csv('../data/dataset_01/data.csv')\n",
    "df_y = pd.read_csv('../data/dataset_01/answer.csv')"
   ]
  },
  {
   "cell_type": "code",
   "execution_count": 4,
   "id": "680e424b",
   "metadata": {
    "ExecuteTime": {
     "end_time": "2022-12-25T05:39:38.700352Z",
     "start_time": "2022-12-25T05:39:38.647263Z"
    }
   },
   "outputs": [
    {
     "data": {
      "text/html": [
       "<div>\n",
       "<style scoped>\n",
       "    .dataframe tbody tr th:only-of-type {\n",
       "        vertical-align: middle;\n",
       "    }\n",
       "\n",
       "    .dataframe tbody tr th {\n",
       "        vertical-align: top;\n",
       "    }\n",
       "\n",
       "    .dataframe thead th {\n",
       "        text-align: right;\n",
       "    }\n",
       "</style>\n",
       "<table border=\"1\" class=\"dataframe\">\n",
       "  <thead>\n",
       "    <tr style=\"text-align: right;\">\n",
       "      <th></th>\n",
       "      <th>0</th>\n",
       "      <th>1</th>\n",
       "      <th>2</th>\n",
       "      <th>3</th>\n",
       "      <th>4</th>\n",
       "      <th>5</th>\n",
       "      <th>6</th>\n",
       "      <th>7</th>\n",
       "      <th>8</th>\n",
       "      <th>9</th>\n",
       "      <th>...</th>\n",
       "      <th>662</th>\n",
       "      <th>663</th>\n",
       "      <th>664</th>\n",
       "      <th>665</th>\n",
       "      <th>666</th>\n",
       "      <th>667</th>\n",
       "      <th>668</th>\n",
       "      <th>669</th>\n",
       "      <th>670</th>\n",
       "      <th>671</th>\n",
       "    </tr>\n",
       "  </thead>\n",
       "  <tbody>\n",
       "    <tr>\n",
       "      <th>0</th>\n",
       "      <td>1.0</td>\n",
       "      <td>0.0</td>\n",
       "      <td>0.0</td>\n",
       "      <td>0.0</td>\n",
       "      <td>0.0</td>\n",
       "      <td>0.0</td>\n",
       "      <td>0.0</td>\n",
       "      <td>0.0</td>\n",
       "      <td>0.0</td>\n",
       "      <td>0.0</td>\n",
       "      <td>...</td>\n",
       "      <td>0.0</td>\n",
       "      <td>2.0</td>\n",
       "      <td>0.0</td>\n",
       "      <td>0.0</td>\n",
       "      <td>12.0</td>\n",
       "      <td>9.0</td>\n",
       "      <td>4.0</td>\n",
       "      <td>3.0</td>\n",
       "      <td>0.0</td>\n",
       "      <td>0.0</td>\n",
       "    </tr>\n",
       "    <tr>\n",
       "      <th>1</th>\n",
       "      <td>1.0</td>\n",
       "      <td>0.0</td>\n",
       "      <td>0.0</td>\n",
       "      <td>0.0</td>\n",
       "      <td>0.0</td>\n",
       "      <td>0.0</td>\n",
       "      <td>0.0</td>\n",
       "      <td>0.0</td>\n",
       "      <td>0.0</td>\n",
       "      <td>0.0</td>\n",
       "      <td>...</td>\n",
       "      <td>0.0</td>\n",
       "      <td>0.0</td>\n",
       "      <td>0.0</td>\n",
       "      <td>0.0</td>\n",
       "      <td>35.0</td>\n",
       "      <td>0.0</td>\n",
       "      <td>0.0</td>\n",
       "      <td>0.0</td>\n",
       "      <td>0.0</td>\n",
       "      <td>0.0</td>\n",
       "    </tr>\n",
       "    <tr>\n",
       "      <th>2</th>\n",
       "      <td>1.0</td>\n",
       "      <td>0.0</td>\n",
       "      <td>0.0</td>\n",
       "      <td>0.0</td>\n",
       "      <td>0.0</td>\n",
       "      <td>0.0</td>\n",
       "      <td>0.0</td>\n",
       "      <td>0.0</td>\n",
       "      <td>0.0</td>\n",
       "      <td>0.0</td>\n",
       "      <td>...</td>\n",
       "      <td>0.0</td>\n",
       "      <td>0.0</td>\n",
       "      <td>10.0</td>\n",
       "      <td>0.0</td>\n",
       "      <td>0.0</td>\n",
       "      <td>20.0</td>\n",
       "      <td>14.0</td>\n",
       "      <td>0.0</td>\n",
       "      <td>1.0</td>\n",
       "      <td>0.0</td>\n",
       "    </tr>\n",
       "    <tr>\n",
       "      <th>3</th>\n",
       "      <td>1.0</td>\n",
       "      <td>0.0</td>\n",
       "      <td>0.0</td>\n",
       "      <td>0.0</td>\n",
       "      <td>0.0</td>\n",
       "      <td>0.0</td>\n",
       "      <td>0.0</td>\n",
       "      <td>0.0</td>\n",
       "      <td>0.0</td>\n",
       "      <td>0.0</td>\n",
       "      <td>...</td>\n",
       "      <td>10.0</td>\n",
       "      <td>1.0</td>\n",
       "      <td>0.0</td>\n",
       "      <td>0.0</td>\n",
       "      <td>1.0</td>\n",
       "      <td>0.0</td>\n",
       "      <td>0.0</td>\n",
       "      <td>1.0</td>\n",
       "      <td>0.0</td>\n",
       "      <td>0.0</td>\n",
       "    </tr>\n",
       "    <tr>\n",
       "      <th>4</th>\n",
       "      <td>1.0</td>\n",
       "      <td>0.0</td>\n",
       "      <td>0.0</td>\n",
       "      <td>0.0</td>\n",
       "      <td>0.0</td>\n",
       "      <td>0.0</td>\n",
       "      <td>0.0</td>\n",
       "      <td>0.0</td>\n",
       "      <td>0.0</td>\n",
       "      <td>0.0</td>\n",
       "      <td>...</td>\n",
       "      <td>6.0</td>\n",
       "      <td>21.0</td>\n",
       "      <td>4.0</td>\n",
       "      <td>0.0</td>\n",
       "      <td>0.0</td>\n",
       "      <td>0.0</td>\n",
       "      <td>0.0</td>\n",
       "      <td>0.0</td>\n",
       "      <td>4.0</td>\n",
       "      <td>0.0</td>\n",
       "    </tr>\n",
       "    <tr>\n",
       "      <th>...</th>\n",
       "      <td>...</td>\n",
       "      <td>...</td>\n",
       "      <td>...</td>\n",
       "      <td>...</td>\n",
       "      <td>...</td>\n",
       "      <td>...</td>\n",
       "      <td>...</td>\n",
       "      <td>...</td>\n",
       "      <td>...</td>\n",
       "      <td>...</td>\n",
       "      <td>...</td>\n",
       "      <td>...</td>\n",
       "      <td>...</td>\n",
       "      <td>...</td>\n",
       "      <td>...</td>\n",
       "      <td>...</td>\n",
       "      <td>...</td>\n",
       "      <td>...</td>\n",
       "      <td>...</td>\n",
       "      <td>...</td>\n",
       "      <td>...</td>\n",
       "    </tr>\n",
       "    <tr>\n",
       "      <th>2495</th>\n",
       "      <td>1.0</td>\n",
       "      <td>0.0</td>\n",
       "      <td>0.0</td>\n",
       "      <td>0.0</td>\n",
       "      <td>0.0</td>\n",
       "      <td>0.0</td>\n",
       "      <td>0.0</td>\n",
       "      <td>0.0</td>\n",
       "      <td>0.0</td>\n",
       "      <td>0.0</td>\n",
       "      <td>...</td>\n",
       "      <td>0.0</td>\n",
       "      <td>0.0</td>\n",
       "      <td>18.0</td>\n",
       "      <td>0.0</td>\n",
       "      <td>6.0</td>\n",
       "      <td>0.0</td>\n",
       "      <td>12.0</td>\n",
       "      <td>0.0</td>\n",
       "      <td>0.0</td>\n",
       "      <td>0.0</td>\n",
       "    </tr>\n",
       "    <tr>\n",
       "      <th>2496</th>\n",
       "      <td>1.0</td>\n",
       "      <td>0.0</td>\n",
       "      <td>0.0</td>\n",
       "      <td>0.0</td>\n",
       "      <td>0.0</td>\n",
       "      <td>0.0</td>\n",
       "      <td>0.0</td>\n",
       "      <td>0.0</td>\n",
       "      <td>0.0</td>\n",
       "      <td>0.0</td>\n",
       "      <td>...</td>\n",
       "      <td>0.0</td>\n",
       "      <td>1.0</td>\n",
       "      <td>0.0</td>\n",
       "      <td>0.0</td>\n",
       "      <td>13.0</td>\n",
       "      <td>10.0</td>\n",
       "      <td>15.0</td>\n",
       "      <td>0.0</td>\n",
       "      <td>0.0</td>\n",
       "      <td>0.0</td>\n",
       "    </tr>\n",
       "    <tr>\n",
       "      <th>2497</th>\n",
       "      <td>1.0</td>\n",
       "      <td>0.0</td>\n",
       "      <td>0.0</td>\n",
       "      <td>0.0</td>\n",
       "      <td>0.0</td>\n",
       "      <td>0.0</td>\n",
       "      <td>0.0</td>\n",
       "      <td>0.0</td>\n",
       "      <td>0.0</td>\n",
       "      <td>0.0</td>\n",
       "      <td>...</td>\n",
       "      <td>13.0</td>\n",
       "      <td>0.0</td>\n",
       "      <td>4.0</td>\n",
       "      <td>0.0</td>\n",
       "      <td>4.0</td>\n",
       "      <td>5.0</td>\n",
       "      <td>0.0</td>\n",
       "      <td>0.0</td>\n",
       "      <td>11.0</td>\n",
       "      <td>7.0</td>\n",
       "    </tr>\n",
       "    <tr>\n",
       "      <th>2498</th>\n",
       "      <td>1.0</td>\n",
       "      <td>0.0</td>\n",
       "      <td>0.0</td>\n",
       "      <td>0.0</td>\n",
       "      <td>0.0</td>\n",
       "      <td>0.0</td>\n",
       "      <td>0.0</td>\n",
       "      <td>0.0</td>\n",
       "      <td>0.0</td>\n",
       "      <td>0.0</td>\n",
       "      <td>...</td>\n",
       "      <td>11.0</td>\n",
       "      <td>0.0</td>\n",
       "      <td>0.0</td>\n",
       "      <td>12.0</td>\n",
       "      <td>19.0</td>\n",
       "      <td>2.0</td>\n",
       "      <td>0.0</td>\n",
       "      <td>0.0</td>\n",
       "      <td>1.0</td>\n",
       "      <td>0.0</td>\n",
       "    </tr>\n",
       "    <tr>\n",
       "      <th>2499</th>\n",
       "      <td>1.0</td>\n",
       "      <td>0.0</td>\n",
       "      <td>0.0</td>\n",
       "      <td>0.0</td>\n",
       "      <td>0.0</td>\n",
       "      <td>0.0</td>\n",
       "      <td>0.0</td>\n",
       "      <td>0.0</td>\n",
       "      <td>0.0</td>\n",
       "      <td>0.0</td>\n",
       "      <td>...</td>\n",
       "      <td>2.0</td>\n",
       "      <td>0.0</td>\n",
       "      <td>0.0</td>\n",
       "      <td>0.0</td>\n",
       "      <td>58.0</td>\n",
       "      <td>0.0</td>\n",
       "      <td>0.0</td>\n",
       "      <td>7.0</td>\n",
       "      <td>0.0</td>\n",
       "      <td>0.0</td>\n",
       "    </tr>\n",
       "  </tbody>\n",
       "</table>\n",
       "<p>2500 rows × 672 columns</p>\n",
       "</div>"
      ],
      "text/plain": [
       "        0    1    2    3    4    5    6    7    8    9  ...   662   663   664  \\\n",
       "0     1.0  0.0  0.0  0.0  0.0  0.0  0.0  0.0  0.0  0.0  ...   0.0   2.0   0.0   \n",
       "1     1.0  0.0  0.0  0.0  0.0  0.0  0.0  0.0  0.0  0.0  ...   0.0   0.0   0.0   \n",
       "2     1.0  0.0  0.0  0.0  0.0  0.0  0.0  0.0  0.0  0.0  ...   0.0   0.0  10.0   \n",
       "3     1.0  0.0  0.0  0.0  0.0  0.0  0.0  0.0  0.0  0.0  ...  10.0   1.0   0.0   \n",
       "4     1.0  0.0  0.0  0.0  0.0  0.0  0.0  0.0  0.0  0.0  ...   6.0  21.0   4.0   \n",
       "...   ...  ...  ...  ...  ...  ...  ...  ...  ...  ...  ...   ...   ...   ...   \n",
       "2495  1.0  0.0  0.0  0.0  0.0  0.0  0.0  0.0  0.0  0.0  ...   0.0   0.0  18.0   \n",
       "2496  1.0  0.0  0.0  0.0  0.0  0.0  0.0  0.0  0.0  0.0  ...   0.0   1.0   0.0   \n",
       "2497  1.0  0.0  0.0  0.0  0.0  0.0  0.0  0.0  0.0  0.0  ...  13.0   0.0   4.0   \n",
       "2498  1.0  0.0  0.0  0.0  0.0  0.0  0.0  0.0  0.0  0.0  ...  11.0   0.0   0.0   \n",
       "2499  1.0  0.0  0.0  0.0  0.0  0.0  0.0  0.0  0.0  0.0  ...   2.0   0.0   0.0   \n",
       "\n",
       "       665   666   667   668  669   670  671  \n",
       "0      0.0  12.0   9.0   4.0  3.0   0.0  0.0  \n",
       "1      0.0  35.0   0.0   0.0  0.0   0.0  0.0  \n",
       "2      0.0   0.0  20.0  14.0  0.0   1.0  0.0  \n",
       "3      0.0   1.0   0.0   0.0  1.0   0.0  0.0  \n",
       "4      0.0   0.0   0.0   0.0  0.0   4.0  0.0  \n",
       "...    ...   ...   ...   ...  ...   ...  ...  \n",
       "2495   0.0   6.0   0.0  12.0  0.0   0.0  0.0  \n",
       "2496   0.0  13.0  10.0  15.0  0.0   0.0  0.0  \n",
       "2497   0.0   4.0   5.0   0.0  0.0  11.0  7.0  \n",
       "2498  12.0  19.0   2.0   0.0  0.0   1.0  0.0  \n",
       "2499   0.0  58.0   0.0   0.0  7.0   0.0  0.0  \n",
       "\n",
       "[2500 rows x 672 columns]"
      ]
     },
     "execution_count": 4,
     "metadata": {},
     "output_type": "execute_result"
    }
   ],
   "source": [
    "df_x"
   ]
  },
  {
   "cell_type": "code",
   "execution_count": 5,
   "id": "b0f35760",
   "metadata": {
    "ExecuteTime": {
     "end_time": "2022-12-25T05:39:39.371568Z",
     "start_time": "2022-12-25T05:39:39.358341Z"
    }
   },
   "outputs": [
    {
     "data": {
      "text/html": [
       "<div>\n",
       "<style scoped>\n",
       "    .dataframe tbody tr th:only-of-type {\n",
       "        vertical-align: middle;\n",
       "    }\n",
       "\n",
       "    .dataframe tbody tr th {\n",
       "        vertical-align: top;\n",
       "    }\n",
       "\n",
       "    .dataframe thead th {\n",
       "        text-align: right;\n",
       "    }\n",
       "</style>\n",
       "<table border=\"1\" class=\"dataframe\">\n",
       "  <thead>\n",
       "    <tr style=\"text-align: right;\">\n",
       "      <th></th>\n",
       "      <th>x1</th>\n",
       "      <th>y1</th>\n",
       "      <th>z1</th>\n",
       "      <th>x2</th>\n",
       "      <th>y2</th>\n",
       "      <th>z2</th>\n",
       "    </tr>\n",
       "  </thead>\n",
       "  <tbody>\n",
       "    <tr>\n",
       "      <th>0</th>\n",
       "      <td>1.62606</td>\n",
       "      <td>-0.801</td>\n",
       "      <td>4.74964</td>\n",
       "      <td>7.60840</td>\n",
       "      <td>26.812</td>\n",
       "      <td>2.75866</td>\n",
       "    </tr>\n",
       "    <tr>\n",
       "      <th>1</th>\n",
       "      <td>6.54501</td>\n",
       "      <td>-0.801</td>\n",
       "      <td>4.20302</td>\n",
       "      <td>2.13407</td>\n",
       "      <td>26.812</td>\n",
       "      <td>3.88737</td>\n",
       "    </tr>\n",
       "    <tr>\n",
       "      <th>2</th>\n",
       "      <td>3.46594</td>\n",
       "      <td>26.812</td>\n",
       "      <td>2.80550</td>\n",
       "      <td>5.76182</td>\n",
       "      <td>-0.801</td>\n",
       "      <td>2.63862</td>\n",
       "    </tr>\n",
       "    <tr>\n",
       "      <th>3</th>\n",
       "      <td>5.28630</td>\n",
       "      <td>-0.801</td>\n",
       "      <td>5.03381</td>\n",
       "      <td>7.38835</td>\n",
       "      <td>26.812</td>\n",
       "      <td>3.39033</td>\n",
       "    </tr>\n",
       "    <tr>\n",
       "      <th>4</th>\n",
       "      <td>2.71396</td>\n",
       "      <td>26.812</td>\n",
       "      <td>4.48287</td>\n",
       "      <td>2.39695</td>\n",
       "      <td>-0.801</td>\n",
       "      <td>2.70770</td>\n",
       "    </tr>\n",
       "    <tr>\n",
       "      <th>...</th>\n",
       "      <td>...</td>\n",
       "      <td>...</td>\n",
       "      <td>...</td>\n",
       "      <td>...</td>\n",
       "      <td>...</td>\n",
       "      <td>...</td>\n",
       "    </tr>\n",
       "    <tr>\n",
       "      <th>2495</th>\n",
       "      <td>7.75790</td>\n",
       "      <td>-0.801</td>\n",
       "      <td>4.62405</td>\n",
       "      <td>6.93627</td>\n",
       "      <td>26.812</td>\n",
       "      <td>2.88103</td>\n",
       "    </tr>\n",
       "    <tr>\n",
       "      <th>2496</th>\n",
       "      <td>5.54549</td>\n",
       "      <td>-0.801</td>\n",
       "      <td>4.11952</td>\n",
       "      <td>2.97840</td>\n",
       "      <td>26.812</td>\n",
       "      <td>3.58746</td>\n",
       "    </tr>\n",
       "    <tr>\n",
       "      <th>2497</th>\n",
       "      <td>5.59828</td>\n",
       "      <td>26.812</td>\n",
       "      <td>3.78629</td>\n",
       "      <td>2.16425</td>\n",
       "      <td>-0.801</td>\n",
       "      <td>3.33187</td>\n",
       "    </tr>\n",
       "    <tr>\n",
       "      <th>2498</th>\n",
       "      <td>6.80879</td>\n",
       "      <td>-0.801</td>\n",
       "      <td>5.00507</td>\n",
       "      <td>2.30580</td>\n",
       "      <td>26.812</td>\n",
       "      <td>2.72997</td>\n",
       "    </tr>\n",
       "    <tr>\n",
       "      <th>2499</th>\n",
       "      <td>5.87940</td>\n",
       "      <td>-0.801</td>\n",
       "      <td>4.52526</td>\n",
       "      <td>3.09200</td>\n",
       "      <td>26.812</td>\n",
       "      <td>2.80852</td>\n",
       "    </tr>\n",
       "  </tbody>\n",
       "</table>\n",
       "<p>2500 rows × 6 columns</p>\n",
       "</div>"
      ],
      "text/plain": [
       "           x1      y1       z1       x2      y2       z2\n",
       "0     1.62606  -0.801  4.74964  7.60840  26.812  2.75866\n",
       "1     6.54501  -0.801  4.20302  2.13407  26.812  3.88737\n",
       "2     3.46594  26.812  2.80550  5.76182  -0.801  2.63862\n",
       "3     5.28630  -0.801  5.03381  7.38835  26.812  3.39033\n",
       "4     2.71396  26.812  4.48287  2.39695  -0.801  2.70770\n",
       "...       ...     ...      ...      ...     ...      ...\n",
       "2495  7.75790  -0.801  4.62405  6.93627  26.812  2.88103\n",
       "2496  5.54549  -0.801  4.11952  2.97840  26.812  3.58746\n",
       "2497  5.59828  26.812  3.78629  2.16425  -0.801  3.33187\n",
       "2498  6.80879  -0.801  5.00507  2.30580  26.812  2.72997\n",
       "2499  5.87940  -0.801  4.52526  3.09200  26.812  2.80852\n",
       "\n",
       "[2500 rows x 6 columns]"
      ]
     },
     "execution_count": 5,
     "metadata": {},
     "output_type": "execute_result"
    }
   ],
   "source": [
    "df_y"
   ]
  },
  {
   "cell_type": "code",
   "execution_count": 6,
   "id": "4c66af5b",
   "metadata": {
    "ExecuteTime": {
     "end_time": "2022-12-25T05:39:41.330829Z",
     "start_time": "2022-12-25T05:39:41.318090Z"
    }
   },
   "outputs": [],
   "source": [
    "X_train, X_rem, y_train, y_rem = train_test_split(df_x, df_y, train_size=0.8)\n",
    "\n",
    "X_valid, X_test, y_valid, y_test = train_test_split(X_rem,\n",
    "                                                    y_rem,\n",
    "                                                    test_size=0.5)"
   ]
  },
  {
   "cell_type": "code",
   "execution_count": 7,
   "id": "abf6fa5e",
   "metadata": {
    "ExecuteTime": {
     "end_time": "2022-12-25T05:39:41.858911Z",
     "start_time": "2022-12-25T05:39:41.853734Z"
    }
   },
   "outputs": [
    {
     "name": "stdout",
     "output_type": "stream",
     "text": [
      "(2000, 672)\n",
      "(2000, 6)\n",
      "(250, 672)\n",
      "(250, 6)\n",
      "(250, 672)\n",
      "(250, 6)\n"
     ]
    },
    {
     "data": {
      "text/plain": [
       "(None, None)"
      ]
     },
     "execution_count": 7,
     "metadata": {},
     "output_type": "execute_result"
    }
   ],
   "source": [
    "print(X_train.shape), print(y_train.shape)\n",
    "print(X_valid.shape), print(y_valid.shape)\n",
    "print(X_test.shape), print(y_test.shape)"
   ]
  },
  {
   "cell_type": "markdown",
   "id": "62f9fb8f",
   "metadata": {},
   "source": [
    "# Some diagrams"
   ]
  },
  {
   "cell_type": "code",
   "execution_count": 8,
   "id": "822df70f",
   "metadata": {
    "ExecuteTime": {
     "end_time": "2022-12-25T05:39:43.755291Z",
     "start_time": "2022-12-25T05:39:43.351233Z"
    }
   },
   "outputs": [
    {
     "data": {
      "image/png": "[encoded data removed]",
      "text/plain": [
       "<Figure size 1500x1500 with 2 Axes>"
      ]
     },
     "metadata": {},
     "output_type": "display_data"
    }
   ],
   "source": [
    "# вышло бесполезно пока, но я попробовал\n",
    "c_mat = df_y.corr()\n",
    "fir = plt.figure(figsize=(15, 15))\n",
    "\n",
    "sb.heatmap(c_mat, vmax=.8, square=True)\n",
    "plt.show()"
   ]
  },
  {
   "cell_type": "markdown",
   "id": "8337480f",
   "metadata": {},
   "source": [
    "# First NN (preceptron)"
   ]
  },
  {
   "cell_type": "code",
   "execution_count": 78,
   "id": "53874284",
   "metadata": {
    "ExecuteTime": {
     "end_time": "2022-12-25T07:52:17.769692Z",
     "start_time": "2022-12-25T07:52:17.688179Z"
    }
   },
   "outputs": [],
   "source": [
    "model = keras.Sequential([\n",
    "    keras.Input(shape=(672, 1)),\n",
    "    layers.Flatten(),\n",
    "    layers.Dense(256, activation='relu'),\n",
    "    layers.Dense(128, activation='relu'),\n",
    "    layers.Dense(64, activation='relu'),\n",
    "    layers.Dense(64, activation='relu'),\n",
    "    layers.Dense(64, activation='relu'),\n",
    "    layers.Dense(64, activation='relu'),\n",
    "    layers.Dense(6, activation='linear'),\n",
    "])"
   ]
  },
  {
   "cell_type": "code",
   "execution_count": 70,
   "id": "7a0e3150",
   "metadata": {
    "ExecuteTime": {
     "end_time": "2022-12-25T07:51:58.783082Z",
     "start_time": "2022-12-25T07:51:58.759603Z"
    }
   },
   "outputs": [],
   "source": [
    "model.compile(optimizer=keras.optimizers.Adam(),\n",
    "              loss=keras.losses.MeanSquaredError(),\n",
    "              metrics=[keras.metrics.MeanSquaredError()])"
   ]
  },
  {
   "cell_type": "code",
   "execution_count": 71,
   "id": "4513a488",
   "metadata": {
    "ExecuteTime": {
     "end_time": "2022-12-25T07:52:00.303869Z",
     "start_time": "2022-12-25T07:52:00.299792Z"
    }
   },
   "outputs": [],
   "source": [
    "checkpoint_name = 'weights/Weights-{epoch:03d}--{val_loss:.5f}.hdf5'\n",
    "checkpoint = keras.callbacks.ModelCheckpoint(checkpoint_name,\n",
    "                                             monitor='val_loss',\n",
    "                                             verbose=1,\n",
    "                                             save_best_only=True,\n",
    "                                             mode='auto')\n",
    "callbacks_list = [checkpoint]"
   ]
  },
  {
   "cell_type": "code",
   "execution_count": 20,
   "id": "4e6c7a72",
   "metadata": {
    "ExecuteTime": {
     "end_time": "2022-12-24T05:02:23.841077Z",
     "start_time": "2022-12-24T05:02:20.047792Z"
    }
   },
   "outputs": [],
   "source": [
    "history = model.fit(X_train,\n",
    "                    y_train,\n",
    "                    batch_size=256,\n",
    "                    epochs=50,\n",
    "                    verbose=0,\n",
    "                    validation_data=(X_valid, y_valid))  # ,\n",
    "# callbacks=callbacks_list)"
   ]
  },
  {
   "cell_type": "code",
   "execution_count": 21,
   "id": "c131013b",
   "metadata": {
    "ExecuteTime": {
     "end_time": "2022-12-24T05:02:26.575207Z",
     "start_time": "2022-12-24T05:02:26.560030Z"
    },
    "collapsed": true
   },
   "outputs": [
    {
     "data": {
      "text/plain": [
       "{'loss': [120.64645385742188,\n",
       "  56.30782699584961,\n",
       "  33.256065368652344,\n",
       "  22.321170806884766,\n",
       "  15.127167701721191,\n",
       "  11.158048629760742,\n",
       "  8.743058204650879,\n",
       "  7.135004043579102,\n",
       "  6.226810455322266,\n",
       "  5.185906410217285,\n",
       "  4.448009967803955,\n",
       "  3.9322752952575684,\n",
       "  3.47953462600708,\n",
       "  3.103102684020996,\n",
       "  2.778594970703125,\n",
       "  2.566861391067505,\n",
       "  2.3594446182250977,\n",
       "  2.127051591873169,\n",
       "  1.9593608379364014,\n",
       "  1.8499882221221924,\n",
       "  1.7502447366714478,\n",
       "  1.736466407775879,\n",
       "  1.560158371925354,\n",
       "  1.4054943323135376,\n",
       "  1.2935701608657837,\n",
       "  1.1918413639068604,\n",
       "  1.108461856842041,\n",
       "  1.0786526203155518,\n",
       "  1.0308068990707397,\n",
       "  1.0177923440933228,\n",
       "  0.9003455638885498,\n",
       "  0.8260626196861267,\n",
       "  0.7301470041275024,\n",
       "  0.6920977830886841,\n",
       "  0.6650035381317139,\n",
       "  0.6306275725364685,\n",
       "  0.6014245748519897,\n",
       "  0.5285136699676514,\n",
       "  0.5550559759140015,\n",
       "  0.5754742622375488,\n",
       "  0.5519822239875793,\n",
       "  0.6084041595458984,\n",
       "  0.5384311676025391,\n",
       "  0.44857195019721985,\n",
       "  0.4062502384185791,\n",
       "  0.38644927740097046,\n",
       "  0.3500559329986572,\n",
       "  0.35262811183929443,\n",
       "  0.34967827796936035,\n",
       "  0.3605725169181824],\n",
       " 'mean_squared_error': [120.64645385742188,\n",
       "  56.30782699584961,\n",
       "  33.256065368652344,\n",
       "  22.321168899536133,\n",
       "  15.127167701721191,\n",
       "  11.158048629760742,\n",
       "  8.743058204650879,\n",
       "  7.135004043579102,\n",
       "  6.226810455322266,\n",
       "  5.185906410217285,\n",
       "  4.448009967803955,\n",
       "  3.9322752952575684,\n",
       "  3.47953462600708,\n",
       "  3.103102684020996,\n",
       "  2.778594970703125,\n",
       "  2.566861391067505,\n",
       "  2.3594446182250977,\n",
       "  2.127051591873169,\n",
       "  1.9593608379364014,\n",
       "  1.8499882221221924,\n",
       "  1.7502447366714478,\n",
       "  1.736466407775879,\n",
       "  1.560158371925354,\n",
       "  1.4054943323135376,\n",
       "  1.2935701608657837,\n",
       "  1.1918413639068604,\n",
       "  1.108461856842041,\n",
       "  1.0786526203155518,\n",
       "  1.0308068990707397,\n",
       "  1.0177923440933228,\n",
       "  0.9003455638885498,\n",
       "  0.8260626196861267,\n",
       "  0.7301470041275024,\n",
       "  0.6920977830886841,\n",
       "  0.6650035381317139,\n",
       "  0.6306275725364685,\n",
       "  0.6014245748519897,\n",
       "  0.5285136699676514,\n",
       "  0.5550559759140015,\n",
       "  0.5754742622375488,\n",
       "  0.5519822239875793,\n",
       "  0.6084041595458984,\n",
       "  0.5384311676025391,\n",
       "  0.44857195019721985,\n",
       "  0.4062502384185791,\n",
       "  0.38644927740097046,\n",
       "  0.3500559329986572,\n",
       "  0.35262811183929443,\n",
       "  0.34967827796936035,\n",
       "  0.3605725169181824],\n",
       " 'val_loss': [56.46902084350586,\n",
       "  35.36015701293945,\n",
       "  31.472993850708008,\n",
       "  25.21881675720215,\n",
       "  20.47102165222168,\n",
       "  19.10348892211914,\n",
       "  18.52971076965332,\n",
       "  17.50725746154785,\n",
       "  15.04313850402832,\n",
       "  15.51132583618164,\n",
       "  15.300108909606934,\n",
       "  13.972278594970703,\n",
       "  14.1371488571167,\n",
       "  13.305206298828125,\n",
       "  12.71243953704834,\n",
       "  12.552842140197754,\n",
       "  12.638833045959473,\n",
       "  12.115799903869629,\n",
       "  12.162726402282715,\n",
       "  11.285099029541016,\n",
       "  10.787110328674316,\n",
       "  11.759034156799316,\n",
       "  11.380647659301758,\n",
       "  11.470698356628418,\n",
       "  11.14773941040039,\n",
       "  10.292126655578613,\n",
       "  10.935887336730957,\n",
       "  9.85339069366455,\n",
       "  9.405237197875977,\n",
       "  10.312959671020508,\n",
       "  10.558627128601074,\n",
       "  10.004681587219238,\n",
       "  10.309605598449707,\n",
       "  10.008010864257812,\n",
       "  9.764168739318848,\n",
       "  9.306696891784668,\n",
       "  10.089029312133789,\n",
       "  9.471132278442383,\n",
       "  9.657130241394043,\n",
       "  9.266870498657227,\n",
       "  9.875692367553711,\n",
       "  9.597102165222168,\n",
       "  9.984114646911621,\n",
       "  9.095367431640625,\n",
       "  9.485024452209473,\n",
       "  9.968664169311523,\n",
       "  9.653998374938965,\n",
       "  9.651518821716309,\n",
       "  9.404168128967285,\n",
       "  9.607210159301758],\n",
       " 'val_mean_squared_error': [56.46902084350586,\n",
       "  35.36015701293945,\n",
       "  31.472993850708008,\n",
       "  25.21881675720215,\n",
       "  20.47102165222168,\n",
       "  19.10348892211914,\n",
       "  18.52971076965332,\n",
       "  17.50725746154785,\n",
       "  15.04313850402832,\n",
       "  15.51132583618164,\n",
       "  15.300108909606934,\n",
       "  13.972278594970703,\n",
       "  14.1371488571167,\n",
       "  13.305206298828125,\n",
       "  12.71243953704834,\n",
       "  12.552842140197754,\n",
       "  12.638833045959473,\n",
       "  12.115799903869629,\n",
       "  12.162726402282715,\n",
       "  11.285099029541016,\n",
       "  10.787110328674316,\n",
       "  11.759034156799316,\n",
       "  11.380647659301758,\n",
       "  11.470698356628418,\n",
       "  11.14773941040039,\n",
       "  10.292126655578613,\n",
       "  10.935887336730957,\n",
       "  9.85339069366455,\n",
       "  9.405237197875977,\n",
       "  10.312959671020508,\n",
       "  10.558627128601074,\n",
       "  10.004681587219238,\n",
       "  10.309605598449707,\n",
       "  10.008010864257812,\n",
       "  9.764168739318848,\n",
       "  9.306696891784668,\n",
       "  10.089029312133789,\n",
       "  9.471132278442383,\n",
       "  9.657130241394043,\n",
       "  9.266870498657227,\n",
       "  9.875692367553711,\n",
       "  9.597102165222168,\n",
       "  9.984114646911621,\n",
       "  9.095367431640625,\n",
       "  9.485024452209473,\n",
       "  9.968664169311523,\n",
       "  9.653998374938965,\n",
       "  9.651518821716309,\n",
       "  9.404168128967285,\n",
       "  9.607210159301758]}"
      ]
     },
     "execution_count": 21,
     "metadata": {},
     "output_type": "execute_result"
    }
   ],
   "source": [
    "history.history"
   ]
  },
  {
   "cell_type": "code",
   "execution_count": 25,
   "id": "69fd29bf",
   "metadata": {
    "ExecuteTime": {
     "end_time": "2022-12-24T08:49:51.661186Z",
     "start_time": "2022-12-24T08:49:51.464675Z"
    }
   },
   "outputs": [
    {
     "data": {
      "text/plain": [
       "Text(0.5, 0, 'Номер эпохи')"
      ]
     },
     "execution_count": 25,
     "metadata": {},
     "output_type": "execute_result"
    },
    {
     "data": {
      "image/png": "[encoded data removed]",
      "text/plain": [
       "<Figure size 640x480 with 1 Axes>"
      ]
     },
     "metadata": {},
     "output_type": "display_data"
    }
   ],
   "source": [
    "sb.scatterplot(\n",
    "    {'loss': history.history['loss'], 'validation loss': history.history['val_loss']})\n",
    "plt.ylabel(\"Значение функции потерь\")\n",
    "plt.xlabel(\"Номер эпохи\")"
   ]
  },
  {
   "cell_type": "code",
   "execution_count": 23,
   "id": "1fa573db",
   "metadata": {
    "ExecuteTime": {
     "end_time": "2022-12-24T05:02:29.466511Z",
     "start_time": "2022-12-24T05:02:29.286374Z"
    }
   },
   "outputs": [
    {
     "data": {
      "text/plain": [
       "<AxesSubplot:>"
      ]
     },
     "execution_count": 23,
     "metadata": {},
     "output_type": "execute_result"
    },
    {
     "data": {
      "image/png": "[encoded data removed]",
      "text/plain": [
       "<Figure size 640x480 with 1 Axes>"
      ]
     },
     "metadata": {},
     "output_type": "display_data"
    }
   ],
   "source": [
    "sb.scatterplot({'mean_squared_error': history.history['mean_squared_error'],\n",
    "               'val_mean_squared_error': history.history['val_mean_squared_error']})"
   ]
  },
  {
   "cell_type": "code",
   "execution_count": 83,
   "id": "b33141de",
   "metadata": {
    "ExecuteTime": {
     "end_time": "2022-12-25T07:52:37.188755Z",
     "start_time": "2022-12-25T07:52:37.162262Z"
    }
   },
   "outputs": [],
   "source": [
    "# Load wights file of the best model :\n",
    "wights_file = '../logs/weights_model_01/Weights-049--17.80290.hdf5'  # choose the best checkpoint\n",
    "model.load_weights(wights_file)  # load it\n",
    "model.compile(loss=keras.losses.MeanSquaredError(\n",
    "), optimizer=keras.optimizers.Adam(), metrics=[keras.metrics.MeanSquaredError()])"
   ]
  },
  {
   "cell_type": "code",
   "execution_count": 84,
   "id": "ca6ede59",
   "metadata": {
    "ExecuteTime": {
     "end_time": "2022-12-25T07:52:38.399220Z",
     "start_time": "2022-12-25T07:52:38.367062Z"
    }
   },
   "outputs": [
    {
     "name": "stdout",
     "output_type": "stream",
     "text": [
      "Model: \"sequential_3\"\n",
      "_________________________________________________________________\n",
      " Layer (type)                Output Shape              Param #   \n",
      "=================================================================\n",
      " flatten_3 (Flatten)         (None, 672)               0         \n",
      "                                                                 \n",
      " dense_21 (Dense)            (None, 256)               172288    \n",
      "                                                                 \n",
      " dense_22 (Dense)            (None, 128)               32896     \n",
      "                                                                 \n",
      " dense_23 (Dense)            (None, 64)                8256      \n",
      "                                                                 \n",
      " dense_24 (Dense)            (None, 64)                4160      \n",
      "                                                                 \n",
      " dense_25 (Dense)            (None, 64)                4160      \n",
      "                                                                 \n",
      " dense_26 (Dense)            (None, 64)                4160      \n",
      "                                                                 \n",
      " dense_27 (Dense)            (None, 6)                 390       \n",
      "                                                                 \n",
      "=================================================================\n",
      "Total params: 226,310\n",
      "Trainable params: 226,310\n",
      "Non-trainable params: 0\n",
      "_________________________________________________________________\n"
     ]
    }
   ],
   "source": [
    "model.summary(expand_nested=True)"
   ]
  },
  {
   "cell_type": "code",
   "execution_count": 85,
   "id": "8306656c",
   "metadata": {
    "ExecuteTime": {
     "end_time": "2022-12-25T07:52:38.884340Z",
     "start_time": "2022-12-25T07:52:38.878104Z"
    }
   },
   "outputs": [
    {
     "name": "stdout",
     "output_type": "stream",
     "text": [
      "0 <keras.layers.reshaping.flatten.Flatten object at 0x7fbcbc0bddf0>\n",
      "   no activation attribute\n",
      "1 <keras.layers.core.dense.Dense object at 0x7fbcbc10f6d0>\n",
      "     <function relu at 0x7fbcc01505e0>\n",
      "2 <keras.layers.core.dense.Dense object at 0x7fbcbc10faf0>\n",
      "     <function relu at 0x7fbcc01505e0>\n",
      "3 <keras.layers.core.dense.Dense object at 0x7fbcbc0c7bb0>\n",
      "     <function relu at 0x7fbcc01505e0>\n",
      "4 <keras.layers.core.dense.Dense object at 0x7fbcbc0c7280>\n",
      "     <function relu at 0x7fbcc01505e0>\n",
      "5 <keras.layers.core.dense.Dense object at 0x7fbcbc0c7430>\n",
      "     <function relu at 0x7fbcc01505e0>\n",
      "6 <keras.layers.core.dense.Dense object at 0x7fbcbc0c7730>\n",
      "     <function relu at 0x7fbcc01505e0>\n",
      "7 <keras.layers.core.dense.Dense object at 0x7fbcbc0c7a30>\n",
      "     <function linear at 0x7fbcc0154040>\n"
     ]
    }
   ],
   "source": [
    "for i, layer in enumerate(model.layers):\n",
    "    print(i, layer)\n",
    "    try:\n",
    "        print(\"    \", layer.activation)\n",
    "    except AttributeError:\n",
    "        print('   no activation attribute')"
   ]
  },
  {
   "cell_type": "markdown",
   "id": "f8bcdeed",
   "metadata": {},
   "source": [
    "# Check accuracy"
   ]
  },
  {
   "cell_type": "code",
   "execution_count": 86,
   "id": "154ceae4",
   "metadata": {
    "ExecuteTime": {
     "end_time": "2022-12-25T07:52:40.124284Z",
     "start_time": "2022-12-25T07:52:39.906925Z"
    }
   },
   "outputs": [
    {
     "name": "stdout",
     "output_type": "stream",
     "text": [
      "8/8 [==============================] - 0s 2ms/step - loss: 1.6711 - mean_squared_error: 1.6711\n",
      "Test loss: 1.6711068153381348\n",
      "Test accuracy: 1.6711068153381348\n"
     ]
    }
   ],
   "source": [
    "score = model.evaluate(X_test, y_test, verbose=1)\n",
    "print('Test loss:', score[0])\n",
    "print('Test accuracy:', score[1])"
   ]
  },
  {
   "cell_type": "code",
   "execution_count": 76,
   "id": "e99ec252",
   "metadata": {
    "ExecuteTime": {
     "end_time": "2022-12-25T07:52:08.683139Z",
     "start_time": "2022-12-25T07:52:08.678205Z"
    }
   },
   "outputs": [],
   "source": [
    "def to_spherical(coor):\n",
    "    vector = np.array(\n",
    "        [(coor[3]-coor[0]), (coor[4]-coor[1]), (coor[5]-coor[2])])\n",
    "    vectorsphere = np.array([np.sqrt((vector**2).sum()), (np.arctan(np.sqrt(\n",
    "        coor[0]**2 + coor[1]**2)/coor[2])*180/np.pi), (np.arctan(coor[1]/coor[0])*180/np.pi)])\n",
    "    return vectorsphere"
   ]
  },
  {
   "cell_type": "code",
   "execution_count": 77,
   "id": "70707b55",
   "metadata": {
    "ExecuteTime": {
     "end_time": "2022-12-25T07:52:10.217854Z",
     "start_time": "2022-12-25T07:52:10.082289Z"
    }
   },
   "outputs": [
    {
     "name": "stdout",
     "output_type": "stream",
     "text": [
      "1/1 [==============================] - 0s 80ms/step\n"
     ]
    },
    {
     "data": {
      "text/plain": [
       "array([[ 1.115236 , 26.631414 ,  4.094659 ,  7.047685 , -1.2362967,\n",
       "         2.7913187]], dtype=float32)"
      ]
     },
     "execution_count": 77,
     "metadata": {},
     "output_type": "execute_result"
    }
   ],
   "source": [
    "xtr = model.predict(X_train.iloc[:1])\n",
    "xtr"
   ]
  },
  {
   "cell_type": "code",
   "execution_count": 19,
   "id": "b84abb06",
   "metadata": {
    "ExecuteTime": {
     "end_time": "2022-12-25T05:40:07.397819Z",
     "start_time": "2022-12-25T05:40:07.392227Z"
    }
   },
   "outputs": [
    {
     "data": {
      "text/plain": [
       "array([28.52195549, 81.26659004, 87.6020392 ])"
      ]
     },
     "execution_count": 19,
     "metadata": {},
     "output_type": "execute_result"
    }
   ],
   "source": [
    "to_spherical(np.array(xtr)[0])"
   ]
  },
  {
   "cell_type": "code",
   "execution_count": 20,
   "id": "5dfa2f13",
   "metadata": {
    "ExecuteTime": {
     "end_time": "2022-12-25T05:40:08.043979Z",
     "start_time": "2022-12-25T05:40:08.030357Z"
    }
   },
   "outputs": [
    {
     "data": {
      "text/plain": [
       "array([ 1.115236 , 26.631414 ,  4.094659 ,  7.047685 , -1.2362967,\n",
       "        2.7913187], dtype=float32)"
      ]
     },
     "execution_count": 20,
     "metadata": {},
     "output_type": "execute_result"
    }
   ],
   "source": [
    "np.array(xtr)[0]"
   ]
  },
  {
   "cell_type": "code",
   "execution_count": 21,
   "id": "bd103800",
   "metadata": {
    "ExecuteTime": {
     "end_time": "2022-12-25T05:40:08.521474Z",
     "start_time": "2022-12-25T05:40:08.509775Z"
    }
   },
   "outputs": [
    {
     "data": {
      "text/html": [
       "<div>\n",
       "<style scoped>\n",
       "    .dataframe tbody tr th:only-of-type {\n",
       "        vertical-align: middle;\n",
       "    }\n",
       "\n",
       "    .dataframe tbody tr th {\n",
       "        vertical-align: top;\n",
       "    }\n",
       "\n",
       "    .dataframe thead th {\n",
       "        text-align: right;\n",
       "    }\n",
       "</style>\n",
       "<table border=\"1\" class=\"dataframe\">\n",
       "  <thead>\n",
       "    <tr style=\"text-align: right;\">\n",
       "      <th></th>\n",
       "      <th>x1</th>\n",
       "      <th>y1</th>\n",
       "      <th>z1</th>\n",
       "      <th>x2</th>\n",
       "      <th>y2</th>\n",
       "      <th>z2</th>\n",
       "    </tr>\n",
       "  </thead>\n",
       "  <tbody>\n",
       "    <tr>\n",
       "      <th>2022</th>\n",
       "      <td>1.55447</td>\n",
       "      <td>26.812</td>\n",
       "      <td>4.57539</td>\n",
       "      <td>6.72955</td>\n",
       "      <td>-0.801</td>\n",
       "      <td>3.28008</td>\n",
       "    </tr>\n",
       "  </tbody>\n",
       "</table>\n",
       "</div>"
      ],
      "text/plain": [
       "           x1      y1       z1       x2     y2       z2\n",
       "2022  1.55447  26.812  4.57539  6.72955 -0.801  3.28008"
      ]
     },
     "execution_count": 21,
     "metadata": {},
     "output_type": "execute_result"
    }
   ],
   "source": [
    "ytr = y_train.iloc[:1]\n",
    "ytr"
   ]
  },
  {
   "cell_type": "code",
   "execution_count": 22,
   "id": "2083cde7",
   "metadata": {
    "ExecuteTime": {
     "end_time": "2022-12-25T05:40:09.403359Z",
     "start_time": "2022-12-25T05:40:09.398067Z"
    }
   },
   "outputs": [
    {
     "data": {
      "text/plain": [
       "array([28.12360308, 80.33185186, 86.68189689])"
      ]
     },
     "execution_count": 22,
     "metadata": {},
     "output_type": "execute_result"
    }
   ],
   "source": [
    "to_spherical(np.array(ytr)[0])"
   ]
  },
  {
   "cell_type": "code",
   "execution_count": 23,
   "id": "9d90dae0",
   "metadata": {
    "ExecuteTime": {
     "end_time": "2022-12-25T05:40:09.956941Z",
     "start_time": "2022-12-25T05:40:09.879195Z"
    }
   },
   "outputs": [
    {
     "name": "stdout",
     "output_type": "stream",
     "text": [
      "1/1 [==============================] - 0s 23ms/step\n"
     ]
    },
    {
     "data": {
      "text/plain": [
       "array([[ 2.1533215 , -0.42524964,  4.8479724 ,  7.4783096 , 27.172688  ,\n",
       "         3.450058  ]], dtype=float32)"
      ]
     },
     "execution_count": 23,
     "metadata": {},
     "output_type": "execute_result"
    }
   ],
   "source": [
    "xtst = model.predict(X_test.iloc[:1])\n",
    "xtst"
   ]
  },
  {
   "cell_type": "code",
   "execution_count": 24,
   "id": "76871f6d",
   "metadata": {
    "ExecuteTime": {
     "end_time": "2022-12-25T05:40:10.185805Z",
     "start_time": "2022-12-25T05:40:10.169127Z"
    }
   },
   "outputs": [
    {
     "data": {
      "text/html": [
       "<div>\n",
       "<style scoped>\n",
       "    .dataframe tbody tr th:only-of-type {\n",
       "        vertical-align: middle;\n",
       "    }\n",
       "\n",
       "    .dataframe tbody tr th {\n",
       "        vertical-align: top;\n",
       "    }\n",
       "\n",
       "    .dataframe thead th {\n",
       "        text-align: right;\n",
       "    }\n",
       "</style>\n",
       "<table border=\"1\" class=\"dataframe\">\n",
       "  <thead>\n",
       "    <tr style=\"text-align: right;\">\n",
       "      <th></th>\n",
       "      <th>x1</th>\n",
       "      <th>y1</th>\n",
       "      <th>z1</th>\n",
       "      <th>x2</th>\n",
       "      <th>y2</th>\n",
       "      <th>z2</th>\n",
       "    </tr>\n",
       "  </thead>\n",
       "  <tbody>\n",
       "    <tr>\n",
       "      <th>1003</th>\n",
       "      <td>1.44569</td>\n",
       "      <td>-0.801</td>\n",
       "      <td>5.19047</td>\n",
       "      <td>8.06341</td>\n",
       "      <td>26.812</td>\n",
       "      <td>3.72607</td>\n",
       "    </tr>\n",
       "  </tbody>\n",
       "</table>\n",
       "</div>"
      ],
      "text/plain": [
       "           x1     y1       z1       x2      y2       z2\n",
       "1003  1.44569 -0.801  5.19047  8.06341  26.812  3.72607"
      ]
     },
     "execution_count": 24,
     "metadata": {},
     "output_type": "execute_result"
    }
   ],
   "source": [
    "ytst = y_test.iloc[:1]\n",
    "ytst"
   ]
  },
  {
   "cell_type": "code",
   "execution_count": 25,
   "id": "0982acf7",
   "metadata": {
    "ExecuteTime": {
     "end_time": "2022-12-25T05:40:10.450073Z",
     "start_time": "2022-12-25T05:40:10.440901Z"
    }
   },
   "outputs": [
    {
     "data": {
      "text/plain": [
       "array([ 1.44569, -0.801  ,  5.19047,  8.06341, 26.812  ,  3.72607])"
      ]
     },
     "execution_count": 25,
     "metadata": {},
     "output_type": "execute_result"
    }
   ],
   "source": [
    "np.array(ytst)[0]"
   ]
  },
  {
   "cell_type": "code",
   "execution_count": 26,
   "id": "a9437f4d",
   "metadata": {
    "ExecuteTime": {
     "end_time": "2022-12-25T05:40:10.746971Z",
     "start_time": "2022-12-25T05:40:10.739213Z"
    }
   },
   "outputs": [
    {
     "data": {
      "text/plain": [
       "array([ 28.14171028,  24.35854894, -11.17133276])"
      ]
     },
     "execution_count": 26,
     "metadata": {},
     "output_type": "execute_result"
    }
   ],
   "source": [
    "to_spherical(np.array(xtst)[0])"
   ]
  },
  {
   "cell_type": "code",
   "execution_count": 27,
   "id": "a1df9ba0",
   "metadata": {
    "ExecuteTime": {
     "end_time": "2022-12-25T05:40:11.191832Z",
     "start_time": "2022-12-25T05:40:11.179357Z"
    }
   },
   "outputs": [
    {
     "data": {
      "text/plain": [
       "array([ 28.43266527,  17.66263629, -28.98911346])"
      ]
     },
     "execution_count": 27,
     "metadata": {},
     "output_type": "execute_result"
    }
   ],
   "source": [
    "to_spherical(np.array(ytst)[0])"
   ]
  },
  {
   "cell_type": "code",
   "execution_count": 28,
   "id": "88c17f55",
   "metadata": {
    "ExecuteTime": {
     "end_time": "2022-12-25T05:40:11.683811Z",
     "start_time": "2022-12-25T05:40:11.567660Z"
    }
   },
   "outputs": [
    {
     "name": "stdout",
     "output_type": "stream",
     "text": [
      "8/8 [==============================] - 0s 2ms/step\n"
     ]
    },
    {
     "data": {
      "text/plain": [
       "array([ 2.1533208 , -0.42524892,  4.8479705 ,  7.47831   , 27.172688  ,\n",
       "        3.4500577 ], dtype=float32)"
      ]
     },
     "execution_count": 28,
     "metadata": {},
     "output_type": "execute_result"
    }
   ],
   "source": [
    "xtst = model.predict(X_test)\n",
    "np.array(xtst[0])"
   ]
  },
  {
   "cell_type": "code",
   "execution_count": 29,
   "id": "6c60cf76",
   "metadata": {
    "ExecuteTime": {
     "end_time": "2022-12-25T05:40:12.228024Z",
     "start_time": "2022-12-25T05:40:12.199919Z"
    }
   },
   "outputs": [],
   "source": [
    "x = np.zeros(shape=(len(xtst), 3))\n",
    "\n",
    "for i in range(len(xtst)):\n",
    "    x[i] = to_spherical(np.array(xtst[i]))\n",
    "\n",
    "x_theta = np.zeros(shape=(len(xtst)))\n",
    "x_phi = np.zeros(shape=(len(xtst)))\n",
    "\n",
    "for i in range(len(xtst)):\n",
    "    x_theta[i] = x[i][1]\n",
    "    x_phi[i] = x[i][2]"
   ]
  },
  {
   "cell_type": "code",
   "execution_count": 30,
   "id": "9ef4466e",
   "metadata": {
    "ExecuteTime": {
     "end_time": "2022-12-25T05:40:12.697971Z",
     "start_time": "2022-12-25T05:40:12.684020Z"
    }
   },
   "outputs": [
    {
     "data": {
      "text/plain": [
       "array([ 1.44569, -0.801  ,  5.19047,  8.06341, 26.812  ,  3.72607])"
      ]
     },
     "execution_count": 30,
     "metadata": {},
     "output_type": "execute_result"
    }
   ],
   "source": [
    "np.array(y_test.iloc[0])"
   ]
  },
  {
   "cell_type": "code",
   "execution_count": 31,
   "id": "4da93c54",
   "metadata": {
    "ExecuteTime": {
     "end_time": "2022-12-25T05:40:13.172862Z",
     "start_time": "2022-12-25T05:40:13.135731Z"
    }
   },
   "outputs": [],
   "source": [
    "y = np.zeros(shape=(len(y_test), 3))\n",
    "\n",
    "for i in range(len(y_test)):\n",
    "    y[i] = to_spherical(np.array(y_test.iloc[i]))\n",
    "\n",
    "y_theta = np.zeros(shape=(len(y_test)))\n",
    "y_phi = np.zeros(shape=(len(y_test)))\n",
    "\n",
    "for i in range(len(y_test)):\n",
    "    y_theta[i] = y[i][1]\n",
    "    y_phi[i] = y[i][2]"
   ]
  },
  {
   "cell_type": "code",
   "execution_count": 32,
   "id": "4f504fe6",
   "metadata": {
    "ExecuteTime": {
     "end_time": "2022-12-25T05:40:14.028244Z",
     "start_time": "2022-12-25T05:40:13.845143Z"
    }
   },
   "outputs": [
    {
     "data": {
      "text/plain": [
       "Text(0.5, 0, 'разность предсказаний зенитного угла, радианы')"
      ]
     },
     "execution_count": 32,
     "metadata": {},
     "output_type": "execute_result"
    },
    {
     "data": {
      "image/png": "[encoded data removed]",
      "text/plain": [
       "<Figure size 640x480 with 1 Axes>"
      ]
     },
     "metadata": {},
     "output_type": "display_data"
    }
   ],
   "source": [
    "sb.kdeplot((y_theta - x_theta))\n",
    "plt.ylabel(\"количество событий, *20\")\n",
    "plt.xlabel(\"разность предсказаний зенитного угла, радианы\")"
   ]
  },
  {
   "cell_type": "code",
   "execution_count": 33,
   "id": "c7d6aed0",
   "metadata": {
    "ExecuteTime": {
     "end_time": "2022-12-25T05:40:14.910549Z",
     "start_time": "2022-12-25T05:40:14.735912Z"
    }
   },
   "outputs": [
    {
     "data": {
      "text/plain": [
       "Text(0.5, 0, 'разность предсказаний азимутального угла, радианы')"
      ]
     },
     "execution_count": 33,
     "metadata": {},
     "output_type": "execute_result"
    },
    {
     "data": {
      "image/png": "[encoded data removed]",
      "text/plain": [
       "<Figure size 640x480 with 1 Axes>"
      ]
     },
     "metadata": {},
     "output_type": "display_data"
    }
   ],
   "source": [
    "sb.kdeplot((y_phi - x_phi))\n",
    "plt.ylabel(\"количество событий, *20\")\n",
    "plt.xlabel(\"разность предсказаний азимутального угла, радианы\")"
   ]
  },
  {
   "cell_type": "code",
   "execution_count": 34,
   "id": "212d39de",
   "metadata": {
    "ExecuteTime": {
     "end_time": "2022-12-25T05:40:15.686849Z",
     "start_time": "2022-12-25T05:40:15.537571Z"
    }
   },
   "outputs": [
    {
     "data": {
      "image/png": "[encoded data removed]",
      "text/plain": [
       "<Figure size 640x480 with 1 Axes>"
      ]
     },
     "metadata": {},
     "output_type": "display_data"
    }
   ],
   "source": [
    "plt.hist((y_theta - x_theta))\n",
    "plt.ylabel(\"количество событий\")\n",
    "plt.xlabel(\"разность предсказаний зенитного угла, градусы\")\n",
    "plt.show()"
   ]
  },
  {
   "cell_type": "code",
   "execution_count": 35,
   "id": "bda7fa22",
   "metadata": {
    "ExecuteTime": {
     "end_time": "2022-12-25T05:40:16.350214Z",
     "start_time": "2022-12-25T05:40:16.196748Z"
    }
   },
   "outputs": [
    {
     "data": {
      "image/png": "[encoded data removed]",
      "text/plain": [
       "<Figure size 640x480 with 1 Axes>"
      ]
     },
     "metadata": {},
     "output_type": "display_data"
    }
   ],
   "source": [
    "plt.hist((y_phi - x_phi))\n",
    "plt.ylabel(\"количество событий\")\n",
    "plt.xlabel(\"разность предсказаний азимутального угла, градусы\")\n",
    "plt.show()"
   ]
  },
  {
   "cell_type": "code",
   "execution_count": 36,
   "id": "53c02ae8",
   "metadata": {
    "ExecuteTime": {
     "end_time": "2022-12-25T05:40:16.774387Z",
     "start_time": "2022-12-25T05:40:16.766935Z"
    }
   },
   "outputs": [
    {
     "data": {
      "text/plain": [
       "-0.18158571424675587"
      ]
     },
     "execution_count": 36,
     "metadata": {},
     "output_type": "execute_result"
    }
   ],
   "source": [
    "(y_phi-x_phi).mean()"
   ]
  },
  {
   "cell_type": "code",
   "execution_count": 37,
   "id": "5c385093",
   "metadata": {
    "ExecuteTime": {
     "end_time": "2022-12-25T05:40:18.274581Z",
     "start_time": "2022-12-25T05:40:18.261644Z"
    }
   },
   "outputs": [
    {
     "data": {
      "text/plain": [
       "-0.15974967534290338"
      ]
     },
     "execution_count": 37,
     "metadata": {},
     "output_type": "execute_result"
    }
   ],
   "source": [
    "(y_theta-x_theta).mean()"
   ]
  },
  {
   "cell_type": "code",
   "execution_count": 38,
   "id": "1809a65e",
   "metadata": {
    "ExecuteTime": {
     "end_time": "2022-12-25T05:40:18.844596Z",
     "start_time": "2022-12-25T05:40:18.656779Z"
    }
   },
   "outputs": [
    {
     "data": {
      "text/plain": [
       "Text(0.5, 0, 'разность предсказания угла, градусы')"
      ]
     },
     "execution_count": 38,
     "metadata": {},
     "output_type": "execute_result"
    },
    {
     "data": {
      "image/png": "[encoded data removed]",
      "text/plain": [
       "<Figure size 640x480 with 1 Axes>"
      ]
     },
     "metadata": {},
     "output_type": "display_data"
    }
   ],
   "source": [
    "sb.kdeplot({'Азимутальный': (y_phi - x_phi),\n",
    "           'Зенитный': (y_theta - x_theta)}, cumulative=False)\n",
    "plt.ylabel(\"Значение функции распределения\")\n",
    "plt.xlabel(\"разность предсказания угла, градусы\")"
   ]
  },
  {
   "cell_type": "code",
   "execution_count": 39,
   "id": "b9332dc0",
   "metadata": {
    "ExecuteTime": {
     "end_time": "2022-12-25T05:40:22.411185Z",
     "start_time": "2022-12-25T05:40:22.405825Z"
    }
   },
   "outputs": [
    {
     "data": {
      "text/plain": [
       "9.174530709831153"
      ]
     },
     "execution_count": 39,
     "metadata": {},
     "output_type": "execute_result"
    }
   ],
   "source": [
    "np.std(y_phi - x_phi)"
   ]
  },
  {
   "cell_type": "code",
   "execution_count": 40,
   "id": "4f92637b",
   "metadata": {
    "ExecuteTime": {
     "end_time": "2022-12-25T05:40:23.277188Z",
     "start_time": "2022-12-25T05:40:23.263306Z"
    }
   },
   "outputs": [
    {
     "data": {
      "text/plain": [
       "4.473235097068585"
      ]
     },
     "execution_count": 40,
     "metadata": {},
     "output_type": "execute_result"
    }
   ],
   "source": [
    "np.std(y_theta - x_theta)"
   ]
  },
  {
   "cell_type": "code",
   "execution_count": 41,
   "id": "f3354b3d",
   "metadata": {
    "ExecuteTime": {
     "end_time": "2022-12-25T05:40:25.000074Z",
     "start_time": "2022-12-25T05:40:24.733864Z"
    }
   },
   "outputs": [],
   "source": [
    "y_df = np.zeros(shape=(len(df_y), 3))\n",
    "\n",
    "for i in range(len(df_y)):\n",
    "    y_df[i] = to_spherical(np.array(df_y.iloc[i]))\n",
    "\n",
    "y_theta_df = np.zeros(shape=(len(df_y)))\n",
    "y_phi_df = np.zeros(shape=(len(df_y)))\n",
    "\n",
    "for i in range(len(df_y)):\n",
    "    y_theta_df[i] = y_df[i][1]\n",
    "    y_phi_df[i] = y_df[i][2]"
   ]
  },
  {
   "cell_type": "code",
   "execution_count": 42,
   "id": "2eb2521d",
   "metadata": {
    "ExecuteTime": {
     "end_time": "2022-12-25T05:40:25.626114Z",
     "start_time": "2022-12-25T05:40:25.613854Z"
    }
   },
   "outputs": [
    {
     "data": {
      "text/plain": [
       "61.83526349995823"
      ]
     },
     "execution_count": 42,
     "metadata": {},
     "output_type": "execute_result"
    }
   ],
   "source": [
    "ymt = y_theta_df.mean()\n",
    "ymt"
   ]
  },
  {
   "cell_type": "code",
   "execution_count": 43,
   "id": "fbb72fa2",
   "metadata": {
    "ExecuteTime": {
     "end_time": "2022-12-25T05:40:26.314307Z",
     "start_time": "2022-12-25T05:40:26.307612Z"
    }
   },
   "outputs": [
    {
     "data": {
      "text/plain": [
       "84.43822102364032"
      ]
     },
     "execution_count": 43,
     "metadata": {},
     "output_type": "execute_result"
    }
   ],
   "source": [
    "y_theta_df.max()"
   ]
  },
  {
   "cell_type": "code",
   "execution_count": 44,
   "id": "af4b9cee",
   "metadata": {
    "ExecuteTime": {
     "end_time": "2022-12-25T05:40:26.894341Z",
     "start_time": "2022-12-25T05:40:26.882110Z"
    }
   },
   "outputs": [
    {
     "data": {
      "text/plain": [
       "34.58703149244091"
      ]
     },
     "execution_count": 44,
     "metadata": {},
     "output_type": "execute_result"
    }
   ],
   "source": [
    "ymp = y_phi_df.mean()\n",
    "ymp"
   ]
  },
  {
   "cell_type": "code",
   "execution_count": 45,
   "id": "a886ec61",
   "metadata": {
    "ExecuteTime": {
     "end_time": "2022-12-25T05:40:27.377026Z",
     "start_time": "2022-12-25T05:40:27.369677Z"
    }
   },
   "outputs": [
    {
     "data": {
      "text/plain": [
       "-45.53715926998277"
      ]
     },
     "execution_count": 45,
     "metadata": {},
     "output_type": "execute_result"
    }
   ],
   "source": [
    "y_phi_df.min()"
   ]
  },
  {
   "cell_type": "code",
   "execution_count": 46,
   "id": "32617fc9",
   "metadata": {
    "ExecuteTime": {
     "end_time": "2022-12-25T05:40:27.980593Z",
     "start_time": "2022-12-25T05:40:27.963473Z"
    }
   },
   "outputs": [
    {
     "data": {
      "text/plain": [
       "0.18088749799154638"
      ]
     },
     "execution_count": 46,
     "metadata": {},
     "output_type": "execute_result"
    }
   ],
   "source": [
    "tst = (np.abs(y_phi - x_phi)/np.abs(x_phi))\n",
    "tst[tst < 1.0].mean()"
   ]
  },
  {
   "cell_type": "code",
   "execution_count": 47,
   "id": "88df27d7",
   "metadata": {
    "ExecuteTime": {
     "end_time": "2022-12-25T05:40:29.874529Z",
     "start_time": "2022-12-25T05:40:29.869248Z"
    }
   },
   "outputs": [
    {
     "data": {
      "text/plain": [
       "0.08044135284058346"
      ]
     },
     "execution_count": 47,
     "metadata": {},
     "output_type": "execute_result"
    }
   ],
   "source": [
    "(np.abs(y_theta - x_theta)/np.abs(x_theta)).mean()"
   ]
  },
  {
   "cell_type": "code",
   "execution_count": 48,
   "id": "3aa4f7df",
   "metadata": {
    "ExecuteTime": {
     "end_time": "2022-12-25T05:40:31.302775Z",
     "start_time": "2022-12-25T05:40:31.298183Z"
    }
   },
   "outputs": [],
   "source": [
    "from scipy.stats import shapiro\n",
    "from scipy.stats import normaltest"
   ]
  },
  {
   "cell_type": "code",
   "execution_count": 49,
   "id": "8480c6bf",
   "metadata": {
    "ExecuteTime": {
     "end_time": "2022-12-25T05:40:32.287361Z",
     "start_time": "2022-12-25T05:40:32.281228Z"
    }
   },
   "outputs": [
    {
     "data": {
      "text/plain": [
       "ShapiroResult(statistic=0.7541794776916504, pvalue=5.007388502902272e-19)"
      ]
     },
     "execution_count": 49,
     "metadata": {},
     "output_type": "execute_result"
    }
   ],
   "source": [
    "shapiro(y_phi - x_phi)"
   ]
  },
  {
   "cell_type": "code",
   "execution_count": 50,
   "id": "ed331c30",
   "metadata": {
    "ExecuteTime": {
     "end_time": "2022-12-25T05:40:32.658644Z",
     "start_time": "2022-12-25T05:40:32.649468Z"
    }
   },
   "outputs": [
    {
     "data": {
      "text/plain": [
       "ShapiroResult(statistic=0.920789897441864, pvalue=2.8220070724671587e-10)"
      ]
     },
     "execution_count": 50,
     "metadata": {},
     "output_type": "execute_result"
    }
   ],
   "source": [
    "shapiro(y_theta - x_theta)"
   ]
  },
  {
   "cell_type": "code",
   "execution_count": 51,
   "id": "552eb28e",
   "metadata": {
    "ExecuteTime": {
     "end_time": "2022-12-25T05:40:32.930477Z",
     "start_time": "2022-12-25T05:40:32.917808Z"
    }
   },
   "outputs": [
    {
     "data": {
      "text/plain": [
       "NormaltestResult(statistic=122.09558949160669, pvalue=3.070998536905939e-27)"
      ]
     },
     "execution_count": 51,
     "metadata": {},
     "output_type": "execute_result"
    }
   ],
   "source": [
    "normaltest(y_phi - x_phi)"
   ]
  },
  {
   "cell_type": "code",
   "execution_count": 52,
   "id": "5c128d2e",
   "metadata": {
    "ExecuteTime": {
     "end_time": "2022-12-25T05:40:33.480920Z",
     "start_time": "2022-12-25T05:40:33.468459Z"
    }
   },
   "outputs": [
    {
     "data": {
      "text/plain": [
       "NormaltestResult(statistic=31.835318063536285, pvalue=1.221936162482125e-07)"
      ]
     },
     "execution_count": 52,
     "metadata": {},
     "output_type": "execute_result"
    }
   ],
   "source": [
    "normaltest(y_theta - x_theta)"
   ]
  },
  {
   "cell_type": "code",
   "execution_count": 64,
   "id": "a7fcb856",
   "metadata": {
    "ExecuteTime": {
     "end_time": "2022-12-25T05:41:50.395127Z",
     "start_time": "2022-12-25T05:41:50.363303Z"
    }
   },
   "outputs": [
    {
     "data": {
      "text/html": [
       "<div>\n",
       "<style scoped>\n",
       "    .dataframe tbody tr th:only-of-type {\n",
       "        vertical-align: middle;\n",
       "    }\n",
       "\n",
       "    .dataframe tbody tr th {\n",
       "        vertical-align: top;\n",
       "    }\n",
       "\n",
       "    .dataframe thead th {\n",
       "        text-align: right;\n",
       "    }\n",
       "</style>\n",
       "<table border=\"1\" class=\"dataframe\">\n",
       "  <thead>\n",
       "    <tr style=\"text-align: right;\">\n",
       "      <th></th>\n",
       "      <th>Азимутальный угол</th>\n",
       "    </tr>\n",
       "  </thead>\n",
       "  <tbody>\n",
       "    <tr>\n",
       "      <th>0</th>\n",
       "      <td>-17.817795</td>\n",
       "    </tr>\n",
       "    <tr>\n",
       "      <th>1</th>\n",
       "      <td>1.524581</td>\n",
       "    </tr>\n",
       "    <tr>\n",
       "      <th>2</th>\n",
       "      <td>6.766286</td>\n",
       "    </tr>\n",
       "    <tr>\n",
       "      <th>3</th>\n",
       "      <td>0.389563</td>\n",
       "    </tr>\n",
       "    <tr>\n",
       "      <th>4</th>\n",
       "      <td>7.916436</td>\n",
       "    </tr>\n",
       "    <tr>\n",
       "      <th>...</th>\n",
       "      <td>...</td>\n",
       "    </tr>\n",
       "    <tr>\n",
       "      <th>239</th>\n",
       "      <td>0.607714</td>\n",
       "    </tr>\n",
       "    <tr>\n",
       "      <th>240</th>\n",
       "      <td>-1.260655</td>\n",
       "    </tr>\n",
       "    <tr>\n",
       "      <th>241</th>\n",
       "      <td>-2.222229</td>\n",
       "    </tr>\n",
       "    <tr>\n",
       "      <th>242</th>\n",
       "      <td>-6.664933</td>\n",
       "    </tr>\n",
       "    <tr>\n",
       "      <th>243</th>\n",
       "      <td>-2.323451</td>\n",
       "    </tr>\n",
       "  </tbody>\n",
       "</table>\n",
       "<p>244 rows × 1 columns</p>\n",
       "</div>"
      ],
      "text/plain": [
       "     Азимутальный угол\n",
       "0           -17.817795\n",
       "1             1.524581\n",
       "2             6.766286\n",
       "3             0.389563\n",
       "4             7.916436\n",
       "..                 ...\n",
       "239           0.607714\n",
       "240          -1.260655\n",
       "241          -2.222229\n",
       "242          -6.664933\n",
       "243          -2.323451\n",
       "\n",
       "[244 rows x 1 columns]"
      ]
     },
     "execution_count": 64,
     "metadata": {},
     "output_type": "execute_result"
    }
   ],
   "source": [
    "tmp = (y_phi - x_phi)\n",
    "tmp = tmp[np.abs(tmp) < 30.0]\n",
    "tmp = pd.DataFrame(tmp, columns=[\"Азимутальный угол\"])\n",
    "tmp"
   ]
  },
  {
   "cell_type": "code",
   "execution_count": 65,
   "id": "6cdc2360",
   "metadata": {
    "ExecuteTime": {
     "end_time": "2022-12-25T05:41:51.757474Z",
     "start_time": "2022-12-25T05:41:51.384198Z"
    }
   },
   "outputs": [
    {
     "data": {
      "text/plain": [
       "Text(0, 0.5, 'Разность предсказанных и истинных значений')"
      ]
     },
     "execution_count": 65,
     "metadata": {},
     "output_type": "execute_result"
    },
    {
     "data": {
      "image/png": "[encoded data removed]",
      "text/plain": [
       "<Figure size 640x480 with 1 Axes>"
      ]
     },
     "metadata": {},
     "output_type": "display_data"
    }
   ],
   "source": [
    "sb.boxplot(tmp, whis=2.0, fliersize=6)\n",
    "plt.ylabel(\"Разность предсказанных и истинных значений\")"
   ]
  },
  {
   "cell_type": "code",
   "execution_count": 66,
   "id": "8149f1de",
   "metadata": {
    "ExecuteTime": {
     "end_time": "2022-12-25T05:41:53.871292Z",
     "start_time": "2022-12-25T05:41:53.829988Z"
    }
   },
   "outputs": [
    {
     "data": {
      "text/html": [
       "<div>\n",
       "<style scoped>\n",
       "    .dataframe tbody tr th:only-of-type {\n",
       "        vertical-align: middle;\n",
       "    }\n",
       "\n",
       "    .dataframe tbody tr th {\n",
       "        vertical-align: top;\n",
       "    }\n",
       "\n",
       "    .dataframe thead th {\n",
       "        text-align: right;\n",
       "    }\n",
       "</style>\n",
       "<table border=\"1\" class=\"dataframe\">\n",
       "  <thead>\n",
       "    <tr style=\"text-align: right;\">\n",
       "      <th></th>\n",
       "      <th>Зенитный угол</th>\n",
       "    </tr>\n",
       "  </thead>\n",
       "  <tbody>\n",
       "    <tr>\n",
       "      <th>0</th>\n",
       "      <td>-6.695913</td>\n",
       "    </tr>\n",
       "    <tr>\n",
       "      <th>1</th>\n",
       "      <td>-0.346215</td>\n",
       "    </tr>\n",
       "    <tr>\n",
       "      <th>2</th>\n",
       "      <td>-2.680127</td>\n",
       "    </tr>\n",
       "    <tr>\n",
       "      <th>3</th>\n",
       "      <td>1.624772</td>\n",
       "    </tr>\n",
       "    <tr>\n",
       "      <th>4</th>\n",
       "      <td>3.095481</td>\n",
       "    </tr>\n",
       "    <tr>\n",
       "      <th>...</th>\n",
       "      <td>...</td>\n",
       "    </tr>\n",
       "    <tr>\n",
       "      <th>245</th>\n",
       "      <td>1.481212</td>\n",
       "    </tr>\n",
       "    <tr>\n",
       "      <th>246</th>\n",
       "      <td>-2.005487</td>\n",
       "    </tr>\n",
       "    <tr>\n",
       "      <th>247</th>\n",
       "      <td>-13.210137</td>\n",
       "    </tr>\n",
       "    <tr>\n",
       "      <th>248</th>\n",
       "      <td>-5.902734</td>\n",
       "    </tr>\n",
       "    <tr>\n",
       "      <th>249</th>\n",
       "      <td>4.242792</td>\n",
       "    </tr>\n",
       "  </tbody>\n",
       "</table>\n",
       "<p>250 rows × 1 columns</p>\n",
       "</div>"
      ],
      "text/plain": [
       "     Зенитный угол\n",
       "0        -6.695913\n",
       "1        -0.346215\n",
       "2        -2.680127\n",
       "3         1.624772\n",
       "4         3.095481\n",
       "..             ...\n",
       "245       1.481212\n",
       "246      -2.005487\n",
       "247     -13.210137\n",
       "248      -5.902734\n",
       "249       4.242792\n",
       "\n",
       "[250 rows x 1 columns]"
      ]
     },
     "execution_count": 66,
     "metadata": {},
     "output_type": "execute_result"
    }
   ],
   "source": [
    "tmp = (y_theta - x_theta)\n",
    "tmp = tmp[np.abs(tmp) < 30.0]\n",
    "tmp = pd.DataFrame(tmp, columns=[\"Зенитный угол\"])\n",
    "tmp"
   ]
  },
  {
   "cell_type": "code",
   "execution_count": 67,
   "id": "c1a20d4d",
   "metadata": {
    "ExecuteTime": {
     "end_time": "2022-12-25T05:41:55.114412Z",
     "start_time": "2022-12-25T05:41:54.711974Z"
    }
   },
   "outputs": [
    {
     "data": {
      "text/plain": [
       "Text(0, 0.5, 'Разность предсказанных и истинных значений')"
      ]
     },
     "execution_count": 67,
     "metadata": {},
     "output_type": "execute_result"
    },
    {
     "data": {
      "image/png": "[encoded data removed]",
      "text/plain": [
       "<Figure size 640x480 with 1 Axes>"
      ]
     },
     "metadata": {},
     "output_type": "display_data"
    }
   ],
   "source": [
    "sb.boxplot(tmp, whis=2.0, fliersize=6)\n",
    "plt.ylabel(\"Разность предсказанных и истинных значений\")"
   ]
  },
  {
   "cell_type": "code",
   "execution_count": null,
   "id": "d59a4dc6",
   "metadata": {},
   "outputs": [],
   "source": []
  },
  {
   "cell_type": "code",
   "execution_count": null,
   "id": "65f506da",
   "metadata": {},
   "outputs": [],
   "source": []
  }
 ],
 "metadata": {
  "kernelspec": {
   "display_name": "Python 3 (ipykernel)",
   "language": "python",
   "name": "python3"
  },
  "language_info": {
   "codemirror_mode": {
    "name": "ipython",
    "version": 3
   },
   "file_extension": ".py",
   "mimetype": "text/x-python",
   "name": "python",
   "nbconvert_exporter": "python",
   "pygments_lexer": "ipython3",
   "version": "3.9.16"
  },
  "latex_envs": {
   "LaTeX_envs_menu_present": true,
   "autoclose": false,
   "autocomplete": true,
   "bibliofile": "biblio.bib",
   "cite_by": "apalike",
   "current_citInitial": 1,
   "eqLabelWithNumbers": true,
   "eqNumInitial": 1,
   "hotkeys": {
    "equation": "Ctrl-E",
    "itemize": "Ctrl-I"
   },
   "labels_anchors": false,
   "latex_user_defs": false,
   "report_style_numbering": false,
   "user_envs_cfg": false
  }
 },
 "nbformat": 4,
 "nbformat_minor": 5
}
