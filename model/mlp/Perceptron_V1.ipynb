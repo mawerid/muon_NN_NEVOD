{
 "cells": [
  {
   "cell_type": "markdown",
   "id": "04033266",
   "metadata": {},
   "source": [
    "# Import libraries"
   ]
  },
  {
   "cell_type": "code",
   "execution_count": 13,
   "id": "06703ff8",
   "metadata": {
    "ExecuteTime": {
     "end_time": "2022-12-25T05:39:36.857397Z",
     "start_time": "2022-12-25T05:39:36.854112Z"
    }
   },
   "source": [
    "import pandas as pd\n",
    "import numpy as np\n",
    "import matplotlib.pyplot as plt\n",
    "import seaborn as sb\n",
    "from sklearn.model_selection import train_test_split\n",
    "import tensorflow as tf\n",
    "import tensorflow.keras as keras\n",
    "from tensorflow.keras import layers\n",
    "from scipy import stats"
   ],
   "outputs": []
  },
  {
   "cell_type": "markdown",
   "id": "e17b0d23",
   "metadata": {},
   "source": [
    "# Prepare datasets"
   ]
  },
  {
   "cell_type": "code",
   "execution_count": 3,
   "id": "fda5702a",
   "metadata": {
    "ExecuteTime": {
     "end_time": "2022-12-25T05:39:38.425473Z",
     "start_time": "2022-12-25T05:39:38.233557Z"
    }
   },
   "source": [
    "df_x = pd.read_csv('../data/dataset_01/data.csv')\n",
    "df_y = pd.read_csv('../data/dataset_01/answer.csv')"
   ],
   "outputs": []
  },
  {
   "cell_type": "code",
   "execution_count": 4,
   "id": "680e424b",
   "metadata": {
    "ExecuteTime": {
     "end_time": "2022-12-25T05:39:38.700352Z",
     "start_time": "2022-12-25T05:39:38.647263Z"
    }
   },
   "source": [
    "df_x"
   ],
   "outputs": []
  },
  {
   "cell_type": "code",
   "execution_count": 5,
   "id": "b0f35760",
   "metadata": {
    "ExecuteTime": {
     "end_time": "2022-12-25T05:39:39.371568Z",
     "start_time": "2022-12-25T05:39:39.358341Z"
    }
   },
   "source": [
    "df_y"
   ],
   "outputs": []
  },
  {
   "cell_type": "code",
   "execution_count": 6,
   "id": "4c66af5b",
   "metadata": {
    "ExecuteTime": {
     "end_time": "2022-12-25T05:39:41.330829Z",
     "start_time": "2022-12-25T05:39:41.318090Z"
    }
   },
   "source": [
    "X_train, X_rem, y_train, y_rem = train_test_split(df_x, df_y, train_size=0.8)\n",
    "\n",
    "X_valid, X_test, y_valid, y_test = train_test_split(X_rem,\n",
    "                                                    y_rem,\n",
    "                                                    test_size=0.5)"
   ],
   "outputs": []
  },
  {
   "cell_type": "code",
   "execution_count": 7,
   "id": "abf6fa5e",
   "metadata": {
    "ExecuteTime": {
     "end_time": "2022-12-25T05:39:41.858911Z",
     "start_time": "2022-12-25T05:39:41.853734Z"
    }
   },
   "source": [
    "print(X_train.shape), print(y_train.shape)\n",
    "print(X_valid.shape), print(y_valid.shape)\n",
    "print(X_test.shape), print(y_test.shape)"
   ],
   "outputs": []
  },
  {
   "cell_type": "markdown",
   "id": "62f9fb8f",
   "metadata": {},
   "source": [
    "# Some diagrams"
   ]
  },
  {
   "cell_type": "code",
   "execution_count": 8,
   "id": "822df70f",
   "metadata": {
    "ExecuteTime": {
     "end_time": "2022-12-25T05:39:43.755291Z",
     "start_time": "2022-12-25T05:39:43.351233Z"
    }
   },
   "source": [
    "# вышло бесполезно пока, но я попробовал\n",
    "c_mat = df_y.corr()\n",
    "fir = plt.figure(figsize=(15, 15))\n",
    "\n",
    "sb.heatmap(c_mat, vmax=.8, square=True)\n",
    "plt.show()"
   ],
   "outputs": []
  },
  {
   "cell_type": "markdown",
   "id": "8337480f",
   "metadata": {},
   "source": [
    "# First NN (preceptron)"
   ]
  },
  {
   "cell_type": "code",
   "execution_count": 78,
   "id": "53874284",
   "metadata": {
    "ExecuteTime": {
     "end_time": "2022-12-25T07:52:17.769692Z",
     "start_time": "2022-12-25T07:52:17.688179Z"
    }
   },
   "source": [
    "model = keras.Sequential([\n",
    "    keras.Input(shape=(672, 1)),\n",
    "    layers.Flatten(),\n",
    "    layers.Dense(256, activation='relu'),\n",
    "    layers.Dense(128, activation='relu'),\n",
    "    layers.Dense(64, activation='relu'),\n",
    "    layers.Dense(64, activation='relu'),\n",
    "    layers.Dense(64, activation='relu'),\n",
    "    layers.Dense(64, activation='relu'),\n",
    "    layers.Dense(6, activation='linear'),\n",
    "])"
   ],
   "outputs": []
  },
  {
   "cell_type": "code",
   "execution_count": 70,
   "id": "7a0e3150",
   "metadata": {
    "ExecuteTime": {
     "end_time": "2022-12-25T07:51:58.783082Z",
     "start_time": "2022-12-25T07:51:58.759603Z"
    }
   },
   "source": [
    "model.compile(optimizer=keras.optimizers.Adam(),\n",
    "              loss=keras.losses.MeanSquaredError(),\n",
    "              metrics=[keras.metrics.MeanSquaredError()])"
   ],
   "outputs": []
  },
  {
   "cell_type": "code",
   "execution_count": 71,
   "id": "4513a488",
   "metadata": {
    "ExecuteTime": {
     "end_time": "2022-12-25T07:52:00.303869Z",
     "start_time": "2022-12-25T07:52:00.299792Z"
    }
   },
   "source": [
    "checkpoint_name = 'weights/Weights-{epoch:03d}--{val_loss:.5f}.hdf5'\n",
    "checkpoint = keras.callbacks.ModelCheckpoint(checkpoint_name,\n",
    "                                             monitor='val_loss',\n",
    "                                             verbose=1,\n",
    "                                             save_best_only=True,\n",
    "                                             mode='auto')\n",
    "callbacks_list = [checkpoint]"
   ],
   "outputs": []
  },
  {
   "cell_type": "code",
   "execution_count": 20,
   "id": "4e6c7a72",
   "metadata": {
    "ExecuteTime": {
     "end_time": "2022-12-24T05:02:23.841077Z",
     "start_time": "2022-12-24T05:02:20.047792Z"
    }
   },
   "source": [
    "history = model.fit(X_train,\n",
    "                    y_train,\n",
    "                    batch_size=256,\n",
    "                    epochs=50,\n",
    "                    verbose=0,\n",
    "                    validation_data=(X_valid, y_valid))  # ,\n",
    "# callbacks=callbacks_list)"
   ],
   "outputs": []
  },
  {
   "cell_type": "code",
   "execution_count": 21,
   "id": "c131013b",
   "metadata": {
    "ExecuteTime": {
     "end_time": "2022-12-24T05:02:26.575207Z",
     "start_time": "2022-12-24T05:02:26.560030Z"
    },
    "collapsed": true
   },
   "source": [
    "history.history"
   ],
   "outputs": []
  },
  {
   "cell_type": "code",
   "execution_count": 25,
   "id": "69fd29bf",
   "metadata": {
    "ExecuteTime": {
     "end_time": "2022-12-24T08:49:51.661186Z",
     "start_time": "2022-12-24T08:49:51.464675Z"
    }
   },
   "source": [
    "sb.scatterplot(\n",
    "    {'loss': history.history['loss'], 'validation loss': history.history['val_loss']})\n",
    "plt.ylabel(\"Значение функции потерь\")\n",
    "plt.xlabel(\"Номер эпохи\")"
   ],
   "outputs": []
  },
  {
   "cell_type": "code",
   "execution_count": 23,
   "id": "1fa573db",
   "metadata": {
    "ExecuteTime": {
     "end_time": "2022-12-24T05:02:29.466511Z",
     "start_time": "2022-12-24T05:02:29.286374Z"
    }
   },
   "source": [
    "sb.scatterplot({'mean_squared_error': history.history['mean_squared_error'],\n",
    "               'val_mean_squared_error': history.history['val_mean_squared_error']})"
   ],
   "outputs": []
  },
  {
   "cell_type": "code",
   "execution_count": 83,
   "id": "b33141de",
   "metadata": {
    "ExecuteTime": {
     "end_time": "2022-12-25T07:52:37.188755Z",
     "start_time": "2022-12-25T07:52:37.162262Z"
    }
   },
   "source": [
    "# Load wights file of the best model :\n",
    "wights_file = '../logs/weights_model_01/Weights-049--17.80290.hdf5'  # choose the best checkpoint\n",
    "model.load_weights(wights_file)  # load it\n",
    "model.compile(loss=keras.losses.MeanSquaredError(\n",
    "), optimizer=keras.optimizers.Adam(), metrics=[keras.metrics.MeanSquaredError()])"
   ],
   "outputs": []
  },
  {
   "cell_type": "code",
   "execution_count": 84,
   "id": "ca6ede59",
   "metadata": {
    "ExecuteTime": {
     "end_time": "2022-12-25T07:52:38.399220Z",
     "start_time": "2022-12-25T07:52:38.367062Z"
    }
   },
   "source": [
    "model.summary(expand_nested=True)"
   ],
   "outputs": []
  },
  {
   "cell_type": "code",
   "execution_count": 85,
   "id": "8306656c",
   "metadata": {
    "ExecuteTime": {
     "end_time": "2022-12-25T07:52:38.884340Z",
     "start_time": "2022-12-25T07:52:38.878104Z"
    }
   },
   "source": [
    "for i, layer in enumerate(model.layers):\n",
    "    print(i, layer)\n",
    "    try:\n",
    "        print(\"    \", layer.activation)\n",
    "    except AttributeError:\n",
    "        print('   no activation attribute')"
   ],
   "outputs": []
  },
  {
   "cell_type": "markdown",
   "id": "f8bcdeed",
   "metadata": {},
   "source": [
    "# Check accuracy"
   ]
  },
  {
   "cell_type": "code",
   "execution_count": 86,
   "id": "154ceae4",
   "metadata": {
    "ExecuteTime": {
     "end_time": "2022-12-25T07:52:40.124284Z",
     "start_time": "2022-12-25T07:52:39.906925Z"
    }
   },
   "source": [
    "score = model.evaluate(X_test, y_test, verbose=1)\n",
    "print('Test loss:', score[0])\n",
    "print('Test accuracy:', score[1])"
   ],
   "outputs": []
  },
  {
   "cell_type": "code",
   "execution_count": 76,
   "id": "e99ec252",
   "metadata": {
    "ExecuteTime": {
     "end_time": "2022-12-25T07:52:08.683139Z",
     "start_time": "2022-12-25T07:52:08.678205Z"
    }
   },
   "source": [
    "def to_spherical(coor):\n",
    "    vector = np.array(\n",
    "        [(coor[3]-coor[0]), (coor[4]-coor[1]), (coor[5]-coor[2])])\n",
    "    vectorsphere = np.array([np.sqrt((vector**2).sum()), (np.arctan(np.sqrt(\n",
    "        coor[0]**2 + coor[1]**2)/coor[2])*180/np.pi), (np.arctan(coor[1]/coor[0])*180/np.pi)])\n",
    "    return vectorsphere"
   ],
   "outputs": []
  },
  {
   "cell_type": "code",
   "execution_count": 77,
   "id": "70707b55",
   "metadata": {
    "ExecuteTime": {
     "end_time": "2022-12-25T07:52:10.217854Z",
     "start_time": "2022-12-25T07:52:10.082289Z"
    }
   },
   "source": [
    "xtr = model.predict(X_train.iloc[:1])\n",
    "xtr"
   ],
   "outputs": []
  },
  {
   "cell_type": "code",
   "execution_count": 19,
   "id": "b84abb06",
   "metadata": {
    "ExecuteTime": {
     "end_time": "2022-12-25T05:40:07.397819Z",
     "start_time": "2022-12-25T05:40:07.392227Z"
    }
   },
   "source": [
    "to_spherical(np.array(xtr)[0])"
   ],
   "outputs": []
  },
  {
   "cell_type": "code",
   "execution_count": 20,
   "id": "5dfa2f13",
   "metadata": {
    "ExecuteTime": {
     "end_time": "2022-12-25T05:40:08.043979Z",
     "start_time": "2022-12-25T05:40:08.030357Z"
    }
   },
   "source": [
    "np.array(xtr)[0]"
   ],
   "outputs": []
  },
  {
   "cell_type": "code",
   "execution_count": 21,
   "id": "bd103800",
   "metadata": {
    "ExecuteTime": {
     "end_time": "2022-12-25T05:40:08.521474Z",
     "start_time": "2022-12-25T05:40:08.509775Z"
    }
   },
   "source": [
    "ytr = y_train.iloc[:1]\n",
    "ytr"
   ],
   "outputs": []
  },
  {
   "cell_type": "code",
   "execution_count": 22,
   "id": "2083cde7",
   "metadata": {
    "ExecuteTime": {
     "end_time": "2022-12-25T05:40:09.403359Z",
     "start_time": "2022-12-25T05:40:09.398067Z"
    }
   },
   "source": [
    "to_spherical(np.array(ytr)[0])"
   ],
   "outputs": []
  },
  {
   "cell_type": "code",
   "execution_count": 23,
   "id": "9d90dae0",
   "metadata": {
    "ExecuteTime": {
     "end_time": "2022-12-25T05:40:09.956941Z",
     "start_time": "2022-12-25T05:40:09.879195Z"
    }
   },
   "source": [
    "xtst = model.predict(X_test.iloc[:1])\n",
    "xtst"
   ],
   "outputs": []
  },
  {
   "cell_type": "code",
   "execution_count": 24,
   "id": "76871f6d",
   "metadata": {
    "ExecuteTime": {
     "end_time": "2022-12-25T05:40:10.185805Z",
     "start_time": "2022-12-25T05:40:10.169127Z"
    }
   },
   "source": [
    "ytst = y_test.iloc[:1]\n",
    "ytst"
   ],
   "outputs": []
  },
  {
   "cell_type": "code",
   "execution_count": 25,
   "id": "0982acf7",
   "metadata": {
    "ExecuteTime": {
     "end_time": "2022-12-25T05:40:10.450073Z",
     "start_time": "2022-12-25T05:40:10.440901Z"
    }
   },
   "source": [
    "np.array(ytst)[0]"
   ],
   "outputs": []
  },
  {
   "cell_type": "code",
   "execution_count": 26,
   "id": "a9437f4d",
   "metadata": {
    "ExecuteTime": {
     "end_time": "2022-12-25T05:40:10.746971Z",
     "start_time": "2022-12-25T05:40:10.739213Z"
    }
   },
   "source": [
    "to_spherical(np.array(xtst)[0])"
   ],
   "outputs": []
  },
  {
   "cell_type": "code",
   "execution_count": 27,
   "id": "a1df9ba0",
   "metadata": {
    "ExecuteTime": {
     "end_time": "2022-12-25T05:40:11.191832Z",
     "start_time": "2022-12-25T05:40:11.179357Z"
    }
   },
   "source": [
    "to_spherical(np.array(ytst)[0])"
   ],
   "outputs": []
  },
  {
   "cell_type": "code",
   "execution_count": 28,
   "id": "88c17f55",
   "metadata": {
    "ExecuteTime": {
     "end_time": "2022-12-25T05:40:11.683811Z",
     "start_time": "2022-12-25T05:40:11.567660Z"
    }
   },
   "source": [
    "xtst = model.predict(X_test)\n",
    "np.array(xtst[0])"
   ],
   "outputs": []
  },
  {
   "cell_type": "code",
   "execution_count": 29,
   "id": "6c60cf76",
   "metadata": {
    "ExecuteTime": {
     "end_time": "2022-12-25T05:40:12.228024Z",
     "start_time": "2022-12-25T05:40:12.199919Z"
    }
   },
   "source": [
    "x = np.zeros(shape=(len(xtst), 3))\n",
    "\n",
    "for i in range(len(xtst)):\n",
    "    x[i] = to_spherical(np.array(xtst[i]))\n",
    "\n",
    "x_theta = np.zeros(shape=(len(xtst)))\n",
    "x_phi = np.zeros(shape=(len(xtst)))\n",
    "\n",
    "for i in range(len(xtst)):\n",
    "    x_theta[i] = x[i][1]\n",
    "    x_phi[i] = x[i][2]"
   ],
   "outputs": []
  },
  {
   "cell_type": "code",
   "execution_count": 30,
   "id": "9ef4466e",
   "metadata": {
    "ExecuteTime": {
     "end_time": "2022-12-25T05:40:12.697971Z",
     "start_time": "2022-12-25T05:40:12.684020Z"
    }
   },
   "source": [
    "np.array(y_test.iloc[0])"
   ],
   "outputs": []
  },
  {
   "cell_type": "code",
   "execution_count": 31,
   "id": "4da93c54",
   "metadata": {
    "ExecuteTime": {
     "end_time": "2022-12-25T05:40:13.172862Z",
     "start_time": "2022-12-25T05:40:13.135731Z"
    }
   },
   "source": [
    "y = np.zeros(shape=(len(y_test), 3))\n",
    "\n",
    "for i in range(len(y_test)):\n",
    "    y[i] = to_spherical(np.array(y_test.iloc[i]))\n",
    "\n",
    "y_theta = np.zeros(shape=(len(y_test)))\n",
    "y_phi = np.zeros(shape=(len(y_test)))\n",
    "\n",
    "for i in range(len(y_test)):\n",
    "    y_theta[i] = y[i][1]\n",
    "    y_phi[i] = y[i][2]"
   ],
   "outputs": []
  },
  {
   "cell_type": "code",
   "execution_count": 32,
   "id": "4f504fe6",
   "metadata": {
    "ExecuteTime": {
     "end_time": "2022-12-25T05:40:14.028244Z",
     "start_time": "2022-12-25T05:40:13.845143Z"
    }
   },
   "source": [
    "sb.kdeplot((y_theta - x_theta))\n",
    "plt.ylabel(\"количество событий, *20\")\n",
    "plt.xlabel(\"разность предсказаний зенитного угла, радианы\")"
   ],
   "outputs": []
  },
  {
   "cell_type": "code",
   "execution_count": 33,
   "id": "c7d6aed0",
   "metadata": {
    "ExecuteTime": {
     "end_time": "2022-12-25T05:40:14.910549Z",
     "start_time": "2022-12-25T05:40:14.735912Z"
    }
   },
   "source": [
    "sb.kdeplot((y_phi - x_phi))\n",
    "plt.ylabel(\"количество событий, *20\")\n",
    "plt.xlabel(\"разность предсказаний азимутального угла, радианы\")"
   ],
   "outputs": []
  },
  {
   "cell_type": "code",
   "execution_count": 34,
   "id": "212d39de",
   "metadata": {
    "ExecuteTime": {
     "end_time": "2022-12-25T05:40:15.686849Z",
     "start_time": "2022-12-25T05:40:15.537571Z"
    }
   },
   "source": [
    "plt.hist((y_theta - x_theta))\n",
    "plt.ylabel(\"количество событий\")\n",
    "plt.xlabel(\"разность предсказаний зенитного угла, градусы\")\n",
    "plt.show()"
   ],
   "outputs": []
  },
  {
   "cell_type": "code",
   "execution_count": 35,
   "id": "bda7fa22",
   "metadata": {
    "ExecuteTime": {
     "end_time": "2022-12-25T05:40:16.350214Z",
     "start_time": "2022-12-25T05:40:16.196748Z"
    }
   },
   "source": [
    "plt.hist((y_phi - x_phi))\n",
    "plt.ylabel(\"количество событий\")\n",
    "plt.xlabel(\"разность предсказаний азимутального угла, градусы\")\n",
    "plt.show()"
   ],
   "outputs": []
  },
  {
   "cell_type": "code",
   "execution_count": 36,
   "id": "53c02ae8",
   "metadata": {
    "ExecuteTime": {
     "end_time": "2022-12-25T05:40:16.774387Z",
     "start_time": "2022-12-25T05:40:16.766935Z"
    }
   },
   "source": [
    "(y_phi-x_phi).mean()"
   ],
   "outputs": []
  },
  {
   "cell_type": "code",
   "execution_count": 37,
   "id": "5c385093",
   "metadata": {
    "ExecuteTime": {
     "end_time": "2022-12-25T05:40:18.274581Z",
     "start_time": "2022-12-25T05:40:18.261644Z"
    }
   },
   "source": [
    "(y_theta-x_theta).mean()"
   ],
   "outputs": []
  },
  {
   "cell_type": "code",
   "execution_count": 38,
   "id": "1809a65e",
   "metadata": {
    "ExecuteTime": {
     "end_time": "2022-12-25T05:40:18.844596Z",
     "start_time": "2022-12-25T05:40:18.656779Z"
    }
   },
   "source": [
    "sb.kdeplot({'Азимутальный': (y_phi - x_phi),\n",
    "           'Зенитный': (y_theta - x_theta)}, cumulative=False)\n",
    "plt.ylabel(\"Значение функции распределения\")\n",
    "plt.xlabel(\"разность предсказания угла, градусы\")"
   ],
   "outputs": []
  },
  {
   "cell_type": "code",
   "execution_count": 39,
   "id": "b9332dc0",
   "metadata": {
    "ExecuteTime": {
     "end_time": "2022-12-25T05:40:22.411185Z",
     "start_time": "2022-12-25T05:40:22.405825Z"
    }
   },
   "source": [
    "np.std(y_phi - x_phi)"
   ],
   "outputs": []
  },
  {
   "cell_type": "code",
   "execution_count": 40,
   "id": "4f92637b",
   "metadata": {
    "ExecuteTime": {
     "end_time": "2022-12-25T05:40:23.277188Z",
     "start_time": "2022-12-25T05:40:23.263306Z"
    }
   },
   "source": [
    "np.std(y_theta - x_theta)"
   ],
   "outputs": []
  },
  {
   "cell_type": "code",
   "execution_count": 41,
   "id": "f3354b3d",
   "metadata": {
    "ExecuteTime": {
     "end_time": "2022-12-25T05:40:25.000074Z",
     "start_time": "2022-12-25T05:40:24.733864Z"
    }
   },
   "source": [
    "y_df = np.zeros(shape=(len(df_y), 3))\n",
    "\n",
    "for i in range(len(df_y)):\n",
    "    y_df[i] = to_spherical(np.array(df_y.iloc[i]))\n",
    "\n",
    "y_theta_df = np.zeros(shape=(len(df_y)))\n",
    "y_phi_df = np.zeros(shape=(len(df_y)))\n",
    "\n",
    "for i in range(len(df_y)):\n",
    "    y_theta_df[i] = y_df[i][1]\n",
    "    y_phi_df[i] = y_df[i][2]"
   ],
   "outputs": []
  },
  {
   "cell_type": "code",
   "execution_count": 42,
   "id": "2eb2521d",
   "metadata": {
    "ExecuteTime": {
     "end_time": "2022-12-25T05:40:25.626114Z",
     "start_time": "2022-12-25T05:40:25.613854Z"
    }
   },
   "source": [
    "ymt = y_theta_df.mean()\n",
    "ymt"
   ],
   "outputs": []
  },
  {
   "cell_type": "code",
   "execution_count": 43,
   "id": "fbb72fa2",
   "metadata": {
    "ExecuteTime": {
     "end_time": "2022-12-25T05:40:26.314307Z",
     "start_time": "2022-12-25T05:40:26.307612Z"
    }
   },
   "source": [
    "y_theta_df.max()"
   ],
   "outputs": []
  },
  {
   "cell_type": "code",
   "execution_count": 44,
   "id": "af4b9cee",
   "metadata": {
    "ExecuteTime": {
     "end_time": "2022-12-25T05:40:26.894341Z",
     "start_time": "2022-12-25T05:40:26.882110Z"
    }
   },
   "source": [
    "ymp = y_phi_df.mean()\n",
    "ymp"
   ],
   "outputs": []
  },
  {
   "cell_type": "code",
   "execution_count": 45,
   "id": "a886ec61",
   "metadata": {
    "ExecuteTime": {
     "end_time": "2022-12-25T05:40:27.377026Z",
     "start_time": "2022-12-25T05:40:27.369677Z"
    }
   },
   "source": [
    "y_phi_df.min()"
   ],
   "outputs": []
  },
  {
   "cell_type": "code",
   "execution_count": 46,
   "id": "32617fc9",
   "metadata": {
    "ExecuteTime": {
     "end_time": "2022-12-25T05:40:27.980593Z",
     "start_time": "2022-12-25T05:40:27.963473Z"
    }
   },
   "source": [
    "tst = (np.abs(y_phi - x_phi)/np.abs(x_phi))\n",
    "tst[tst < 1.0].mean()"
   ],
   "outputs": []
  },
  {
   "cell_type": "code",
   "execution_count": 47,
   "id": "88df27d7",
   "metadata": {
    "ExecuteTime": {
     "end_time": "2022-12-25T05:40:29.874529Z",
     "start_time": "2022-12-25T05:40:29.869248Z"
    }
   },
   "source": [
    "(np.abs(y_theta - x_theta)/np.abs(x_theta)).mean()"
   ],
   "outputs": []
  },
  {
   "cell_type": "code",
   "execution_count": 48,
   "id": "3aa4f7df",
   "metadata": {
    "ExecuteTime": {
     "end_time": "2022-12-25T05:40:31.302775Z",
     "start_time": "2022-12-25T05:40:31.298183Z"
    }
   },
   "source": [
    "from scipy.stats import shapiro\n",
    "from scipy.stats import normaltest"
   ],
   "outputs": []
  },
  {
   "cell_type": "code",
   "execution_count": 49,
   "id": "8480c6bf",
   "metadata": {
    "ExecuteTime": {
     "end_time": "2022-12-25T05:40:32.287361Z",
     "start_time": "2022-12-25T05:40:32.281228Z"
    }
   },
   "source": [
    "shapiro(y_phi - x_phi)"
   ],
   "outputs": []
  },
  {
   "cell_type": "code",
   "execution_count": 50,
   "id": "ed331c30",
   "metadata": {
    "ExecuteTime": {
     "end_time": "2022-12-25T05:40:32.658644Z",
     "start_time": "2022-12-25T05:40:32.649468Z"
    }
   },
   "source": [
    "shapiro(y_theta - x_theta)"
   ],
   "outputs": []
  },
  {
   "cell_type": "code",
   "execution_count": 51,
   "id": "552eb28e",
   "metadata": {
    "ExecuteTime": {
     "end_time": "2022-12-25T05:40:32.930477Z",
     "start_time": "2022-12-25T05:40:32.917808Z"
    }
   },
   "source": [
    "normaltest(y_phi - x_phi)"
   ],
   "outputs": []
  },
  {
   "cell_type": "code",
   "execution_count": 52,
   "id": "5c128d2e",
   "metadata": {
    "ExecuteTime": {
     "end_time": "2022-12-25T05:40:33.480920Z",
     "start_time": "2022-12-25T05:40:33.468459Z"
    }
   },
   "source": [
    "normaltest(y_theta - x_theta)"
   ],
   "outputs": []
  },
  {
   "cell_type": "code",
   "execution_count": 64,
   "id": "a7fcb856",
   "metadata": {
    "ExecuteTime": {
     "end_time": "2022-12-25T05:41:50.395127Z",
     "start_time": "2022-12-25T05:41:50.363303Z"
    }
   },
   "source": [
    "tmp = (y_phi - x_phi)\n",
    "tmp = tmp[np.abs(tmp) < 30.0]\n",
    "tmp = pd.DataFrame(tmp, columns=[\"Азимутальный угол\"])\n",
    "tmp"
   ],
   "outputs": []
  },
  {
   "cell_type": "code",
   "execution_count": 65,
   "id": "6cdc2360",
   "metadata": {
    "ExecuteTime": {
     "end_time": "2022-12-25T05:41:51.757474Z",
     "start_time": "2022-12-25T05:41:51.384198Z"
    }
   },
   "source": [
    "sb.boxplot(tmp, whis=2.0, fliersize=6)\n",
    "plt.ylabel(\"Разность предсказанных и истинных значений\")"
   ],
   "outputs": []
  },
  {
   "cell_type": "code",
   "execution_count": 66,
   "id": "8149f1de",
   "metadata": {
    "ExecuteTime": {
     "end_time": "2022-12-25T05:41:53.871292Z",
     "start_time": "2022-12-25T05:41:53.829988Z"
    }
   },
   "source": [
    "tmp = (y_theta - x_theta)\n",
    "tmp = tmp[np.abs(tmp) < 30.0]\n",
    "tmp = pd.DataFrame(tmp, columns=[\"Зенитный угол\"])\n",
    "tmp"
   ],
   "outputs": []
  },
  {
   "cell_type": "code",
   "execution_count": 67,
   "id": "c1a20d4d",
   "metadata": {
    "ExecuteTime": {
     "end_time": "2022-12-25T05:41:55.114412Z",
     "start_time": "2022-12-25T05:41:54.711974Z"
    }
   },
   "source": [
    "sb.boxplot(tmp, whis=2.0, fliersize=6)\n",
    "plt.ylabel(\"Разность предсказанных и истинных значений\")"
   ],
   "outputs": []
  },
  {
   "cell_type": "code",
   "execution_count": null,
   "id": "d59a4dc6",
   "metadata": {},
   "source": [],
   "outputs": []
  },
  {
   "cell_type": "code",
   "execution_count": null,
   "id": "65f506da",
   "metadata": {},
   "source": [],
   "outputs": []
  }
 ],
 "metadata": {
  "kernelspec": {
   "display_name": "Python 3 (ipykernel)",
   "language": "python",
   "name": "python3"
  },
  "language_info": {
   "codemirror_mode": {
    "name": "ipython",
    "version": 3
   },
   "file_extension": ".py",
   "mimetype": "text/x-python",
   "name": "python",
   "nbconvert_exporter": "python",
   "pygments_lexer": "ipython3",
   "version": "3.9.16"
  },
  "latex_envs": {
   "LaTeX_envs_menu_present": true,
   "autoclose": false,
   "autocomplete": true,
   "bibliofile": "biblio.bib",
   "cite_by": "apalike",
   "current_citInitial": 1,
   "eqLabelWithNumbers": true,
   "eqNumInitial": 1,
   "hotkeys": {
    "equation": "Ctrl-E",
    "itemize": "Ctrl-I"
   },
   "labels_anchors": false,
   "latex_user_defs": false,
   "report_style_numbering": false,
   "user_envs_cfg": false
  }
 },
 "nbformat": 4,
 "nbformat_minor": 5
}
